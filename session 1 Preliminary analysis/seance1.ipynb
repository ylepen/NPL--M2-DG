{
 "cells": [
  {
   "cell_type": "markdown",
   "id": "92f5d55e",
   "metadata": {},
   "source": [
    "# Preliminary Text Analysis\n",
    "We analyse a sample of speeches of countries' representatives at the annual UN General Assembly. \n",
    "\n",
    "We have the year, the identification number of the session, the country and the text of the speech\n",
    "\n",
    "Aims of this file\n",
    "\n",
    "1. Checking the data: checking for missing observations\n",
    "2. Computation of descriptive statistics\n",
    "- "
   ]
  },
  {
   "cell_type": "code",
   "execution_count": 12,
   "id": "fbed863b",
   "metadata": {},
   "outputs": [],
   "source": [
    "import pandas as pd\n",
    "import numpy as np\n",
    "import matplotlib.pyplot as plt\n",
    "import seaborn as sns "
   ]
  },
  {
   "cell_type": "code",
   "execution_count": 2,
   "id": "147a8a7a",
   "metadata": {},
   "outputs": [
    {
     "name": "stdout",
     "output_type": "stream",
     "text": [
      "0.13.2\n"
     ]
    }
   ],
   "source": [
    "print(sns.__version__)"
   ]
  },
  {
   "cell_type": "code",
   "execution_count": 3,
   "id": "63341306",
   "metadata": {},
   "outputs": [
    {
     "name": "stdout",
     "output_type": "stream",
     "text": [
      "1.26.4\n"
     ]
    }
   ],
   "source": [
    "print(np.__version__)"
   ]
  },
  {
   "cell_type": "markdown",
   "id": "b02fb3b5",
   "metadata": {},
   "source": [
    "We load the file and display two random records"
   ]
  },
  {
   "cell_type": "code",
   "execution_count": 4,
   "id": "5405f6ea",
   "metadata": {},
   "outputs": [],
   "source": [
    "file=\"un-general-debates.csv\"\n",
    "df=pd.read_csv(file)"
   ]
  },
  {
   "cell_type": "code",
   "execution_count": 5,
   "id": "f4366cfa",
   "metadata": {},
   "outputs": [
    {
     "data": {
      "text/html": [
       "<div>\n",
       "<style scoped>\n",
       "    .dataframe tbody tr th:only-of-type {\n",
       "        vertical-align: middle;\n",
       "    }\n",
       "\n",
       "    .dataframe tbody tr th {\n",
       "        vertical-align: top;\n",
       "    }\n",
       "\n",
       "    .dataframe thead th {\n",
       "        text-align: right;\n",
       "    }\n",
       "</style>\n",
       "<table border=\"1\" class=\"dataframe\">\n",
       "  <thead>\n",
       "    <tr style=\"text-align: right;\">\n",
       "      <th></th>\n",
       "      <th>session</th>\n",
       "      <th>year</th>\n",
       "      <th>country</th>\n",
       "      <th>text</th>\n",
       "    </tr>\n",
       "  </thead>\n",
       "  <tbody>\n",
       "    <tr>\n",
       "      <th>4174</th>\n",
       "      <td>53</td>\n",
       "      <td>1998</td>\n",
       "      <td>ZWE</td>\n",
       "      <td>At the outset I would\\nlike to congratulate Mr...</td>\n",
       "    </tr>\n",
       "    <tr>\n",
       "      <th>3692</th>\n",
       "      <td>60</td>\n",
       "      <td>2005</td>\n",
       "      <td>MKD</td>\n",
       "      <td>It gives me great pleasure to address this\\nfo...</td>\n",
       "    </tr>\n",
       "  </tbody>\n",
       "</table>\n",
       "</div>"
      ],
      "text/plain": [
       "      session  year country                                               text\n",
       "4174       53  1998     ZWE  At the outset I would\\nlike to congratulate Mr...\n",
       "3692       60  2005     MKD  It gives me great pleasure to address this\\nfo..."
      ]
     },
     "execution_count": 5,
     "metadata": {},
     "output_type": "execute_result"
    }
   ],
   "source": [
    "df.sample(2)"
   ]
  },
  {
   "cell_type": "markdown",
   "id": "34f64831",
   "metadata": {},
   "source": [
    "## Preliminary information about a dataframe"
   ]
  },
  {
   "cell_type": "code",
   "execution_count": 6,
   "id": "a51f12e7",
   "metadata": {},
   "outputs": [
    {
     "name": "stdout",
     "output_type": "stream",
     "text": [
      "<class 'pandas.core.frame.DataFrame'>\n",
      "RangeIndex: 7507 entries, 0 to 7506\n",
      "Data columns (total 4 columns):\n",
      " #   Column   Non-Null Count  Dtype \n",
      "---  ------   --------------  ----- \n",
      " 0   session  7507 non-null   int64 \n",
      " 1   year     7507 non-null   int64 \n",
      " 2   country  7507 non-null   object\n",
      " 3   text     7507 non-null   object\n",
      "dtypes: int64(2), object(2)\n",
      "memory usage: 234.7+ KB\n"
     ]
    }
   ],
   "source": [
    "df.info()"
   ]
  },
  {
   "cell_type": "code",
   "execution_count": 7,
   "id": "5845307f",
   "metadata": {},
   "outputs": [
    {
     "data": {
      "text/plain": [
       "Index(['session', 'year', 'country', 'text'], dtype='object')"
      ]
     },
     "execution_count": 7,
     "metadata": {},
     "output_type": "execute_result"
    }
   ],
   "source": [
    "df.columns"
   ]
  },
  {
   "cell_type": "code",
   "execution_count": 8,
   "id": "46e1a03e",
   "metadata": {},
   "outputs": [
    {
     "data": {
      "text/plain": [
       "session     int64\n",
       "year        int64\n",
       "country    object\n",
       "text       object\n",
       "dtype: object"
      ]
     },
     "execution_count": 8,
     "metadata": {},
     "output_type": "execute_result"
    }
   ],
   "source": [
    "df.dtypes"
   ]
  },
  {
   "cell_type": "code",
   "execution_count": 9,
   "id": "68e48e93",
   "metadata": {},
   "outputs": [
    {
     "data": {
      "text/html": [
       "<div>\n",
       "<style scoped>\n",
       "    .dataframe tbody tr th:only-of-type {\n",
       "        vertical-align: middle;\n",
       "    }\n",
       "\n",
       "    .dataframe tbody tr th {\n",
       "        vertical-align: top;\n",
       "    }\n",
       "\n",
       "    .dataframe thead th {\n",
       "        text-align: right;\n",
       "    }\n",
       "</style>\n",
       "<table border=\"1\" class=\"dataframe\">\n",
       "  <thead>\n",
       "    <tr style=\"text-align: right;\">\n",
       "      <th></th>\n",
       "      <th>session</th>\n",
       "      <th>year</th>\n",
       "    </tr>\n",
       "  </thead>\n",
       "  <tbody>\n",
       "    <tr>\n",
       "      <th>count</th>\n",
       "      <td>7507.000000</td>\n",
       "      <td>7507.000000</td>\n",
       "    </tr>\n",
       "    <tr>\n",
       "      <th>mean</th>\n",
       "      <td>49.610763</td>\n",
       "      <td>1994.610763</td>\n",
       "    </tr>\n",
       "    <tr>\n",
       "      <th>std</th>\n",
       "      <td>12.892155</td>\n",
       "      <td>12.892155</td>\n",
       "    </tr>\n",
       "    <tr>\n",
       "      <th>min</th>\n",
       "      <td>25.000000</td>\n",
       "      <td>1970.000000</td>\n",
       "    </tr>\n",
       "    <tr>\n",
       "      <th>25%</th>\n",
       "      <td>39.000000</td>\n",
       "      <td>1984.000000</td>\n",
       "    </tr>\n",
       "    <tr>\n",
       "      <th>50%</th>\n",
       "      <td>51.000000</td>\n",
       "      <td>1996.000000</td>\n",
       "    </tr>\n",
       "    <tr>\n",
       "      <th>75%</th>\n",
       "      <td>61.000000</td>\n",
       "      <td>2006.000000</td>\n",
       "    </tr>\n",
       "    <tr>\n",
       "      <th>max</th>\n",
       "      <td>70.000000</td>\n",
       "      <td>2015.000000</td>\n",
       "    </tr>\n",
       "  </tbody>\n",
       "</table>\n",
       "</div>"
      ],
      "text/plain": [
       "           session         year\n",
       "count  7507.000000  7507.000000\n",
       "mean     49.610763  1994.610763\n",
       "std      12.892155    12.892155\n",
       "min      25.000000  1970.000000\n",
       "25%      39.000000  1984.000000\n",
       "50%      51.000000  1996.000000\n",
       "75%      61.000000  2006.000000\n",
       "max      70.000000  2015.000000"
      ]
     },
     "execution_count": 9,
     "metadata": {},
     "output_type": "execute_result"
    }
   ],
   "source": [
    "df.describe() # restricted to numerical data"
   ]
  },
  {
   "cell_type": "markdown",
   "id": "22d2b745",
   "metadata": {},
   "source": [
    "## Overview of the data with Pandas\n",
    "1. Calculate summary statistics\n",
    "2. Check for missing values\n",
    "3. Plot distributions of interesting features\n",
    "4. Compare distributions across categories\n",
    "5. Visualize developments over time"
   ]
  },
  {
   "cell_type": "markdown",
   "id": "53d4cb32",
   "metadata": {},
   "source": [
    "### Summary statistics\n",
    "\n",
    "#### Computation of the lengths of each speach"
   ]
  },
  {
   "cell_type": "code",
   "execution_count": 10,
   "id": "2c595436",
   "metadata": {},
   "outputs": [],
   "source": [
    "df['length']=df['text'].str.len()"
   ]
  },
  {
   "cell_type": "code",
   "execution_count": 11,
   "id": "cf283872",
   "metadata": {},
   "outputs": [
    {
     "data": {
      "text/html": [
       "<div>\n",
       "<style scoped>\n",
       "    .dataframe tbody tr th:only-of-type {\n",
       "        vertical-align: middle;\n",
       "    }\n",
       "\n",
       "    .dataframe tbody tr th {\n",
       "        vertical-align: top;\n",
       "    }\n",
       "\n",
       "    .dataframe thead th {\n",
       "        text-align: right;\n",
       "    }\n",
       "</style>\n",
       "<table border=\"1\" class=\"dataframe\">\n",
       "  <thead>\n",
       "    <tr style=\"text-align: right;\">\n",
       "      <th></th>\n",
       "      <th>session</th>\n",
       "      <th>year</th>\n",
       "      <th>length</th>\n",
       "    </tr>\n",
       "  </thead>\n",
       "  <tbody>\n",
       "    <tr>\n",
       "      <th>count</th>\n",
       "      <td>7507.000000</td>\n",
       "      <td>7507.000000</td>\n",
       "      <td>7507.000000</td>\n",
       "    </tr>\n",
       "    <tr>\n",
       "      <th>mean</th>\n",
       "      <td>49.610763</td>\n",
       "      <td>1994.610763</td>\n",
       "      <td>17967.281604</td>\n",
       "    </tr>\n",
       "    <tr>\n",
       "      <th>std</th>\n",
       "      <td>12.892155</td>\n",
       "      <td>12.892155</td>\n",
       "      <td>7860.038463</td>\n",
       "    </tr>\n",
       "    <tr>\n",
       "      <th>min</th>\n",
       "      <td>25.000000</td>\n",
       "      <td>1970.000000</td>\n",
       "      <td>2362.000000</td>\n",
       "    </tr>\n",
       "    <tr>\n",
       "      <th>25%</th>\n",
       "      <td>39.000000</td>\n",
       "      <td>1984.000000</td>\n",
       "      <td>12077.000000</td>\n",
       "    </tr>\n",
       "    <tr>\n",
       "      <th>50%</th>\n",
       "      <td>51.000000</td>\n",
       "      <td>1996.000000</td>\n",
       "      <td>16424.000000</td>\n",
       "    </tr>\n",
       "    <tr>\n",
       "      <th>75%</th>\n",
       "      <td>61.000000</td>\n",
       "      <td>2006.000000</td>\n",
       "      <td>22479.500000</td>\n",
       "    </tr>\n",
       "    <tr>\n",
       "      <th>max</th>\n",
       "      <td>70.000000</td>\n",
       "      <td>2015.000000</td>\n",
       "      <td>72041.000000</td>\n",
       "    </tr>\n",
       "  </tbody>\n",
       "</table>\n",
       "</div>"
      ],
      "text/plain": [
       "           session         year        length\n",
       "count  7507.000000  7507.000000   7507.000000\n",
       "mean     49.610763  1994.610763  17967.281604\n",
       "std      12.892155    12.892155   7860.038463\n",
       "min      25.000000  1970.000000   2362.000000\n",
       "25%      39.000000  1984.000000  12077.000000\n",
       "50%      51.000000  1996.000000  16424.000000\n",
       "75%      61.000000  2006.000000  22479.500000\n",
       "max      70.000000  2015.000000  72041.000000"
      ]
     },
     "execution_count": 11,
     "metadata": {},
     "output_type": "execute_result"
    }
   ],
   "source": [
    "df.describe()"
   ]
  },
  {
   "cell_type": "code",
   "execution_count": 13,
   "id": "faf2e156",
   "metadata": {},
   "outputs": [
    {
     "data": {
      "text/plain": [
       "0       MDV\n",
       "1       FIN\n",
       "2       NER\n",
       "3       URY\n",
       "4       ZWE\n",
       "       ... \n",
       "7502    KAZ\n",
       "7503    LBR\n",
       "7504    BDI\n",
       "7505    HUN\n",
       "7506    KWT\n",
       "Name: country, Length: 7507, dtype: object"
      ]
     },
     "execution_count": 13,
     "metadata": {},
     "output_type": "execute_result"
    }
   ],
   "source": [
    "df['country']"
   ]
  },
  {
   "cell_type": "markdown",
   "id": "d5e355d2",
   "metadata": {},
   "source": [
    "How to obtain a summary for Strings by specifying include='0'"
   ]
  },
  {
   "cell_type": "code",
   "execution_count": 14,
   "id": "0ff71fba",
   "metadata": {},
   "outputs": [
    {
     "data": {
      "text/plain": [
       "count     7507\n",
       "unique     199\n",
       "top        IRN\n",
       "freq        46\n",
       "Name: country, dtype: object"
      ]
     },
     "execution_count": 14,
     "metadata": {},
     "output_type": "execute_result"
    }
   ],
   "source": [
    "df['country'].describe(include='0')"
   ]
  },
  {
   "cell_type": "markdown",
   "id": "1e47d478",
   "metadata": {},
   "source": [
    "## Checking for missing data"
   ]
  },
  {
   "cell_type": "code",
   "execution_count": 15,
   "id": "c52cf1fe",
   "metadata": {},
   "outputs": [
    {
     "data": {
      "text/plain": [
       "session    0\n",
       "year       0\n",
       "country    0\n",
       "text       0\n",
       "length     0\n",
       "dtype: int64"
      ]
     },
     "execution_count": 15,
     "metadata": {},
     "output_type": "execute_result"
    }
   ],
   "source": [
    "df.isna().sum()"
   ]
  },
  {
   "cell_type": "markdown",
   "id": "4d099fed",
   "metadata": {},
   "source": [
    "## Plotting value distribution"
   ]
  },
  {
   "cell_type": "markdown",
   "id": "90179759",
   "metadata": {},
   "source": [
    "Box-plot and histogram for numerical variables (the lengths of the speeches)\n"
   ]
  },
  {
   "cell_type": "code",
   "execution_count": 16,
   "id": "5a9b0ef4",
   "metadata": {},
   "outputs": [
    {
     "data": {
      "text/plain": [
       "<Axes: >"
      ]
     },
     "execution_count": 16,
     "metadata": {},
     "output_type": "execute_result"
    },
    {
     "data": {
      "image/png": "[encoded data removed]",
      "text/plain": [
       "<Figure size 640x480 with 1 Axes>"
      ]
     },
     "metadata": {},
     "output_type": "display_data"
    }
   ],
   "source": [
    "df['length'].plot(kind='box') # option vert=False pour le mettre à l'horizontale"
   ]
  },
  {
   "cell_type": "code",
   "execution_count": 17,
   "id": "ab215afe",
   "metadata": {},
   "outputs": [
    {
     "data": {
      "text/plain": [
       "<Axes: title={'center': 'Histogram of variable length'}, ylabel='Frequency'>"
      ]
     },
     "execution_count": 17,
     "metadata": {},
     "output_type": "execute_result"
    },
    {
     "data": {
      "image/png": "[encoded data removed]",
      "text/plain": [
       "<Figure size 640x480 with 1 Axes>"
      ]
     },
     "metadata": {},
     "output_type": "display_data"
    }
   ],
   "source": [
    "df['length'].plot(kind='hist',bins=30,title='Histogram of variable length') # bins=30 the numerical values are divided into 30 intervals of equal width"
   ]
  },
  {
   "cell_type": "markdown",
   "id": "a835bc44",
   "metadata": {},
   "source": [
    "## Comparing values across categories"
   ]
  },
  {
   "cell_type": "markdown",
   "id": "cbdc0791",
   "metadata": {},
   "source": [
    "- Comparisons of the distribution of variables across different categories of the data\n",
    "- Visualisation with boxplot and violin \n",
    "- Seaborn's catplot"
   ]
  },
  {
   "cell_type": "code",
   "execution_count": 18,
   "id": "42c1121d",
   "metadata": {},
   "outputs": [],
   "source": [
    "where = df['country'].isin(['USA','FRA','GBR'])"
   ]
  },
  {
   "cell_type": "code",
   "execution_count": 20,
   "id": "9223604e",
   "metadata": {},
   "outputs": [
    {
     "data": {
      "text/plain": [
       "<seaborn.axisgrid.FacetGrid at 0x259fd0afb60>"
      ]
     },
     "execution_count": 20,
     "metadata": {},
     "output_type": "execute_result"
    },
    {
     "data": {
      "image/png": "[encoded data removed]",
      "text/plain": [
       "<Figure size 511.111x500 with 1 Axes>"
      ]
     },
     "metadata": {},
     "output_type": "display_data"
    }
   ],
   "source": [
    "sns.catplot(data=df[where],x=\"country\",y=\"length\",kind=\"box\")"
   ]
  },
  {
   "cell_type": "markdown",
   "id": "37b2aad8",
   "metadata": {},
   "source": [
    "- The violin plot is a \"smoothed\" version of the boxplot\n",
    "- The frequencies are represented by the width of the violin body"
   ]
  },
  {
   "cell_type": "code",
   "execution_count": 21,
   "id": "4cb0050d",
   "metadata": {},
   "outputs": [
    {
     "data": {
      "text/plain": [
       "<seaborn.axisgrid.FacetGrid at 0x2598df17f50>"
      ]
     },
     "execution_count": 21,
     "metadata": {},
     "output_type": "execute_result"
    },
    {
     "data": {
      "image/png": "[encoded data removed]",
      "text/plain": [
       "<Figure size 511.111x500 with 1 Axes>"
      ]
     },
     "metadata": {},
     "output_type": "display_data"
    }
   ],
   "source": [
    "sns.catplot(data=df[where],x=\"country\",y=\"length\",kind=\"violin\")"
   ]
  },
  {
   "cell_type": "markdown",
   "id": "84a920bd",
   "metadata": {},
   "source": [
    "## Vizualizing Developments over time\n",
    "\n",
    "- When data have date or time attributes \n",
    "- Example: representing the number of countries per year (one speech by country every year)\n"
   ]
  },
  {
   "cell_type": "code",
   "execution_count": 22,
   "id": "c63f4261-ab7e-479a-ae03-c9d356158650",
   "metadata": {},
   "outputs": [
    {
     "data": {
      "text/plain": [
       "year\n",
       "1970     70\n",
       "1971    116\n",
       "1972    125\n",
       "1973    120\n",
       "1974    129\n",
       "1975    126\n",
       "1976    134\n",
       "1977    140\n",
       "1978    141\n",
       "1979    144\n",
       "1980    149\n",
       "1981    145\n",
       "1982    147\n",
       "1983    149\n",
       "1984    150\n",
       "1985    137\n",
       "1986    149\n",
       "1987    152\n",
       "1988    154\n",
       "1989    153\n",
       "1990    156\n",
       "1991    162\n",
       "1992    167\n",
       "1993    175\n",
       "1994    178\n",
       "1995    172\n",
       "1996    181\n",
       "1997    176\n",
       "1998    181\n",
       "1999    181\n",
       "2000    178\n",
       "2001    189\n",
       "2002    188\n",
       "2003    189\n",
       "2004    192\n",
       "2005    185\n",
       "2006    193\n",
       "2007    191\n",
       "2008    192\n",
       "2009    193\n",
       "2010    189\n",
       "2011    194\n",
       "2012    195\n",
       "2013    193\n",
       "2014    194\n",
       "2015    193\n",
       "dtype: int64"
      ]
     },
     "execution_count": 22,
     "metadata": {},
     "output_type": "execute_result"
    }
   ],
   "source": [
    "df.groupby('year').size()"
   ]
  },
  {
   "cell_type": "code",
   "execution_count": 23,
   "id": "eea93280",
   "metadata": {},
   "outputs": [
    {
     "data": {
      "text/plain": [
       "<Axes: title={'center': 'Number of countries'}, xlabel='year'>"
      ]
     },
     "execution_count": 23,
     "metadata": {},
     "output_type": "execute_result"
    },
    {
     "data": {
      "image/png": "[encoded data removed]",
      "text/plain": [
       "<Figure size 640x480 with 1 Axes>"
      ]
     },
     "metadata": {},
     "output_type": "display_data"
    }
   ],
   "source": [
    "df.groupby('year').size().plot(title=\"Number of countries\")"
   ]
  },
  {
   "cell_type": "markdown",
   "id": "6a2a181c",
   "metadata": {},
   "source": [
    "Computation of the average speech length by year"
   ]
  },
  {
   "cell_type": "code",
   "execution_count": 24,
   "id": "c9ce6005",
   "metadata": {},
   "outputs": [
    {
     "data": {
      "text/plain": [
       "<Axes: title={'center': 'Avg. Speech Length'}, xlabel='year'>"
      ]
     },
     "execution_count": 24,
     "metadata": {},
     "output_type": "execute_result"
    },
    {
     "data": {
      "image/png": "[encoded data removed]",
      "text/plain": [
       "<Figure size 640x480 with 1 Axes>"
      ]
     },
     "metadata": {},
     "output_type": "display_data"
    }
   ],
   "source": [
    "df.groupby('year').agg({\"length\":\"mean\"}).plot(title=\"Avg. Speech Length\", ylim=(0,30000))"
   ]
  },
  {
   "cell_type": "markdown",
   "id": "8668d2ab",
   "metadata": {},
   "source": [
    "# Building a Simple Text Processing Pipeline"
   ]
  },
  {
   "cell_type": "markdown",
   "id": "aadd8406-f228-438f-8a96-dad969b3eef4",
   "metadata": {},
   "source": [
    "- Tranformation of the source text \n",
    "- Three steps:\n",
    "    1. Case-folding into lowercase\n",
    "    2. Tokenization\n",
    "    3. Stop word removal\n",
    "- Final output: **prepared tokens**"
   ]
  },
  {
   "cell_type": "markdown",
   "id": "5fa30652-78d6-4286-8445-af2d14618e7b",
   "metadata": {},
   "source": [
    "## Performing Tokenization\n",
    "\n",
    "- Tokenization is the process of extracting words from a sequence of characters\n",
    "- In Western languages, words are separated by space and punctuation most of the time\n",
    "- We present a simple tokenizer based on regular expressions and show how to use an arbitrary stop words list\n",
    "- We use Python libraries re and regex"
   ]
  },
  {
   "cell_type": "code",
   "execution_count": 25,
   "id": "35382026",
   "metadata": {},
   "outputs": [],
   "source": [
    "import regex as re"
   ]
  },
  {
   "cell_type": "markdown",
   "id": "879bc64b",
   "metadata": {},
   "source": [
    "#### Building a function which perform tokenization"
   ]
  },
  {
   "cell_type": "code",
   "execution_count": 26,
   "id": "27630a05",
   "metadata": {},
   "outputs": [],
   "source": [
    "def tokenize(text):\n",
    "    return re.findall(r'[\\w-]*\\p{L}[\\w-]*',text)"
   ]
  },
  {
   "cell_type": "code",
   "execution_count": 27,
   "id": "36bc6e33",
   "metadata": {},
   "outputs": [
    {
     "name": "stdout",
     "output_type": "stream",
     "text": [
      "For/the/meetings/before/the/transcripts/were/produced/from/the/original/raw/transcripts/in/the/FOMC/Secretariat/s/files\n"
     ]
    }
   ],
   "source": [
    "test=\"For the meetings before 1994, the transcripts were produced from the original, raw transcripts in the FOMC Secretariat's files\"\n",
    "tokens=tokenize(test)\n",
    "print(\"/\".join(tokens))\n"
   ]
  },
  {
   "cell_type": "markdown",
   "id": "9c836caf",
   "metadata": {},
   "source": [
    "## Treating stop words\n",
    "- The most frequent words are common words: auxiliary verbs, pronouns, adverbs, determiners ( a word that is used before a noun to show which particular example of the noun you are referring to),...\n",
    "- These words are called **stop words**  \n",
    "- not very informative about the content of a text, but very frequent\n",
    "- stop words are therefore frequently removed from the text\n",
    "- **stop words are removed according to a predefined list** \n",
    "- those lists are available for many languages\n",
    "- we consider an example with NLTK list of stop words\n"
   ]
  },
  {
   "cell_type": "code",
   "execution_count": 28,
   "id": "8e471e72-cc8f-4a62-9fdf-c5128af0e6cd",
   "metadata": {},
   "outputs": [
    {
     "name": "stderr",
     "output_type": "stream",
     "text": [
      "[nltk_data] Downloading package stopwords to\n",
      "[nltk_data]     C:\\Users\\ylepen\\AppData\\Roaming\\nltk_data...\n",
      "[nltk_data]   Package stopwords is already up-to-date!\n"
     ]
    },
    {
     "data": {
      "text/plain": [
       "True"
      ]
     },
     "execution_count": 28,
     "metadata": {},
     "output_type": "execute_result"
    }
   ],
   "source": [
    "import nltk\n",
    "nltk.download('stopwords')"
   ]
  },
  {
   "cell_type": "code",
   "execution_count": 29,
   "id": "aa4176c7",
   "metadata": {},
   "outputs": [
    {
     "name": "stdout",
     "output_type": "stream",
     "text": [
      "{'through', 'down', \"you're\", 'over', 'can', 'you', 'been', 'were', \"you've\", 'into', \"haven't\", 'just', \"needn't\", 'a', 'ourselves', 'm', 'doesn', 'any', 'are', 'wasn', 'the', 'she', 'off', 'shouldn', 'more', 'again', 'only', 'further', 'ours', 'here', 'for', 'up', \"wouldn't\", 'some', 'if', 're', 'we', 'hasn', 'i', \"that'll\", 'am', 'whom', 't', 'o', 'which', \"didn't\", 'mightn', 'about', 'few', 'as', 'now', 'how', 'had', 'has', 'its', 'him', 'most', \"isn't\", 'than', 'hers', 'don', 'or', 'your', 'her', 'yours', 'didn', 'y', 'nor', 'there', 'needn', 'between', 'with', 'wouldn', 'was', 'what', \"don't\", 'haven', 'while', 'above', \"shouldn't\", 'yourselves', 'and', 'do', 'other', 'below', 'very', 'where', 'weren', \"weren't\", \"aren't\", 'from', 'after', 'herself', 'theirs', 'same', \"mustn't\", 'of', 'to', 'such', \"you'd\", 'because', \"you'll\", 'isn', 'does', 'own', 'is', 'me', 'my', 'all', 'in', 'd', 'he', 'when', 'who', 'each', 'before', 'it', 'them', \"she's\", \"should've\", \"hasn't\", 'aren', 'so', 'under', 'that', 'having', 'why', 'their', 'myself', 'his', 'during', \"shan't\", 'both', 'being', 'will', 'be', \"wasn't\", 'ma', \"hadn't\", 'our', 'on', 'those', 'doing', 'mustn', 'yourself', 'hadn', 'itself', 'himself', 've', 'then', 'until', 'should', 'no', \"couldn't\", 'this', 'shan', 'have', 'at', \"won't\", \"it's\", 'these', 'ain', 'an', 'won', \"mightn't\", 'couldn', 'not', 'too', 'against', 'themselves', 'but', 's', 'll', 'by', \"doesn't\", 'out', 'they', 'once', 'did'}\n"
     ]
    }
   ],
   "source": [
    "# Import stopwords from NLTK\n",
    "\n",
    "stopwords=set(nltk.corpus.stopwords.words('english'))\n",
    "print(stopwords)"
   ]
  },
  {
   "cell_type": "code",
   "execution_count": 30,
   "id": "b5e2b751",
   "metadata": {},
   "outputs": [
    {
     "data": {
      "text/plain": [
       "179"
      ]
     },
     "execution_count": 30,
     "metadata": {},
     "output_type": "execute_result"
    }
   ],
   "source": [
    "len(stopwords)"
   ]
  },
  {
   "cell_type": "markdown",
   "id": "a8317f89-cc16-4b81-b907-a7ec96d0f39e",
   "metadata": {},
   "source": [
    "#### Comments\n",
    "- not of a lot of stop words in this list\n",
    "- some inconsistencies: \"has\" is not in the list but \"hasn't\" belongs to it\n",
    "- be cautious when using stop words lists and check if they are in line with the objectives of the analysis"
   ]
  },
  {
   "cell_type": "code",
   "execution_count": 34,
   "id": "f2e7c57e-e7f5-4955-9b2e-56aa37800ea9",
   "metadata": {},
   "outputs": [
    {
     "ename": "ModuleNotFoundError",
     "evalue": "No module named 'en_core_web_sm'",
     "output_type": "error",
     "traceback": [
      "\u001b[1;31m---------------------------------------------------------------------------\u001b[0m",
      "\u001b[1;31mModuleNotFoundError\u001b[0m                       Traceback (most recent call last)",
      "Cell \u001b[1;32mIn[34], line 2\u001b[0m\n\u001b[0;32m      1\u001b[0m \u001b[38;5;28;01mimport\u001b[39;00m \u001b[38;5;21;01mspacy\u001b[39;00m \n\u001b[1;32m----> 2\u001b[0m \u001b[38;5;28;01mimport\u001b[39;00m \u001b[38;5;21;01men_core_web_sm\u001b[39;00m\n\u001b[0;32m      3\u001b[0m en \u001b[38;5;241m=\u001b[39m en_core_web_sm\u001b[38;5;241m.\u001b[39mload()\n\u001b[0;32m      5\u001b[0m \u001b[38;5;66;03m# Import stopword from spaCy\u001b[39;00m\n\u001b[0;32m      6\u001b[0m \u001b[38;5;66;03m#import spacy \u001b[39;00m\n\u001b[0;32m      7\u001b[0m \n\u001b[0;32m      8\u001b[0m \u001b[38;5;66;03m# Import stopword from spaCy\u001b[39;00m\n\u001b[0;32m      9\u001b[0m \u001b[38;5;66;03m#import spacy \u001b[39;00m\n\u001b[0;32m     10\u001b[0m \u001b[38;5;66;03m#loading the english language small model of spacy\u001b[39;00m\n",
      "\u001b[1;31mModuleNotFoundError\u001b[0m: No module named 'en_core_web_sm'"
     ]
    }
   ],
   "source": [
    "import spacy \n",
    "import en_core_web_sm\n",
    "en = en_core_web_sm.load()\n",
    "\n",
    "# Import stopword from spaCy\n",
    "#import spacy \n",
    "\n",
    "# Import stopword from spaCy\n",
    "#import spacy \n",
    "#loading the english language small model of spacy\n",
    "\n",
    "stopwords_spa = en.Defaults.stop_words\n",
    "\n",
    "print(len(stopwords_spa))\n",
    "print(stopwords_spa)"
   ]
  },
  {
   "cell_type": "markdown",
   "id": "086bcd4c",
   "metadata": {},
   "source": [
    "#### Inclusion of domain-specific stop words\n",
    "\n",
    "- We can add domain-specific stop word to a predefined list with operator union/or |\n",
    "- We can exclude some specific stop word from a list with operator difference -"
   ]
  },
  {
   "cell_type": "code",
   "execution_count": null,
   "id": "4f57bf97",
   "metadata": {},
   "outputs": [],
   "source": [
    "include_stopwords={'dear','regards','must','would','also'}\n",
    "exclude_stopwords={'against'}\n",
    "\n",
    "stopwords_spa |= include_stopwords\n",
    "stopwords_spa -= exclude_stopwords\n"
   ]
  },
  {
   "cell_type": "markdown",
   "id": "44ff4abb",
   "metadata": {},
   "source": [
    "#### Other options to set a list of stop words\n",
    "- remove words with a frequency above a given percentage\n",
    "\n",
    "#### A function to remove stopwords"
   ]
  },
  {
   "cell_type": "code",
   "execution_count": null,
   "id": "5e8115f0",
   "metadata": {},
   "outputs": [],
   "source": [
    "def remove_stop(tokens):\n",
    "    return [t for t in tokens if t.lower() not in stopwords]"
   ]
  },
  {
   "cell_type": "markdown",
   "id": "f1131d43",
   "metadata": {},
   "source": [
    "## Processing a Pipeline with one line of code"
   ]
  },
  {
   "cell_type": "markdown",
   "id": "defad020",
   "metadata": {},
   "source": [
    "- We add a new column called **tokens** to the DataFrame containing the documents.\n",
    "- This column will contain lowercase, tokenized text, without stop words\n",
    "- We build a processing pipeline which implement all these tasks"
   ]
  },
  {
   "cell_type": "code",
   "execution_count": null,
   "id": "d3dbb1c1",
   "metadata": {},
   "outputs": [],
   "source": [
    "pipeline = [str.lower,tokenize,remove_stop]"
   ]
  },
  {
   "cell_type": "code",
   "execution_count": null,
   "id": "f8bdf085",
   "metadata": {},
   "outputs": [],
   "source": [
    "def prepare(text,pipeline):\n",
    "    tokens = text\n",
    "    for transform in pipeline:\n",
    "        tokens = transform(tokens)\n",
    "    return tokens"
   ]
  },
  {
   "cell_type": "markdown",
   "id": "c1103830",
   "metadata": {},
   "source": [
    "- Utilization of the functions **apply** and **map**\n",
    "- Series.map : works element by element on a Pandas Series\n",
    "- Series.apply : same as map but allows additional parameters\n",
    "- DataFrame.applymap : element by element on a Pandas DataFrame (same as map on Series)\n",
    "- DataFrame.apply : works on rows and columns of a DataFrame and supports aggregation"
   ]
  },
  {
   "cell_type": "code",
   "execution_count": null,
   "id": "4adfac74",
   "metadata": {},
   "outputs": [],
   "source": [
    "df['tokens']=df['text'].apply(prepare,pipeline=pipeline)"
   ]
  },
  {
   "cell_type": "code",
   "execution_count": null,
   "id": "6a646ad6",
   "metadata": {},
   "outputs": [],
   "source": [
    "df['tokens'].sample(2)"
   ]
  },
  {
   "cell_type": "code",
   "execution_count": null,
   "id": "4204a260",
   "metadata": {},
   "outputs": [],
   "source": [
    "df['num_tokens']=df['tokens'].map(len)\n",
    "df['num_tokens'].sample(3)"
   ]
  },
  {
   "cell_type": "markdown",
   "id": "370c2e84",
   "metadata": {},
   "source": [
    "# Word Frequency Analysis: Bag-of-words approach\n",
    "- A first analysis of texts **based on words or phrases frequently used**\n",
    "- can be useful to uncover the main topics discussed in documents\n",
    "- limits of word frequency analysis:\n",
    "    - the order of words is not taken into account\n",
    "    - the context is ignored\n",
    "    - **bag-of-words** model: all words are put into a bag\n",
    "- **bag-of-words** is fit for:\n",
    "    - classification\n",
    "    - topic modeling\n",
    "- **bag-of-words** doesn\\'t work well for:\n",
    "    - sentiment analysis\n",
    "    - question answering\n",
    "\n",
    "\n",
    "\n",
    "## Counting words with a counter"
   ]
  },
  {
   "cell_type": "code",
   "execution_count": null,
   "id": "902a4c49",
   "metadata": {},
   "outputs": [],
   "source": [
    "from collections import Counter\n",
    "counter = Counter(df['tokens'][1])\n",
    "print(counter)"
   ]
  },
  {
   "cell_type": "markdown",
   "id": "8d01a4b4",
   "metadata": {},
   "source": [
    "### Updating a counter"
   ]
  },
  {
   "cell_type": "code",
   "execution_count": null,
   "id": "6c2a8fde",
   "metadata": {},
   "outputs": [],
   "source": [
    "counter.update(df['tokens'][2])\n",
    "print(counter)"
   ]
  },
  {
   "cell_type": "markdown",
   "id": "26285df2",
   "metadata": {},
   "source": [
    "### Counting the words frequency for a corpus of documents\n",
    "- Option 1: merging all texts into a single one. But too long for large datasets\n",
    "- Option 2: call update function of the counter object for each single document"
   ]
  },
  {
   "cell_type": "code",
   "execution_count": null,
   "id": "5c44ea07",
   "metadata": {},
   "outputs": [],
   "source": [
    "counter = Counter()\n",
    "df['tokens'].map(counter.update)\n",
    "len(counter)"
   ]
  },
  {
   "cell_type": "code",
   "execution_count": null,
   "id": "64aeb8c8-752b-4e47-8f06-63cc9071a0f8",
   "metadata": {},
   "outputs": [],
   "source": [
    "counter"
   ]
  },
  {
   "cell_type": "code",
   "execution_count": null,
   "id": "8fd4d1db-b5e8-493e-abfc-513c874f24cb",
   "metadata": {},
   "outputs": [],
   "source": [
    "type(counter)"
   ]
  },
  {
   "cell_type": "markdown",
   "id": "c474762f",
   "metadata": {},
   "source": [
    "### Finding the most common words in a text"
   ]
  },
  {
   "cell_type": "code",
   "execution_count": null,
   "id": "3b1e7db9",
   "metadata": {},
   "outputs": [],
   "source": [
    "print(counter.most_common(5))"
   ]
  },
  {
   "cell_type": "markdown",
   "id": "aa90ebb6",
   "metadata": {},
   "source": [
    "### Transforming the counter into a DataFrame"
   ]
  },
  {
   "cell_type": "code",
   "execution_count": null,
   "id": "76722ff5",
   "metadata": {},
   "outputs": [],
   "source": [
    "def count_words(df,column='tokens',preprocess=None,min_freq=2):\n",
    "    # process tokens and update counter\n",
    "    def update(doc):\n",
    "        tokens = doc if preprocess is None else preprocess(doc)\n",
    "        counter.update(tokens)\n",
    "    \n",
    "    # create counter and run through all data\n",
    "    counter = Counter()\n",
    "    df[column].map(update)\n",
    "    \n",
    "    # transform counter into a DataFrame\n",
    "    freq_df = pd.DataFrame.from_dict(counter,orient='index',columns=['freq'])\n",
    "    freq_df=freq_df.query('freq>=@min_freq')\n",
    "    freq_df.index.name='token'\n",
    "    \n",
    "    return freq_df.sort_values('freq',ascending=False)\n",
    "    "
   ]
  },
  {
   "cell_type": "code",
   "execution_count": null,
   "id": "c3a83352",
   "metadata": {},
   "outputs": [],
   "source": [
    "freq_df=count_words(df)"
   ]
  },
  {
   "cell_type": "code",
   "execution_count": null,
   "id": "a73f5c63",
   "metadata": {},
   "outputs": [],
   "source": [
    "freq_df.head(10)"
   ]
  },
  {
   "cell_type": "markdown",
   "id": "3d4d3dc4",
   "metadata": {},
   "source": [
    "### Creating a Frequency Diagram"
   ]
  },
  {
   "cell_type": "code",
   "execution_count": null,
   "id": "10e7c1e9",
   "metadata": {},
   "outputs": [],
   "source": [
    "ax=freq_df.head(15).plot(kind='barh',width=0.95)\n",
    "ax.invert_yaxis()\n",
    "ax.set(xlabel='Frequency',ylabel='Token',title='Top Words')"
   ]
  },
  {
   "cell_type": "markdown",
   "id": "ee3d60b2",
   "metadata": {},
   "source": [
    "### Creating Word Clouds"
   ]
  },
  {
   "cell_type": "code",
   "execution_count": null,
   "id": "5a0f909d",
   "metadata": {},
   "outputs": [],
   "source": [
    "from wordcloud import WordCloud"
   ]
  },
  {
   "cell_type": "code",
   "execution_count": null,
   "id": "dae847f0-7cb2-4fa5-a4c3-f075ab599590",
   "metadata": {},
   "outputs": [],
   "source": [
    "text = df.query(\"year==2015 and country=='USA'\")['text'].values[0]\n",
    "\n",
    "print(text)"
   ]
  },
  {
   "cell_type": "markdown",
   "id": "d78ef679",
   "metadata": {},
   "source": [
    "#### WordCloud for a single text"
   ]
  },
  {
   "cell_type": "code",
   "execution_count": null,
   "id": "8ef3f7d5",
   "metadata": {},
   "outputs": [],
   "source": [
    "wc = WordCloud(max_words=100,stopwords=stopwords_spa)\n",
    "wc.generate(text)\n",
    "plt.imshow(wc,interpolation='bilinear')\n",
    "plt.axis(\"off\")\n",
    "plt.show()"
   ]
  },
  {
   "cell_type": "markdown",
   "id": "67f0a8e2",
   "metadata": {},
   "source": [
    "#### WordCloud for a corpus of documents"
   ]
  },
  {
   "cell_type": "code",
   "execution_count": null,
   "id": "52debbb4",
   "metadata": {},
   "outputs": [],
   "source": [
    "def wordcloud(word_freq, title=None, max_words=200, stopwords=None):\n",
    "    \n",
    "    wc = WordCloud(width=800,height=400,\n",
    "                  background_color='black',colormap='Paired',\n",
    "                  max_font_size=130,max_words=max_words)\n",
    "    \n",
    "    # Convert DataFrame into dict\n",
    "    if type(word_freq)==pd.Series:\n",
    "        counter=Counter(word_freq.fillna(0).to_dict())\n",
    "    else:\n",
    "        counter=word_freq\n",
    "        \n",
    "    #filter stop words in frequency counter\n",
    "    if stopwords is not None:\n",
    "        counter={token:freq for (token,freq) in counter.items() if token not in stopwords}\n",
    "    wc.generate_from_frequencies(counter)\n",
    "    \n",
    "    plt.title(title)\n",
    "    \n",
    "    plt.imshow(wc,interpolation='bilinear')\n",
    "    plt.axis('off')"
   ]
  },
  {
   "cell_type": "code",
   "execution_count": null,
   "id": "2f13a79f-bde7-4798-a09f-a9b6ffffb789",
   "metadata": {},
   "outputs": [],
   "source": [
    "freq_2015_df=count_words(df[df['year']==2015])"
   ]
  },
  {
   "cell_type": "code",
   "execution_count": null,
   "id": "c79e985b-64a9-4470-90c8-c116f7eeca10",
   "metadata": {},
   "outputs": [],
   "source": [
    "freq_2015_df\n",
    "type(freq_2015_df['freq'])"
   ]
  },
  {
   "cell_type": "code",
   "execution_count": null,
   "id": "52c6aa6f",
   "metadata": {},
   "outputs": [],
   "source": [
    "plt.figure()\n",
    "wordcloud(freq_2015_df['freq'],max_words=200)"
   ]
  },
  {
   "cell_type": "code",
   "execution_count": null,
   "id": "cff568bb",
   "metadata": {},
   "outputs": [],
   "source": [
    "wordcloud(freq_2015_df['freq'],max_words=100,stopwords=freq_df.head(50).index)"
   ]
  },
  {
   "cell_type": "markdown",
   "id": "0d1b69fa",
   "metadata": {},
   "source": [
    "# Ranking with TF-IDF\n",
    "\n",
    "- Visualization of words frequencies is not very informative\n",
    "- Most frequent words are often domain-specific and similar for differents slices (subsets) of data\n",
    "- Alternative approach: **to give more importance to words that appear more frequently in a given subset of the data (a single speech, speeches of a country, speeches for a given year) than on average**\n",
    "- Combination of\n",
    "    - the term frequency\n",
    "    - the inverse document frequency\n",
    "\n",
    "- **Document frequency** of term *t* \n",
    "    - a corpus of documents *C*\n",
    "    - document frequency: the number of documents *d* that contains the term *t*:\n",
    "    $$\n",
    "    df(t)=|\\lbrace d   \\in C|t \\in d \\rbrace|\n",
    "    $$\n",
    "    - Terms that appear in many documents have a high document frequency\n",
    "\n",
    "\n",
    "- **Inverse document frequency**: a weighting scheme that measures the \"unusualness\" of a term in a corpus often used to reduce the influence of common terms for data analysis\n",
    "- - **Inverse document frequency** is defined as:\n",
    "    $$\n",
    "    idf(t)=log(\\frac{|C|}{df(t)})\n",
    "    $$\n",
    "    - in log to avoid a too large value for rare terms\n",
    "    - $idf(t)=0$ for terms that appear in all documents ($df(t)=0$)\n",
    "    - Some libraries add a constant to the whole term for not completely ignoring this term\n",
    "    - scikit-learn adds +1\n",
    "    - alternative option: to add +1 to the denominator to prevent a division by zero dor unseen terms with $df(t)=0$ (*smoothing*)\n",
    "    \n",
    "- For a word *t* in a set of documents $D \\subset C$, the TF-IDF-score is the product of \n",
    "    - the term frequency $tf(t,D)$\n",
    "    - the IDF of temr *t*:\n",
    "        $$\n",
    "        tfidf(t,D)=tf(t,D).idf(t)\n",
    "        $$\n",
    "\n",
    "- $tfidf(t,D)$ gives high value for terms:\n",
    "    - appearing frequently in the selected documents D,\n",
    "    - rarely in the other documents of the corpus"
   ]
  },
  {
   "cell_type": "code",
   "execution_count": null,
   "id": "358180d7-b6ad-4c9c-beb0-95c4e7169555",
   "metadata": {},
   "outputs": [],
   "source": [
    "print(df['tokens'][1])"
   ]
  },
  {
   "cell_type": "code",
   "execution_count": null,
   "id": "6fb5ad70-0c98-404e-b6ed-de23376f2da5",
   "metadata": {},
   "outputs": [],
   "source": [
    "set (df['tokens'][1])"
   ]
  },
  {
   "cell_type": "markdown",
   "id": "5fbc88fb",
   "metadata": {},
   "source": [
    "### A function to compute the IDF for all terms in the corpus"
   ]
  },
  {
   "cell_type": "code",
   "execution_count": null,
   "id": "58d4443a",
   "metadata": {},
   "outputs": [],
   "source": [
    "def compute_idf(df, column='tokens', preprocess=None, min_df=2):\n",
    "   \n",
    "    def update(doc):\n",
    "        tokens=doc if preprocess is None else preprocess(doc)\n",
    "        counter.update(set(tokens))\n",
    "        \n",
    "    # count tokens \n",
    "    counter = Counter()\n",
    "    df[column].map(update)\n",
    "    \n",
    "    # create DataFrame and compute idf\n",
    "    idf_df = pd.DataFrame.from_dict(counter, orient='index',columns=['df'])\n",
    "    #idf_df['idf']=np.log(len(df)/(1+idf_df['df']))\n",
    "    idf_df['idf']=np.log(len(df)/idf_df['df'])+1\n",
    "    idf_df.index.name='token'\n",
    "    idf_df = idf_df.query('df>=@min_df')\n",
    "    \n",
    "    return idf_df"
   ]
  },
  {
   "cell_type": "markdown",
   "id": "122d8e28-c821-4da9-910a-8f64aae02221",
   "metadata": {},
   "source": [
    "**The IDF needs to be computed for the entire corpus of texts**"
   ]
  },
  {
   "cell_type": "code",
   "execution_count": null,
   "id": "67e4d476",
   "metadata": {},
   "outputs": [],
   "source": [
    "idf_df=compute_idf(df,min_df=0)"
   ]
  },
  {
   "cell_type": "code",
   "execution_count": null,
   "id": "c58e6075-cc50-4bbd-ac85-7c56a4938913",
   "metadata": {},
   "outputs": [],
   "source": [
    "idf_df.head()"
   ]
  },
  {
   "cell_type": "code",
   "execution_count": null,
   "id": "0a8d9b7e",
   "metadata": {},
   "outputs": [],
   "source": [
    "idf_df.index"
   ]
  },
  {
   "cell_type": "code",
   "execution_count": null,
   "id": "4057f6c6",
   "metadata": {},
   "outputs": [],
   "source": [
    "freq_df.index"
   ]
  },
  {
   "cell_type": "markdown",
   "id": "be5c2641-b352-4968-9a46-3ac8f76d2ebe",
   "metadata": {},
   "source": [
    "freq_df and idf_df have the *same* index => we can simply use the multiplication to compute the tidf"
   ]
  },
  {
   "cell_type": "code",
   "execution_count": null,
   "id": "ea53e1c7",
   "metadata": {},
   "outputs": [],
   "source": [
    "freq_df['tidf']=freq_df['freq']*idf_df['idf']"
   ]
  },
  {
   "cell_type": "code",
   "execution_count": null,
   "id": "527863b8",
   "metadata": {},
   "outputs": [],
   "source": [
    "freq_df.info()"
   ]
  },
  {
   "cell_type": "code",
   "execution_count": null,
   "id": "bcd5177a",
   "metadata": {},
   "outputs": [],
   "source": [
    "freq_df.head(10)"
   ]
  },
  {
   "cell_type": "markdown",
   "id": "6901c63d-a14b-4de1-af3d-fc0f0902f7ac",
   "metadata": {},
   "source": [
    "## Comparison of wordcloud based on \n",
    "* word counts (term frequency)\n",
    "* TF_IDF scores\n",
    "\n",
    "for year 1970 and year 2015\n",
    "\n",
    "### First step: computation of word frequencies for these two years"
   ]
  },
  {
   "cell_type": "code",
   "execution_count": null,
   "id": "17878fcd",
   "metadata": {},
   "outputs": [],
   "source": [
    "freq_1970 = count_words(df[df['year']==1970])\n",
    "freq_2015 = count_words(df[df['year']==2015])"
   ]
  },
  {
   "cell_type": "markdown",
   "id": "2372ee4f-bfaa-4864-9629-76d4e21aa76a",
   "metadata": {},
   "source": [
    "### Second step: computation of tf_idf"
   ]
  },
  {
   "cell_type": "code",
   "execution_count": null,
   "id": "37b0d3a4",
   "metadata": {},
   "outputs": [],
   "source": [
    "freq_1970['tfidf']=freq_1970['freq']*idf_df['idf']\n",
    "freq_2015['tfidf']=freq_2015['freq']*idf_df['idf']"
   ]
  },
  {
   "cell_type": "markdown",
   "id": "2d10c139-cb3f-4efa-ae1b-b5777a112ab1",
   "metadata": {},
   "source": [
    "### Word cloud based on word frequencies\n",
    "\n",
    "We add 'twenty-fifth' and 'twenty-five' as stopwords. 1970 is the 25th session"
   ]
  },
  {
   "cell_type": "code",
   "execution_count": null,
   "id": "dd89c1ba",
   "metadata": {},
   "outputs": [],
   "source": [
    "#wordcloud(freq_1970['freq'],title='1970-TF',stopwords=['twenty-fifth','twenty-five'])\n",
    "wordcloud(freq_1970['freq'],title='1970-TF')"
   ]
  },
  {
   "cell_type": "code",
   "execution_count": null,
   "id": "90e47a0f",
   "metadata": {},
   "outputs": [],
   "source": [
    "wordcloud(freq_1970['tfidf'],title='1970-TF-IDF')"
   ]
  },
  {
   "cell_type": "code",
   "execution_count": null,
   "id": "b5f0fe12-1647-4011-9606-24a873f8b658",
   "metadata": {},
   "outputs": [],
   "source": [
    "wordcloud(freq_1970['tfidf'],title='1970-TF-IDF',stopwords=['twenty-fifth','twenty-five','twenty','fifth'])"
   ]
  },
  {
   "cell_type": "code",
   "execution_count": null,
   "id": "77099018-4b91-4a5e-955b-52131852ef1d",
   "metadata": {},
   "outputs": [],
   "source": [
    "wordcloud(freq_2015['freq'],title='2015-TF')"
   ]
  },
  {
   "cell_type": "code",
   "execution_count": null,
   "id": "ffd1365d",
   "metadata": {},
   "outputs": [],
   "source": [
    "wordcloud(freq_2015['freq'],title='2015-TF',stopwords=['seventieth'])"
   ]
  },
  {
   "cell_type": "code",
   "execution_count": null,
   "id": "90d7dd55",
   "metadata": {},
   "outputs": [],
   "source": [
    "wordcloud(freq_2015['tfidf'],title='2015-TF-IDF',stopwords=['seventieth'])"
   ]
  },
  {
   "cell_type": "code",
   "execution_count": null,
   "id": "5ae087ca-afad-42b7-a16c-22466aba753f",
   "metadata": {},
   "outputs": [],
   "source": [
    "wordcloud(freq_2015['tfidf'],title='2015-TF-IDF')"
   ]
  },
  {
   "cell_type": "markdown",
   "id": "6db9dcb2",
   "metadata": {},
   "source": [
    "scikit-learn classes:\n",
    "    \n",
    "    - CountVectorizer\n",
    "    - TfidfVectorizer"
   ]
  },
  {
   "cell_type": "code",
   "execution_count": null,
   "id": "50b21529-8705-4365-8bd1-0debcdcd53d4",
   "metadata": {},
   "outputs": [],
   "source": [
    "##  Same thing with country and a year"
   ]
  },
  {
   "cell_type": "markdown",
   "id": "125b5899",
   "metadata": {},
   "source": [
    "# Finding a keyword in context\n",
    "\n",
    "- Not always easy to interpret some frequent words (acronym for instance)\n",
    "- Exploration of the way those words appear in the unprepared text: inspection of the **keywords in context** (KWIC)\n",
    "- Produce a list of text fragments of equal length showing the left and right context of a keyword\n",
    "\n",
    "- KWIC is implemented in NLTK and textacy\n",
    "- NLTK and textacy work on single document\n",
    "- Textacy'KWIC' works on untokenized text and multiple tokens (not possible with NLTK (à vérifier))\n"
   ]
  },
  {
   "cell_type": "code",
   "execution_count": null,
   "id": "15d742b8-a8be-4c4a-b2cc-1f913131b862",
   "metadata": {},
   "outputs": [],
   "source": [
    "text_tokens = df.query(\"year==2015 and country=='USA'\")['tokens'].values[0]\n",
    "\n",
    "print(text_tokens)"
   ]
  },
  {
   "cell_type": "code",
   "execution_count": null,
   "id": "d95cc776-4a08-480d-8fd7-6abcb7dc8308",
   "metadata": {},
   "outputs": [],
   "source": [
    "text_token=Text(text_tokens)\n",
    "text_token.concordance([\"people\"],width=80)"
   ]
  },
  {
   "cell_type": "code",
   "execution_count": null,
   "id": "d5d0161d-9158-43ba-bfe1-ebae95a65bb1",
   "metadata": {},
   "outputs": [],
   "source": [
    "text_token=Text(text_tokens)\n",
    "text_token.concordance([\"people\",\"poverty\"],width=80)"
   ]
  },
  {
   "cell_type": "code",
   "execution_count": null,
   "id": "3599931d-1b95-4a47-b5c9-a86c1685b7f9",
   "metadata": {},
   "outputs": [],
   "source": [
    "text_token.collocation_list()"
   ]
  },
  {
   "cell_type": "code",
   "execution_count": null,
   "id": "d676888e",
   "metadata": {},
   "outputs": [],
   "source": [
    "text_token.collocation_list()[:3]"
   ]
  },
  {
   "cell_type": "markdown",
   "id": "a12ba5ee",
   "metadata": {},
   "source": [
    "# Analysing N-grams"
   ]
  },
  {
   "cell_type": "markdown",
   "id": "7e7629d7",
   "metadata": {},
   "source": [
    "- Extension of frequency analysis to short sequences of two or three words\n",
    "- two types of word sequences:\n",
    "    1. **compound**\n",
    "    2. **collocations**\n",
    "\n",
    "- A **compound** is a combination of two or more more words with a specific meaning:\n",
    "    - in closed form: *earthquake*\n",
    "    - in hyphenated form: *self-confident*\n",
    "    - in open form: *climate change*\n",
    "\n",
    "- Consequence: two tokens are to be considered as a *single* unit\n",
    "\n",
    "        \n",
    "\n",
    "- A **colocation** are words that are frequently used together\n",
    "    - adjective+noun, adjective+noun: *red carpet*, *united nations*\n",
    "\n",
    "\n",
    "- *unigrams*: a sequence of length 1\n",
    "- *bigrams*: a sequence of length 2\n",
    "- *trigrams*: a sequence of length 3\n",
    "   \n",
    "\n",
    "### Function to produce n-grams"
   ]
  },
  {
   "cell_type": "code",
   "execution_count": null,
   "id": "33651101",
   "metadata": {},
   "outputs": [],
   "source": [
    "def ngrams(tokens,n=2,sep=' '):\n",
    "    return[sep.join(ngram) for ngram in zip(*[tokens[i:] for i in range(n)])]"
   ]
  },
  {
   "cell_type": "code",
   "execution_count": null,
   "id": "a0d6acf5",
   "metadata": {},
   "outputs": [],
   "source": [
    "text = \"the visible manifestation of the global climate change\"\n",
    "tokens = tokenize(text)\n",
    "print(ngrams(tokens,2))"
   ]
  },
  {
   "cell_type": "code",
   "execution_count": null,
   "id": "f9d1c810-ee07-4452-abc3-1c4562a5d89c",
   "metadata": {},
   "outputs": [],
   "source": [
    "print(\"|\".join(ngrams(tokens,2,sep=)))"
   ]
  },
  {
   "cell_type": "code",
   "execution_count": null,
   "id": "3752483a-d40f-4971-ab89-f7859e18769a",
   "metadata": {},
   "outputs": [],
   "source": [
    "text = \"the visible manifestation of the global climate change\"\n",
    "tokens = tokenize(text)\n",
    "print(tokens)"
   ]
  },
  {
   "cell_type": "code",
   "execution_count": null,
   "id": "8da952b2-7cae-437a-848f-5b8fde1a0d71",
   "metadata": {},
   "outputs": [],
   "source": [
    "n=2\n",
    "ngram= zip(*[tokens[i:] for i in range(n)])\n",
    "list(ngram)"
   ]
  },
  {
   "cell_type": "code",
   "execution_count": null,
   "id": "ec1c2d36-75ec-4cb2-a9e8-2c2db9463254",
   "metadata": {},
   "outputs": [],
   "source": [
    "for i in range(2):\n",
    "    print(i)"
   ]
  },
  {
   "cell_type": "code",
   "execution_count": null,
   "id": "a6f1e332-1a79-4d2f-98a2-ea7a9ea34515",
   "metadata": {},
   "outputs": [],
   "source": [
    "tokens[0:]"
   ]
  },
  {
   "cell_type": "code",
   "execution_count": null,
   "id": "3a4ff061-e3bd-4eb1-90f5-0afbc0a01510",
   "metadata": {},
   "outputs": [],
   "source": [
    "tokens[1:]"
   ]
  },
  {
   "cell_type": "code",
   "execution_count": null,
   "id": "bbbd93c2-a62e-4c45-9f27-c4a34381f731",
   "metadata": {},
   "outputs": [],
   "source": [
    "n=2\n",
    "a= zip(*[tokens[i:] for i in range(n)])\n",
    "print(list(a))"
   ]
  },
  {
   "cell_type": "code",
   "execution_count": null,
   "id": "e811a5ed-cf30-424b-b534-5a3ac22d7aa8",
   "metadata": {},
   "outputs": [],
   "source": [
    "bigram=ngrams(tokens)\n",
    "print(bigram)"
   ]
  },
  {
   "cell_type": "markdown",
   "id": "1a4bc992",
   "metadata": {},
   "source": [
    "- Problem: the bigrams contain stop words\n",
    "- better to build bigrams without stop words\n",
    "- if we eliminate stop words from the original text => risk to obtain erroneous bigrams\n",
    "- solution to avoid this problem:\n",
    "    1. to compute all bigrams for the text, even those with stop words\n",
    "    2. to eliminate bigrams with stop words"
   ]
  },
  {
   "cell_type": "code",
   "execution_count": null,
   "id": "148ff2b0",
   "metadata": {},
   "outputs": [],
   "source": [
    "def ngrams(tokens,n=2,sep=' ', stopwords=set()):\n",
    "    return [sep.join(ngram) for ngram in zip(*[tokens[i:] for i in range(n)]) if len([t for t in ngram if t in stopwords])==0]"
   ]
  },
  {
   "cell_type": "code",
   "execution_count": null,
   "id": "7b07b9d7-81b2-4b91-b985-b1dc11976d93",
   "metadata": {},
   "outputs": [],
   "source": [
    "text = \"the visible manifestation of the global climate change\"\n",
    "tokens = tokenize(text)"
   ]
  },
  {
   "cell_type": "code",
   "execution_count": null,
   "id": "f4a72b01",
   "metadata": {},
   "outputs": [],
   "source": [
    "print(\"|\".join(ngrams(tokens,2,stopwords=stopwords_spa)))\n"
   ]
  },
  {
   "cell_type": "markdown",
   "id": "86153a83-0a56-4d2b-b0d1-33c8287784c5",
   "metadata": {},
   "source": [
    "Bigram for the whole set of speeches"
   ]
  },
  {
   "cell_type": "code",
   "execution_count": null,
   "id": "a40af82e",
   "metadata": {},
   "outputs": [],
   "source": [
    "df['bigrams']=df['text'].apply(prepare,pipeline=[str.lower,tokenize]).apply(ngrams,n=2,stopwords=stopwords_spa)"
   ]
  },
  {
   "cell_type": "code",
   "execution_count": null,
   "id": "f159cd13-27bf-4352-a856-b5a29007107c",
   "metadata": {},
   "outputs": [],
   "source": [
    "df['bigrams_1']=df['tokens'].apply(ngrams,n=2,stopwords=stopwords_spa)"
   ]
  },
  {
   "cell_type": "code",
   "execution_count": null,
   "id": "20845c20",
   "metadata": {},
   "outputs": [],
   "source": [
    "df['bigrams_1'].head(5)"
   ]
  },
  {
   "cell_type": "code",
   "execution_count": null,
   "id": "8095d696",
   "metadata": {},
   "outputs": [],
   "source": [
    "count_words(df,'bigrams_1').head(5)"
   ]
  },
  {
   "cell_type": "markdown",
   "id": "4c2b65b9",
   "metadata": {},
   "source": [
    "#### Computation of the TF-IDF for the bigrams"
   ]
  },
  {
   "cell_type": "code",
   "execution_count": null,
   "id": "2d4e7903",
   "metadata": {},
   "outputs": [],
   "source": [
    "idf_df=pd.concat([idf_df,compute_idf(df,'bigrams',min_df=10)])\n",
    "\n",
    "freq_df = count_words(df[df['year']==2015],'bigrams')\n",
    "freq_df['tidf']=freq_df['freq']*idf_df['idf']\n",
    "wordcloud(freq_df['tidf'],title = 'all bigrams',max_words=50)"
   ]
  },
  {
   "cell_type": "code",
   "execution_count": null,
   "id": "c080b9a6",
   "metadata": {},
   "outputs": [],
   "source": [
    "where= freq_df.index.str.contains('climate')\n",
    "wordcloud(freq_df[where]['freq'],title = 'Climate bigrams',max_words=50)"
   ]
  },
  {
   "cell_type": "markdown",
   "id": "2528dfdc",
   "metadata": {},
   "source": [
    "# Comparing Frequencies across time intervals and categories\n",
    "\n",
    "- We can define a set of keywords\n",
    "- We can measure the frequency of these keywords over time\n",
    "\n",
    "#### Counting a set of given keywords"
   ]
  },
  {
   "cell_type": "code",
   "execution_count": null,
   "id": "49b7ceda",
   "metadata": {},
   "outputs": [],
   "source": [
    "def count_keywords(tokens,keywords):\n",
    "    tokens =[t for t in tokens if t in keywords]\n",
    "    counter = Counter(tokens)\n",
    "    return [counter.get(k,0) for k in keywords]"
   ]
  },
  {
   "cell_type": "code",
   "execution_count": null,
   "id": "215ef6e6",
   "metadata": {},
   "outputs": [],
   "source": [
    "keywords=['nuclear','terrorism','climate','freedom']\n",
    "tokens=['nuclear','climate','climate','freedom','climate','freedom']\n",
    "print(count_keywords(tokens,keywords))"
   ]
  },
  {
   "cell_type": "markdown",
   "id": "757b9207",
   "metadata": {},
   "source": [
    "- If we apply this function to each of our documents in our DataFrame, we obtain a matrix of counts\n",
    "- The matrix is then converted into a DataFrame and aggregated and sorted by the selected grouping column"
   ]
  },
  {
   "cell_type": "code",
   "execution_count": null,
   "id": "fc16802d",
   "metadata": {},
   "outputs": [],
   "source": [
    "def count_keywords_by(df,by,keywords,column='tokens'):\n",
    "    freq_matrix=df[column].apply(count_keywords,keywords=keywords)\n",
    "    freq_df=pd.DataFrame.from_records(freq_matrix,columns=keywords)\n",
    "    freq_df[by]=df[by]\n",
    "    \n",
    "    return freq_df.groupby(by=by).sum().sort_values(by)"
   ]
  },
  {
   "cell_type": "code",
   "execution_count": null,
   "id": "b27aada6",
   "metadata": {},
   "outputs": [],
   "source": [
    "freq_df=count_keywords_by(df,by='year',keywords=keywords)"
   ]
  },
  {
   "cell_type": "code",
   "execution_count": null,
   "id": "7bd2c32e",
   "metadata": {},
   "outputs": [],
   "source": [
    "print(freq_df)"
   ]
  },
  {
   "cell_type": "code",
   "execution_count": null,
   "id": "f527564b",
   "metadata": {},
   "outputs": [],
   "source": [
    "freq_df.plot(kind='line')"
   ]
  },
  {
   "cell_type": "markdown",
   "id": "104aa7fb",
   "metadata": {},
   "source": [
    "#### Creating frequency heatmaps"
   ]
  },
  {
   "cell_type": "code",
   "execution_count": null,
   "id": "a2ba6c9f",
   "metadata": {},
   "outputs": [],
   "source": [
    "# Computation of relative frequencies\n",
    "freq_df=freq_df.div(df.groupby('year')['num_tokens'].sum(),axis=0)\n",
    "freq_df=freq_df.apply(np.sqrt) # sublinear scaling"
   ]
  },
  {
   "cell_type": "code",
   "execution_count": null,
   "id": "2d60e893",
   "metadata": {},
   "outputs": [],
   "source": [
    "sns.heatmap(data=freq_df.T, xticklabels=True, yticklabels=True,cbar=False,cmap=\"Reds\")"
   ]
  },
  {
   "cell_type": "code",
   "execution_count": null,
   "id": "0a34dc57",
   "metadata": {},
   "outputs": [],
   "source": [
    "#### Remarks:\n",
    "- relative frequencies are more informative than absolute as the number of documents can vary each year\n",
    "- keywords lists do not represent all the dimensions of a topic. Other words representative of a topic may be excluded from the keywords list.\n",
    "- some keywords may have different meanings according to the context\n",
    "- "
   ]
  },
  {
   "cell_type": "code",
   "execution_count": null,
   "id": "1d0a5f92-bfa1-4d12-b95e-7e437e208aaf",
   "metadata": {},
   "outputs": [],
   "source": [
    "import textacy"
   ]
  },
  {
   "cell_type": "code",
   "execution_count": null,
   "id": "abfcb241-cad3-45a3-bfb0-109a47cabdea",
   "metadata": {},
   "outputs": [],
   "source": []
  }
 ],
 "metadata": {
  "kernelspec": {
   "display_name": "Python 3 (ipykernel)",
   "language": "python",
   "name": "python3"
  },
  "language_info": {
   "codemirror_mode": {
    "name": "ipython",
    "version": 3
   },
   "file_extension": ".py",
   "mimetype": "text/x-python",
   "name": "python",
   "nbconvert_exporter": "python",
   "pygments_lexer": "ipython3",
   "version": "3.12.3"
  }
 },
 "nbformat": 4,
 "nbformat_minor": 5
}
