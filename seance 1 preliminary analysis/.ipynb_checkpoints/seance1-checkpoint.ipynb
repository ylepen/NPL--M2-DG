{
 "cells": [
  {
   "cell_type": "markdown",
   "id": "92f5d55e",
   "metadata": {},
   "source": [
    "# Preliminary Text Analysis"
   ]
  },
  {
   "cell_type": "code",
   "execution_count": 138,
   "id": "fbed863b",
   "metadata": {},
   "outputs": [],
   "source": [
    "import pandas as pd\n",
    "import numpy as np\n",
    "import matplotlib.pyplot as plt\n",
    "import seaborn as sns "
   ]
  },
  {
   "cell_type": "code",
   "execution_count": 139,
   "id": "147a8a7a",
   "metadata": {},
   "outputs": [
    {
     "name": "stdout",
     "output_type": "stream",
     "text": [
      "0.12.2\n"
     ]
    }
   ],
   "source": [
    "print(sns.__version__)"
   ]
  },
  {
   "cell_type": "code",
   "execution_count": 140,
   "id": "63341306",
   "metadata": {},
   "outputs": [
    {
     "name": "stdout",
     "output_type": "stream",
     "text": [
      "1.26.3\n"
     ]
    }
   ],
   "source": [
    "print(np.__version__)"
   ]
  },
  {
   "cell_type": "markdown",
   "id": "b02fb3b5",
   "metadata": {},
   "source": [
    "We load the file and display two random records"
   ]
  },
  {
   "cell_type": "code",
   "execution_count": 141,
   "id": "5405f6ea",
   "metadata": {},
   "outputs": [],
   "source": [
    "file=\"un-general-debates.csv\"\n",
    "df=pd.read_csv(file)"
   ]
  },
  {
   "cell_type": "code",
   "execution_count": 142,
   "id": "f4366cfa",
   "metadata": {},
   "outputs": [
    {
     "data": {
      "text/html": [
       "<div>\n",
       "<style scoped>\n",
       "    .dataframe tbody tr th:only-of-type {\n",
       "        vertical-align: middle;\n",
       "    }\n",
       "\n",
       "    .dataframe tbody tr th {\n",
       "        vertical-align: top;\n",
       "    }\n",
       "\n",
       "    .dataframe thead th {\n",
       "        text-align: right;\n",
       "    }\n",
       "</style>\n",
       "<table border=\"1\" class=\"dataframe\">\n",
       "  <thead>\n",
       "    <tr style=\"text-align: right;\">\n",
       "      <th></th>\n",
       "      <th>session</th>\n",
       "      <th>year</th>\n",
       "      <th>country</th>\n",
       "      <th>text</th>\n",
       "    </tr>\n",
       "  </thead>\n",
       "  <tbody>\n",
       "    <tr>\n",
       "      <th>4789</th>\n",
       "      <td>35</td>\n",
       "      <td>1980</td>\n",
       "      <td>GUY</td>\n",
       "      <td>﻿The unanimous election of Ambassador von Wech...</td>\n",
       "    </tr>\n",
       "    <tr>\n",
       "      <th>3693</th>\n",
       "      <td>60</td>\n",
       "      <td>2005</td>\n",
       "      <td>FSM</td>\n",
       "      <td>I\\ntake this opportunity to congratulate Presi...</td>\n",
       "    </tr>\n",
       "  </tbody>\n",
       "</table>\n",
       "</div>"
      ],
      "text/plain": [
       "      session  year country                                               text\n",
       "4789       35  1980     GUY  ﻿The unanimous election of Ambassador von Wech...\n",
       "3693       60  2005     FSM  I\\ntake this opportunity to congratulate Presi..."
      ]
     },
     "execution_count": 142,
     "metadata": {},
     "output_type": "execute_result"
    }
   ],
   "source": [
    "df.sample(2)"
   ]
  },
  {
   "cell_type": "markdown",
   "id": "34f64831",
   "metadata": {},
   "source": [
    "## Preliminary information about a dataframe"
   ]
  },
  {
   "cell_type": "code",
   "execution_count": 6,
   "id": "a51f12e7",
   "metadata": {},
   "outputs": [
    {
     "name": "stdout",
     "output_type": "stream",
     "text": [
      "<class 'pandas.core.frame.DataFrame'>\n",
      "RangeIndex: 7507 entries, 0 to 7506\n",
      "Data columns (total 4 columns):\n",
      " #   Column   Non-Null Count  Dtype \n",
      "---  ------   --------------  ----- \n",
      " 0   session  7507 non-null   int64 \n",
      " 1   year     7507 non-null   int64 \n",
      " 2   country  7507 non-null   object\n",
      " 3   text     7507 non-null   object\n",
      "dtypes: int64(2), object(2)\n",
      "memory usage: 234.7+ KB\n"
     ]
    }
   ],
   "source": [
    "df.info()"
   ]
  },
  {
   "cell_type": "code",
   "execution_count": 7,
   "id": "5845307f",
   "metadata": {},
   "outputs": [
    {
     "data": {
      "text/plain": [
       "Index(['session', 'year', 'country', 'text'], dtype='object')"
      ]
     },
     "execution_count": 7,
     "metadata": {},
     "output_type": "execute_result"
    }
   ],
   "source": [
    "df.columns"
   ]
  },
  {
   "cell_type": "code",
   "execution_count": 8,
   "id": "46e1a03e",
   "metadata": {},
   "outputs": [
    {
     "data": {
      "text/plain": [
       "session     int64\n",
       "year        int64\n",
       "country    object\n",
       "text       object\n",
       "dtype: object"
      ]
     },
     "execution_count": 8,
     "metadata": {},
     "output_type": "execute_result"
    }
   ],
   "source": [
    "df.dtypes"
   ]
  },
  {
   "cell_type": "code",
   "execution_count": 9,
   "id": "68e48e93",
   "metadata": {},
   "outputs": [
    {
     "data": {
      "text/html": [
       "<div>\n",
       "<style scoped>\n",
       "    .dataframe tbody tr th:only-of-type {\n",
       "        vertical-align: middle;\n",
       "    }\n",
       "\n",
       "    .dataframe tbody tr th {\n",
       "        vertical-align: top;\n",
       "    }\n",
       "\n",
       "    .dataframe thead th {\n",
       "        text-align: right;\n",
       "    }\n",
       "</style>\n",
       "<table border=\"1\" class=\"dataframe\">\n",
       "  <thead>\n",
       "    <tr style=\"text-align: right;\">\n",
       "      <th></th>\n",
       "      <th>session</th>\n",
       "      <th>year</th>\n",
       "    </tr>\n",
       "  </thead>\n",
       "  <tbody>\n",
       "    <tr>\n",
       "      <th>count</th>\n",
       "      <td>7507.000000</td>\n",
       "      <td>7507.000000</td>\n",
       "    </tr>\n",
       "    <tr>\n",
       "      <th>mean</th>\n",
       "      <td>49.610763</td>\n",
       "      <td>1994.610763</td>\n",
       "    </tr>\n",
       "    <tr>\n",
       "      <th>std</th>\n",
       "      <td>12.892155</td>\n",
       "      <td>12.892155</td>\n",
       "    </tr>\n",
       "    <tr>\n",
       "      <th>min</th>\n",
       "      <td>25.000000</td>\n",
       "      <td>1970.000000</td>\n",
       "    </tr>\n",
       "    <tr>\n",
       "      <th>25%</th>\n",
       "      <td>39.000000</td>\n",
       "      <td>1984.000000</td>\n",
       "    </tr>\n",
       "    <tr>\n",
       "      <th>50%</th>\n",
       "      <td>51.000000</td>\n",
       "      <td>1996.000000</td>\n",
       "    </tr>\n",
       "    <tr>\n",
       "      <th>75%</th>\n",
       "      <td>61.000000</td>\n",
       "      <td>2006.000000</td>\n",
       "    </tr>\n",
       "    <tr>\n",
       "      <th>max</th>\n",
       "      <td>70.000000</td>\n",
       "      <td>2015.000000</td>\n",
       "    </tr>\n",
       "  </tbody>\n",
       "</table>\n",
       "</div>"
      ],
      "text/plain": [
       "           session         year\n",
       "count  7507.000000  7507.000000\n",
       "mean     49.610763  1994.610763\n",
       "std      12.892155    12.892155\n",
       "min      25.000000  1970.000000\n",
       "25%      39.000000  1984.000000\n",
       "50%      51.000000  1996.000000\n",
       "75%      61.000000  2006.000000\n",
       "max      70.000000  2015.000000"
      ]
     },
     "execution_count": 9,
     "metadata": {},
     "output_type": "execute_result"
    }
   ],
   "source": [
    "df.describe() # restricted to numerical data"
   ]
  },
  {
   "cell_type": "markdown",
   "id": "22d2b745",
   "metadata": {},
   "source": [
    "## Overview of the data with Pandas\n",
    "1. Calculate summary statistics\n",
    "2. Check for missing values\n",
    "3. Plot distributions of interesting features\n",
    "4. Compare distributions across categories\n",
    "5. Visualize developments over time"
   ]
  },
  {
   "cell_type": "markdown",
   "id": "53d4cb32",
   "metadata": {},
   "source": [
    "### Summary statistics"
   ]
  },
  {
   "cell_type": "code",
   "execution_count": 10,
   "id": "2c595436",
   "metadata": {},
   "outputs": [],
   "source": [
    "df['length']=df['text'].str.len()"
   ]
  },
  {
   "cell_type": "code",
   "execution_count": 11,
   "id": "cf283872",
   "metadata": {},
   "outputs": [
    {
     "data": {
      "text/html": [
       "<div>\n",
       "<style scoped>\n",
       "    .dataframe tbody tr th:only-of-type {\n",
       "        vertical-align: middle;\n",
       "    }\n",
       "\n",
       "    .dataframe tbody tr th {\n",
       "        vertical-align: top;\n",
       "    }\n",
       "\n",
       "    .dataframe thead th {\n",
       "        text-align: right;\n",
       "    }\n",
       "</style>\n",
       "<table border=\"1\" class=\"dataframe\">\n",
       "  <thead>\n",
       "    <tr style=\"text-align: right;\">\n",
       "      <th></th>\n",
       "      <th>session</th>\n",
       "      <th>year</th>\n",
       "      <th>length</th>\n",
       "    </tr>\n",
       "  </thead>\n",
       "  <tbody>\n",
       "    <tr>\n",
       "      <th>count</th>\n",
       "      <td>7507.000000</td>\n",
       "      <td>7507.000000</td>\n",
       "      <td>7507.000000</td>\n",
       "    </tr>\n",
       "    <tr>\n",
       "      <th>mean</th>\n",
       "      <td>49.610763</td>\n",
       "      <td>1994.610763</td>\n",
       "      <td>17967.281604</td>\n",
       "    </tr>\n",
       "    <tr>\n",
       "      <th>std</th>\n",
       "      <td>12.892155</td>\n",
       "      <td>12.892155</td>\n",
       "      <td>7860.038463</td>\n",
       "    </tr>\n",
       "    <tr>\n",
       "      <th>min</th>\n",
       "      <td>25.000000</td>\n",
       "      <td>1970.000000</td>\n",
       "      <td>2362.000000</td>\n",
       "    </tr>\n",
       "    <tr>\n",
       "      <th>25%</th>\n",
       "      <td>39.000000</td>\n",
       "      <td>1984.000000</td>\n",
       "      <td>12077.000000</td>\n",
       "    </tr>\n",
       "    <tr>\n",
       "      <th>50%</th>\n",
       "      <td>51.000000</td>\n",
       "      <td>1996.000000</td>\n",
       "      <td>16424.000000</td>\n",
       "    </tr>\n",
       "    <tr>\n",
       "      <th>75%</th>\n",
       "      <td>61.000000</td>\n",
       "      <td>2006.000000</td>\n",
       "      <td>22479.500000</td>\n",
       "    </tr>\n",
       "    <tr>\n",
       "      <th>max</th>\n",
       "      <td>70.000000</td>\n",
       "      <td>2015.000000</td>\n",
       "      <td>72041.000000</td>\n",
       "    </tr>\n",
       "  </tbody>\n",
       "</table>\n",
       "</div>"
      ],
      "text/plain": [
       "           session         year        length\n",
       "count  7507.000000  7507.000000   7507.000000\n",
       "mean     49.610763  1994.610763  17967.281604\n",
       "std      12.892155    12.892155   7860.038463\n",
       "min      25.000000  1970.000000   2362.000000\n",
       "25%      39.000000  1984.000000  12077.000000\n",
       "50%      51.000000  1996.000000  16424.000000\n",
       "75%      61.000000  2006.000000  22479.500000\n",
       "max      70.000000  2015.000000  72041.000000"
      ]
     },
     "execution_count": 11,
     "metadata": {},
     "output_type": "execute_result"
    }
   ],
   "source": [
    "df.describe()"
   ]
  },
  {
   "cell_type": "code",
   "execution_count": 12,
   "id": "faf2e156",
   "metadata": {},
   "outputs": [
    {
     "data": {
      "text/plain": [
       "0       MDV\n",
       "1       FIN\n",
       "2       NER\n",
       "3       URY\n",
       "4       ZWE\n",
       "       ... \n",
       "7502    KAZ\n",
       "7503    LBR\n",
       "7504    BDI\n",
       "7505    HUN\n",
       "7506    KWT\n",
       "Name: country, Length: 7507, dtype: object"
      ]
     },
     "execution_count": 12,
     "metadata": {},
     "output_type": "execute_result"
    }
   ],
   "source": [
    "df['country']"
   ]
  },
  {
   "cell_type": "markdown",
   "id": "d5e355d2",
   "metadata": {},
   "source": [
    "How to obtain a summary for Strings by specifying include='0'"
   ]
  },
  {
   "cell_type": "code",
   "execution_count": 13,
   "id": "0ff71fba",
   "metadata": {},
   "outputs": [
    {
     "data": {
      "text/plain": [
       "count     7507\n",
       "unique     199\n",
       "top        IRN\n",
       "freq        46\n",
       "Name: country, dtype: object"
      ]
     },
     "execution_count": 13,
     "metadata": {},
     "output_type": "execute_result"
    }
   ],
   "source": [
    "df['country'].describe(include='0')"
   ]
  },
  {
   "cell_type": "markdown",
   "id": "1e47d478",
   "metadata": {},
   "source": [
    "## Checking for missing data"
   ]
  },
  {
   "cell_type": "code",
   "execution_count": 14,
   "id": "c52cf1fe",
   "metadata": {},
   "outputs": [
    {
     "data": {
      "text/plain": [
       "session    0\n",
       "year       0\n",
       "country    0\n",
       "text       0\n",
       "length     0\n",
       "dtype: int64"
      ]
     },
     "execution_count": 14,
     "metadata": {},
     "output_type": "execute_result"
    }
   ],
   "source": [
    "df.isna().sum()"
   ]
  },
  {
   "cell_type": "markdown",
   "id": "4d099fed",
   "metadata": {},
   "source": [
    "## Plotting value distribution"
   ]
  },
  {
   "cell_type": "markdown",
   "id": "90179759",
   "metadata": {},
   "source": [
    "box-plot and histogram for numerical variables"
   ]
  },
  {
   "cell_type": "code",
   "execution_count": 15,
   "id": "5a9b0ef4",
   "metadata": {},
   "outputs": [
    {
     "data": {
      "text/plain": [
       "<Axes: >"
      ]
     },
     "execution_count": 15,
     "metadata": {},
     "output_type": "execute_result"
    },
    {
     "data": {
      "image/png": "[encoded data removed]",
      "text/plain": [
       "<Figure size 640x480 with 1 Axes>"
      ]
     },
     "metadata": {},
     "output_type": "display_data"
    }
   ],
   "source": [
    "df['length'].plot(kind='box') # option vert=False pour le mettre à l'horizontale"
   ]
  },
  {
   "cell_type": "code",
   "execution_count": 16,
   "id": "ab215afe",
   "metadata": {},
   "outputs": [
    {
     "data": {
      "text/plain": [
       "<Axes: title={'center': 'Histogram of variable length'}, ylabel='Frequency'>"
      ]
     },
     "execution_count": 16,
     "metadata": {},
     "output_type": "execute_result"
    },
    {
     "data": {
      "image/png": "[encoded data removed]",
      "text/plain": [
       "<Figure size 640x480 with 1 Axes>"
      ]
     },
     "metadata": {},
     "output_type": "display_data"
    }
   ],
   "source": [
    "df['length'].plot(kind='hist',bins=30,title='Histogram of variable length') # bins=30 the numerical values are divided into 30 intervals of equal width"
   ]
  },
  {
   "cell_type": "markdown",
   "id": "a835bc44",
   "metadata": {},
   "source": [
    "## Comparing values across categories"
   ]
  },
  {
   "cell_type": "markdown",
   "id": "cbdc0791",
   "metadata": {},
   "source": [
    "- Comparisons of the distribution of variables across different categories of the data\n",
    "- Visualisation with boxplot and violin \n",
    "- Seaborn's catplot"
   ]
  },
  {
   "cell_type": "code",
   "execution_count": null,
   "id": "42c1121d",
   "metadata": {},
   "outputs": [],
   "source": [
    "where = df['country'].isin(['USA','FRA','GBR'])"
   ]
  },
  {
   "cell_type": "code",
   "execution_count": null,
   "id": "9223604e",
   "metadata": {},
   "outputs": [],
   "source": [
    "sns.catplot(data=df[where],x=\"country\",y=\"length\",kind=\"box\")"
   ]
  },
  {
   "cell_type": "markdown",
   "id": "37b2aad8",
   "metadata": {},
   "source": [
    "- The violin plot is a \"smoothed\" version of the boxplot\n",
    "- The frequencies are represented by the width of the violin body"
   ]
  },
  {
   "cell_type": "code",
   "execution_count": null,
   "id": "4cb0050d",
   "metadata": {},
   "outputs": [],
   "source": [
    "sns.catplot(data=df[where],x=\"country\",y=\"length\",kind=\"violin\")"
   ]
  },
  {
   "cell_type": "markdown",
   "id": "84a920bd",
   "metadata": {},
   "source": [
    "## Vizualizing Developments over time\n",
    "\n",
    "- When data have date or time attributes \n",
    "- Example: representing the number of countries per year (one speech by country every year)\n"
   ]
  },
  {
   "cell_type": "code",
   "execution_count": null,
   "id": "c63f4261-ab7e-479a-ae03-c9d356158650",
   "metadata": {},
   "outputs": [],
   "source": [
    "df.groupby('year').size()"
   ]
  },
  {
   "cell_type": "code",
   "execution_count": null,
   "id": "eea93280",
   "metadata": {},
   "outputs": [],
   "source": [
    "df.groupby('year').size().plot(title=\"Number of countries\")"
   ]
  },
  {
   "cell_type": "markdown",
   "id": "6a2a181c",
   "metadata": {},
   "source": [
    "Computation of the average speech length by year"
   ]
  },
  {
   "cell_type": "code",
   "execution_count": null,
   "id": "c9ce6005",
   "metadata": {},
   "outputs": [],
   "source": [
    "df.groupby('year').agg({\"length\":\"mean\"}).plot(title=\"Avg. Speech Length\", ylim=(0,30000))"
   ]
  },
  {
   "cell_type": "markdown",
   "id": "8668d2ab",
   "metadata": {},
   "source": [
    "# Building a Simple Text Processing Pipeline"
   ]
  },
  {
   "cell_type": "markdown",
   "id": "aadd8406-f228-438f-8a96-dad969b3eef4",
   "metadata": {},
   "source": [
    "- Tranformation of the source text \n",
    "- Three steps:\n",
    "    1. Case-folding into lowercase\n",
    "    2. Tokenization\n",
    "    3. Stop word removal\n",
    "- Final output: **prepared tokens**"
   ]
  },
  {
   "cell_type": "markdown",
   "id": "5fa30652-78d6-4286-8445-af2d14618e7b",
   "metadata": {},
   "source": [
    "## Performing Tokenization\n",
    "\n",
    "- Tokenization is the process of extracting words from a sequence of characters\n",
    "- In Western languages, words are separated by space and punctuation most of the time\n",
    "- We present a simple tokenizer based on regular expressions and show how to use an arbitrary stop words list\n",
    "- We use Python libraries re and regex"
   ]
  },
  {
   "cell_type": "code",
   "execution_count": 143,
   "id": "35382026",
   "metadata": {},
   "outputs": [],
   "source": [
    "import regex as re"
   ]
  },
  {
   "cell_type": "markdown",
   "id": "879bc64b",
   "metadata": {},
   "source": [
    "#### Building a function which perform tokenization"
   ]
  },
  {
   "cell_type": "code",
   "execution_count": 144,
   "id": "27630a05",
   "metadata": {},
   "outputs": [],
   "source": [
    "def tokenize(text):\n",
    "    return re.findall(r'[\\w-]*\\p{L}[\\w-]*',text)"
   ]
  },
  {
   "cell_type": "code",
   "execution_count": 145,
   "id": "36bc6e33",
   "metadata": {},
   "outputs": [
    {
     "name": "stdout",
     "output_type": "stream",
     "text": [
      "For/the/meetings/before/the/transcripts/were/produced/from/the/original/raw/transcripts/in/the/FOMC/Secretariat/s/files\n"
     ]
    }
   ],
   "source": [
    "test=\"For the meetings before 1994, the transcripts were produced from the original, raw transcripts in the FOMC Secretariat's files\"\n",
    "tokens=tokenize(test)\n",
    "print(\"/\".join(tokens))\n"
   ]
  },
  {
   "cell_type": "markdown",
   "id": "9c836caf",
   "metadata": {},
   "source": [
    "## Treating stop words\n",
    "- The most frequent words are common words: auxiliary verbs, pronouns, adverbs, determiners ( a word that is used before a noun to show which particular example of the noun you are referring to),...\n",
    "- These words are called **stop words**  \n",
    "- not very informative about the content of a text, but very frequent\n",
    "- stop words are therefore frequently removed from the text\n",
    "- **stop words are removed according to a predefined list** \n",
    "- those lists are available for many languages\n",
    "- we consider an example with NLTK list of stop words\n"
   ]
  },
  {
   "cell_type": "code",
   "execution_count": 146,
   "id": "8e471e72-cc8f-4a62-9fdf-c5128af0e6cd",
   "metadata": {},
   "outputs": [],
   "source": [
    "import nltk\n",
    "#nltk.download('stopwords')"
   ]
  },
  {
   "cell_type": "code",
   "execution_count": 147,
   "id": "aa4176c7",
   "metadata": {},
   "outputs": [
    {
     "name": "stdout",
     "output_type": "stream",
     "text": [
      "{'those', \"hasn't\", 'over', 'yours', 'mightn', 'so', 'm', \"aren't\", 'don', 'until', 'under', \"haven't\", 'yourself', 'now', 'shouldn', 'while', 'nor', 'he', \"mightn't\", 'because', 'hasn', 'doing', 'o', 'was', 'only', 'where', \"doesn't\", 'than', 'or', 'very', 'that', 'into', 'through', 'up', 'ain', 'wasn', 'shan', \"you've\", 'with', 'few', 'most', 'by', 'i', 'yourselves', 'ma', 'won', 'its', 'too', 'are', 'doesn', 'down', 'which', 'all', 'but', 've', 'during', 'these', 'and', 'ours', 'll', \"should've\", \"needn't\", 'whom', 'after', \"won't\", 'aren', 'his', 'y', 'each', 'can', 'they', 'been', 'theirs', 'about', 'this', 'being', 'why', 'who', 'ourselves', 'own', 'do', 'me', 'how', \"you'll\", 'she', 'have', 'weren', 'if', 'hadn', \"shan't\", 'himself', 'some', 'before', \"you're\", 'her', 'it', 's', 'him', 'be', 'didn', 'we', 'having', 'for', 'here', 'a', 'their', \"didn't\", 'herself', 'any', 'further', 'same', 'itself', 'then', 'against', \"mustn't\", 'had', 'wouldn', 'themselves', 'of', 'couldn', \"wouldn't\", 'more', \"weren't\", 'from', 'haven', 'other', 'an', 'again', 'at', 'out', 'not', 'does', 'mustn', 'should', 'hers', \"it's\", 'the', 'once', 'is', 't', 'd', 'will', 'has', 'were', \"isn't\", 'to', \"you'd\", 'there', \"couldn't\", 'you', 'am', 'isn', \"wasn't\", 'between', \"she's\", 'myself', 'what', 'on', \"shouldn't\", 'my', 'below', 'our', \"hadn't\", 'needn', 'them', 'as', 'off', 'just', 'your', 'above', 'no', \"that'll\", 'in', \"don't\", 're', 'such', 'did', 'when', 'both'}\n"
     ]
    }
   ],
   "source": [
    "# Import stopwords from NLTK\n",
    "\n",
    "stopwords=set(nltk.corpus.stopwords.words('english'))\n",
    "print(stopwords)"
   ]
  },
  {
   "cell_type": "code",
   "execution_count": 22,
   "id": "b5e2b751",
   "metadata": {},
   "outputs": [
    {
     "data": {
      "text/plain": [
       "179"
      ]
     },
     "execution_count": 22,
     "metadata": {},
     "output_type": "execute_result"
    }
   ],
   "source": [
    "len(stopwords)"
   ]
  },
  {
   "cell_type": "markdown",
   "id": "a8317f89-cc16-4b81-b907-a7ec96d0f39e",
   "metadata": {},
   "source": [
    "#### Comments\n",
    "- not of a lot of stop words in this list\n",
    "- some inconsistencies: \"has\" is not in the list but \"hasn't\" belongs to it\n",
    "- be cautious when using stop words lists and check if they are in line with the objectives of the analysis"
   ]
  },
  {
   "cell_type": "code",
   "execution_count": 148,
   "id": "f2e7c57e-e7f5-4955-9b2e-56aa37800ea9",
   "metadata": {},
   "outputs": [
    {
     "name": "stdout",
     "output_type": "stream",
     "text": [
      "327\n",
      "{'unless', 'throughout', 'much', 'amount', 'so', 'until', 'under', 'yourself', 'made', 'thereafter', 'nor', 'he', 'only', 'often', 'thence', 'without', 'say', 'however', 'most', 'by', 'two', 'together', 'would', 'someone', 'sometime', 'but', 'bottom', 'latterly', 'full', '’s', 'afterwards', 'being', '’re', 'sometimes', 'own', 'me', 'us', 'alone', 'how', 'if', 'himself', 'somehow', 'take', 'fifty', 'it', '‘m', 'be', 'here', 'further', 'except', 'themselves', 'mine', 'please', 'around', 'meanwhile', 'should', \"n't\", 'once', 'another', 'has', 'am', 'becomes', 'myself', 'due', 'enough', 'no', 're', 'when', 'indeed', \"'d\", 'empty', '’m', 'seeming', 'otherwise', \"'s\", 'upon', 'toward', 'whoever', 'while', 'hundred', 'than', 'thru', 'anywhere', 'everywhere', 'first', 'really', 'least', 'n‘t', 'yourselves', 'back', 'via', 'last', 'might', 'moreover', 'are', 'whatever', 'which', 'all', 'during', 'and', 'seem', 'hence', 'n’t', 'ours', 'whom', 'quite', 'thereby', 'seems', 'third', 'noone', 'this', 'why', 'never', \"'ve\", 'either', 'almost', 'always', 'she', 'have', '‘s', 'less', 'rather', 'some', '‘re', 'even', 'latter', 'mostly', 'we', 'for', 'nine', 'give', 'though', 'elsewhere', 'any', 'same', 'become', 'itself', 'part', 'name', 'many', 'per', 'fifteen', 'nowhere', 'eleven', 'from', 'out', 'beside', 'behind', 'neither', 'were', 'besides', 'go', 'four', 'eight', 'on', 'my', 'may', 'whither', 'whereby', 'show', 'side', 'make', 'in', 'twelve', 'within', \"'ll\", 'anyhow', 'those', 'hereupon', 'over', 'yours', 'keep', 'could', 'across', 'because', 'since', 'becoming', 'was', 'where', 'or', 'very', 'into', 'through', 'none', \"'re\", 'with', 'sixty', \"'m\", 'others', 'regarding', 'down', 'next', 'these', 'thereupon', 'dear', '’ve', 'formerly', '’d', 'wherein', 'each', 'been', 'about', 'therein', 'five', 'move', 'perhaps', 'who', 'beforehand', 'ourselves', 'became', 'regards', 'cannot', 'her', 'him', 'a', 'three', 'nevertheless', 'had', 'every', '‘ve', 'more', 'other', 'again', 'an', 'along', 'at', 'not', 'does', 'hers', 'six', 'is', 'will', 'nothing', 'therefore', 'to', 'whereas', 'although', 'already', 'must', 'what', 'below', 'them', 'off', 'just', 'well', 'above', 'get', 'amongst', 'whether', 'call', 'forty', 'towards', 'various', 'front', 'now', 'ever', 'beyond', 'one', 'doing', 'using', 'somewhere', 'hereafter', 'everything', 'that', 'up', 'wherever', 'serious', 'few', 'something', 'i', '’ll', 'seemed', 'its', 'too', 'whenever', 'whose', 'top', 'used', 'after', 'namely', 'his', '‘d', 'put', 'can', 'ca', 'they', 'twenty', 'ten', 'former', 'yet', 'whereupon', 'do', 'hereby', 'among', 'see', 'done', 'before', 'whereafter', 'herein', 'their', 'whole', '‘ll', 'herself', 'everyone', 'then', 'anything', 'else', 'of', 'also', 'onto', 'the', 'nobody', 'anyway', 'there', 'you', 'thus', 'anyone', 'between', 'our', 'several', 'still', 'as', 'your', 'whence', 'such', 'did', 'both'}\n"
     ]
    }
   ],
   "source": [
    "import spacy \n",
    "import en_core_web_sm\n",
    "en = en_core_web_sm.load()\n",
    "\n",
    "# Import stopword from spaCy\n",
    "#import spacy \n",
    "\n",
    "# Import stopword from spaCy\n",
    "#import spacy \n",
    "#loading the english language small model of spacy\n",
    "\n",
    "stopwords_spa = en.Defaults.stop_words\n",
    "\n",
    "print(len(stopwords_spa))\n",
    "print(stopwords_spa)"
   ]
  },
  {
   "cell_type": "markdown",
   "id": "086bcd4c",
   "metadata": {},
   "source": [
    "#### Inclusion of domain-specific stop words\n",
    "\n",
    "- We can add domain-specific stop word to a predefined list with operator union/or |\n",
    "- We can exclude some specific stop word from a list with operator difference -"
   ]
  },
  {
   "cell_type": "code",
   "execution_count": 149,
   "id": "4f57bf97",
   "metadata": {},
   "outputs": [],
   "source": [
    "include_stopwords={'dear','regards','must','would','also'}\n",
    "exclude_stopwords={'against'}\n",
    "\n",
    "stopwords_spa |= include_stopwords\n",
    "stopwords_spa -= exclude_stopwords"
   ]
  },
  {
   "cell_type": "markdown",
   "id": "44ff4abb",
   "metadata": {},
   "source": [
    "#### Other options to set a list of stop words\n",
    "- remove words with a frequency above a given percentage\n",
    "\n",
    "#### A function to remove stopwords"
   ]
  },
  {
   "cell_type": "code",
   "execution_count": 150,
   "id": "5e8115f0",
   "metadata": {},
   "outputs": [],
   "source": [
    "def remove_stop(tokens):\n",
    "    return [t for t in tokens if t.lower() not in stopwords]"
   ]
  },
  {
   "cell_type": "markdown",
   "id": "f1131d43",
   "metadata": {},
   "source": [
    "## Processing a Pipeline with one line of code"
   ]
  },
  {
   "cell_type": "markdown",
   "id": "defad020",
   "metadata": {},
   "source": [
    "- We add a new column called **tokens** to the DataFrame containing the documents.\n",
    "- This column will contain lowercase, tokenized text, without stop words\n",
    "- We build a processing pipeline which implement all these tasks"
   ]
  },
  {
   "cell_type": "code",
   "execution_count": 151,
   "id": "d3dbb1c1",
   "metadata": {},
   "outputs": [],
   "source": [
    "pipeline = [str.lower,tokenize,remove_stop]"
   ]
  },
  {
   "cell_type": "code",
   "execution_count": 152,
   "id": "f8bdf085",
   "metadata": {},
   "outputs": [],
   "source": [
    "def prepare(text,pipeline):\n",
    "    tokens = text\n",
    "    for transform in pipeline:\n",
    "        tokens = transform(tokens)\n",
    "    return tokens"
   ]
  },
  {
   "cell_type": "markdown",
   "id": "c1103830",
   "metadata": {},
   "source": [
    "- Utilization of the functions **apply** and **map**\n",
    "- Series.map : works element by element on a Pandas Series\n",
    "- Series.apply : same as map but allows additional parameters\n",
    "- DataFrame.applymap : element by element on a Pandas DataFrame (same as map on Series)\n",
    "- DataFrame.apply : works on rows and columns of a DataFrame and supports aggregation"
   ]
  },
  {
   "cell_type": "code",
   "execution_count": 153,
   "id": "4adfac74",
   "metadata": {},
   "outputs": [],
   "source": [
    "df['tokens']=df['text'].apply(prepare,pipeline=pipeline)"
   ]
  },
  {
   "cell_type": "code",
   "execution_count": 154,
   "id": "6a646ad6",
   "metadata": {},
   "outputs": [
    {
     "data": {
      "text/plain": [
       "1306    [permit, congratulate, mr, president, election...\n",
       "5708    [allow, congratulate, sir, election, presidenc...\n",
       "Name: tokens, dtype: object"
      ]
     },
     "execution_count": 154,
     "metadata": {},
     "output_type": "execute_result"
    }
   ],
   "source": [
    "df['tokens'].sample(2)"
   ]
  },
  {
   "cell_type": "code",
   "execution_count": 155,
   "id": "4204a260",
   "metadata": {},
   "outputs": [
    {
     "data": {
      "text/plain": [
       "3672    954\n",
       "251     874\n",
       "1095    785\n",
       "Name: num_tokens, dtype: int64"
      ]
     },
     "execution_count": 155,
     "metadata": {},
     "output_type": "execute_result"
    }
   ],
   "source": [
    "df['num_tokens']=df['tokens'].map(len)\n",
    "df['num_tokens'].sample(3)"
   ]
  },
  {
   "cell_type": "markdown",
   "id": "370c2e84",
   "metadata": {},
   "source": [
    "# Word Frequency Analysis: Bag-of-words approach\n",
    "- A first analysis of texts **based on words or phrases frequently used**\n",
    "- can be useful to uncover the main topics discussed in documents\n",
    "- limits of word frequency analysis:\n",
    "    - the order of words is not taken into account\n",
    "    - the context is ignored\n",
    "    - **bag-of-words** model: all words are put into a bag\n",
    "- **bag-of-words** is fit for:\n",
    "    - classification\n",
    "    - topic modeling\n",
    "- **bag-of-words** doesn\\'t work well for:\n",
    "    - sentiment analysis\n",
    "    - question answering\n",
    "\n",
    "\n",
    "\n",
    "## Counting words with a counter"
   ]
  },
  {
   "cell_type": "code",
   "execution_count": 156,
   "id": "902a4c49",
   "metadata": {},
   "outputs": [
    {
     "name": "stdout",
     "output_type": "stream",
     "text": [
      "Counter({'united': 24, 'nations': 23, 'international': 15, 'development': 14, 'assembly': 13, 'year': 12, 'states': 11, 'finland': 11, 'countries': 11, 'general': 10, 'global': 10, 'peace-keeping': 10, 'world': 9, 'also': 8, 'organization': 8, 'new': 8, 'developing': 8, 'problems': 8, 'security': 7, 'co-operation': 7, 'environment': 7, 'session': 6, 'role': 6, 'member': 6, 'possible': 6, 'order': 6, 'challenges': 6, 'help': 6, 'must': 6, 'time': 6, 'respect': 6, 'process': 6, 'conference': 6, 'already': 6, 'special': 6, 'strategy': 6, 'national': 6, 'population': 6, 'part': 5, 'present': 5, 'major': 5, 'level': 5, 'finnish': 5, 'requires': 5, 'confidence': 5, 'soon': 5, 'activities': 5, 'protection': 5, 'operations': 5, 'namibia': 5, 'may': 4, 'secretary-general': 4, 'emphasize': 4, 'particularly': 4, 'poverty': 4, 'peace': 4, 'efforts': 4, 'course': 4, 'preparation': 4, 'could': 4, 'take': 4, 'human': 4, 'therefore': 4, 'economic': 4, 'resources': 4, 'increasing': 4, 'would': 4, 'fields': 4, 'forward': 4, 'sustainable': 4, 'number': 4, 'action': 4, 'ozone': 4, 'layer': 4, 'effort': 4, 'environmentally': 4, 'personnel': 4, 'particular': 3, 'needs': 3, 'questions': 3, 'meet': 3, 'progress': 3, 'last': 3, 'century': 3, 'us': 3, 'two': 3, 'continued': 3, 'weapons': 3, 'europe': 3, 'hope': 3, 'continues': 3, 'many': 3, 'problem': 3, 'convention': 3, 'demonstrated': 3, 'comprehensive': 3, 'welcome': 3, 'future': 3, 'governments': 3, 'government': 3, 'face': 3, 'importance': 3, '1990s': 3, 'including': 3, 'financing': 3, 'debt': 3, 'transfer': 3, 'solution': 3, 'found': 3, 'cannot': 3, 'community': 3, 'important': 3, 'thus': 3, 'proposals': 3, 'place': 3, 'measures': 3, 'industrialized': 3, 'substances': 3, 'field': 3, 'undertaking': 3, 'environmental': 3, 'phase': 3, 'make': 3, 'sound': 3, 'available': 3, 'urgent': 3, 'share': 3, 'concern': 3, 'forces': 3, 'almost': 3, 'financial': 3, 'still': 3, 'within': 3, 'middle': 3, 'east': 3, 'settlement': 3, 'experience': 2, 'express': 2, 'thanks': 2, 'president': 2, 'gives': 2, 'pay': 2, 'state': 2, 'everything': 2, 'making': 2, 'determination': 2, 'work': 2, 'shall': 2, 'regard': 2, 'produce': 2, 'suffering': 2, 'first': 2, 'maintain': 2, 'witnessed': 2, 'satisfaction': 2, 'concrete': 2, 'destruction': 2, 'soviet': 2, 'one': 2, 'disarmament': 2, 'violence': 2, 'parts': 2, 'chemical': 2, 'political': 2, 'research': 2, 'appropriate': 2, 'expect': 2, 'growing': 2, 'recently': 2, 'felt': 2, 'rights': 2, 'people': 2, 'challenge': 2, 'overcome': 2, 'next': 2, 'recognition': 2, 'sector': 2, 'effective': 2, 'well': 2, 'co-ordinated': 2, 'overhang': 2, 'billion': 2, 'target': 2, 'reach': 2, 'structure': 2, 'social': 2, 'tasks': 2, 'play': 2, 'wish': 2, 'opinion': 2, 'prominent': 2, 'rate': 2, 'natural': 2, 'earth': 2, 'continue': 2, 'awareness': 2, 'strongly': 2, 'according': 2, 'recent': 2, 'early': 2, 'growth': 2, 'facilitate': 2, 'policies': 2, 'pursued': 2, 'vigorously': 2, 'widely': 2, 'recognized': 2, 'climate': 2, 'change': 2, 'greenhouse': 2, 'effect': 2, 'cause': 2, 'dangers': 2, 'taken': 2, 'view': 2, 'strategies': 2, 'universal': 2, 'parties': 2, 'montreal': 2, 'protocol': 2, 'latest': 2, 'knowledge': 2, 'ozone-depleting': 2, 'converted': 2, 'meeting': 2, 'typical': 2, 'soil': 2, 'erosion': 2, 'mistakes': 2, 'earlier': 2, 'practical': 2, 'programmes': 2, 'deforestation': 2, 'see': 2, 'decisions': 2, 'connection': 2, 'support': 2, 'burden': 2, 'accept': 2, 'without': 2, 'exception': 2, 'open': 2, 'mind': 2, 'experiences': 2, 'whole': 2, 'idea': 2, 'full': 2, 'principle': 2, 'assessed': 2, 'contributions': 2, 'transition': 2, 'untag': 2, 'independence': 2, 'persistent': 2, 'call': 2, 'territories': 2, 'occupied': 2, 'way': 2, 'lebanese': 2, 'right': 2, 'elections': 2, 'serious': 2, 'begin': 1, 'congratulating': 1, 'sir': 1, 'election': 1, 'presidency': 1, 'forty-fourth': 1, 'wide': 1, 'makes': 1, 'especially': 1, 'qualified': 1, 'guide': 1, 'deliberations': 1, 'best': 1, 'wishes': 1, 'demanding': 1, 'task': 1, 'lies': 1, 'ahead': 1, 'outgoing': 1, 'mr': 1, 'dante': 1, 'caputo': 1, 'ably': 1, 'fulfilled': 1, 'behalf': 1, 'pleasure': 1, 'tribute': 1, 'owe': 1, 'great': 1, 'deal': 1, 'authority': 1, 'leadership': 1, 'assembled': 1, 'annual': 1, 'debate': 1, 'every': 1, 'reflect': 1, 'certain': 1, 'fundamental': 1, 'say': 1, 'enters': 1, 'decade': 1, 'justified': 1, 'self-confidence': 1, 'country': 1, 'answers': 1, 'sought': 1, 'actual': 1, 'try': 1, 'imports': 1, 'seems': 1, 'main': 1, 'expressed': 1, 'words': 1, '-insecurity': 1, 'fear': 1, 'neither': 1, 'dealt': 1, 'single': 1, 'remedy': 1, 'created': 1, 'foremost': 1, 'past': 1, 'represents': 1, 'mixture': 1, 'success': 1, 'disappointment': 1, 'encouraged': 1, 'high-level': 1, 'dialogues': 1, 'powers': 1, 'achievements': 1, 'continuing': 1, 'verified': 1, 'dismantling': 1, 'american': 1, 'intermediate-range': 1, 'nuclear': 1, 'participating': 1, 'cooperation': 1, 'follow': 1, 'closely': 1, 'much': 1, 'achieve': 1, 'substantive': 1, 'conventional': 1, 'concerned': 1, 'erupted': 1, 'underlying': 1, 'agenda': 1, 'views': 1, 'due': 1, 'want': 1, 'speak': 1, 'regards': 1, 'hopes': 1, 'fastened': 1, 'conferences': 1, 'held': 1, 'paris': 1, 'canberra': 1, 'experts': 1, 'develop': 1, 'methods': 1, 'complex': 1, 'verification': 1, 'requirements': 1, 'protracted': 1, 'negotiations': 1, 'impatience': 1, 'impetus': 1, 'given': 1, 'bilateral': 1, 'talks': 1, 'union': 1, 'account': 1, 'factors': 1, 'addition': 1, 'armaments': 1, 'military': 1, 'threats': 1, 'peoples': 1, 'representative': 1, 'respects': 1, 'enjoys': 1, 'sense': 1, 'successfully': 1, 'stable': 1, 'relations': 1, 'dramatic': 1, 'fact': 1, 'tragic': 1, 'events': 1, 'illustrated': 1, 'lessons': 1, 'learned': 1, 'sufferings': 1, 'evidence': 1, 'everywhere': 1, 'devoted': 1, 'thereafter': 1, 'adopted': 1, 'successful': 1, 'realistic': 1, 'bring': 1, 'spirit': 1, 'preparing': 1, 'emphasis': 1, 'forms': 1, 'well-functioning': 1, 'private': 1, 'balance': 1, 'public': 1, 'context': 1, 'funding': 1, 'generated': 1, 'sources': 1, 'necessary': 1, 'investments': 1, 'require': 1, 'domestic': 1, 'external': 1, 'resulted': 1, 'exceeded': 1, 'trend': 1, 'reversed': 1, 'functioning': 1, 'upcoming': 1, 'reverse': 1, 'per': 1, 'cent': 1, 'gross': 1, 'product': 1, 'development-and': 1, 'generally': 1, 'reached': 1, 'set': 1, 'respond': 1, 'specified': 1, '-consolidating': 1, 'finds': 1, 'catalytic': 1, 'putting': 1, 'improve': 1, 'effectiveness': 1, 'agreeing': 1, 'areas': 1, 'concentrate': 1, 'today': 1, 'issues': 1, 'grow': 1, 'depleted': 1, 'reflected': 1, 'prompted': 1, 'positive': 1, 'needed': 1, 'estimates': 1, 'stabilize': 1, 'twenty-first': 1, 'persons': 1, 'stabilisation': 1, 'fight': 1, 'goal': 1, 'determined': 1, 'translated': 1, 'plans': 1, 'spelled': 1, 'plan': 1, 'lately': 1, 'become': 1, 'apparent': 1, 'directly': 1, 'affected': 1, 'depletion': 1, 'emissions': 1, 'carbon': 1, 'dioxides': 1, 'so-called': 1, 'presence': 1, 'atmosphere': 1, 'acid': 1, 'rain': 1, 'direct': 1, 'health': 1, 'hardly': 1, 'surprise': 1, 'activity': 1, 'several': 1, 'initiatives': 1, 'launch': 1, 'concerted': 1, 'combat': 1, 'atmospheric': 1, 'pollution': 1, 'aspects': 1, 'climatic': 1, 'developed': 1, 'relating': 1, 'consolidated': 1, 'relevant': 1, 'specialized': 1, 'agencies': 1, 'character': 1, 'streamlined': 1, 'ongoing': 1, 'well-established': 1, 'treaty-making': 1, 'procedures': 1, 'pivotal': 1, 'five': 1, 'months': 1, 'ago': 1, 'hosted': 1, 'vienna': 1, 'aid': 1, 'deplete': 1, 'instruments': 1, 'respectively': 1, 'inadequate': 1, 'light': 1, 'advances': 1, 'representatives': 1, 'agreed': 1, 'unanimously': 1, 'helsinki': 1, 'declaration': 1, 'contains': 1, 'ambitious': 1, 'completely': 1, 'use': 1, 'chlorofluorocarbons': 1, 'sooner': 1, 'legally': 1, 'binding': 1, 'decision': 1, 'undertaken': 1, 'substitutes': 1, 'often': 1, 'big': 1, 'urban': 1, 'centres': 1, 'forests': 1, 'illustrate': 1, 'committed': 1, 'generations': 1, 'learn': 1, 'information': 1, 'applied': 1, 'regional': 1, 'local': 1, 'emphasized': 1, 'feel': 1, 'expertise': 1, 'stop': 1, 'counteract': 1, 'counterbalance': 1, 'cutting': 1, 'trees': 1, 'fuel': 1, 'immediate': 1, 'renewable': 1, 'soirees': 1, 'energy': 1, 'crucial': 1, 'broader': 1, 'scale': 1, 'look': 1, 'representing': 1, 'probably': 1, 'joint': 1, 'required': 1, 'mankind': 1, 'remaining': 1, 'called': 1, 'upon': 1, 'need': 1, 'ensure': 1, 'large': 1, 'introduction': 1, 'technologies': 1, 'borne': 1, 'knowing': 1, 'capabilities': 1, 'since': 1, 'give': 1, 'incentive': 1, 'involve': 1, 'actively': 1, 'think': 1, 'ripe': 1, 'structural': 1, 'reforms': 1, 'responsive': 1, 'protecting': 1, 'regarding': 1, 'various': 1, 'ideas': 1, 'discussed': 1, 'find': 1, 'ensuring': 1, 'permanent': 1, 'rightly': 1, 'gained': 1, 'prominence': 1, 'biggest': 1, 'contributor': 1, 'total': 1, 'strength': 1, 'close': 1, 'pride': 1, 'house': 1, 'nobel': 1, 'prize': 1, 'awarded': 1, 'nordic': 1, 'steps': 1, 'interested': 1, 'concerning': 1, 'training': 1, 'contingents': 1, 'satisfied': 1, 'reactivation': 1, 'committee': 1, 'accumulated': 1, 'grown': 1, 'extent': 1, 'high': 1, 'indeed': 1, 'thorough': 1, 'review': 1, 'strengthen': 1, 'finding': 1, 'lasting': 1, 'difficulties': 1, 'affect': 1, 'current': 1, 'indirectly': 1, 'undermining': 1, 'basis': 1, 'sufficient': 1, 'reserves': 1, 'peacemaking': 1, 'start-up': 1, 'predecessor': 1, 'put': 1, 'address': 1, 'received': 1, 'quarters': 1, 'note': 1, 'report': 1, 'referred': 1, 'possibility': 1, 'establishing': 1, 'reserve': 1, 'fund': 1, 'supported': 1, 'followed': 1, 'practice': 1, 'collective': 1, 'responsibility': 1, 'condition': 1, 'principal': 1, 'factor': 1, 'explaining': 1, 'participation': 1, 'deployment': 1, 'enlarged': 1, 'battalion': 1, 'assistance': 1, 'group': 1, 'sizable': 1, 'volunteer': 1, 'soldiers': 1, 'added': 1, 'battalions': 1, 'smaller': 1, 'units': 1, 'serving': 1, 'elsewhere': 1, 'test': 1, 'beginnings': 1, 'uotag': 1, 'implement': 1, 'council': 1, 'resolution': 1, 'unexpectedly': 1, 'rough': 1, 'difficult': 1, 'draw': 1, 'conclusions': 1, 'believe': 1, 'programme': 1, 'brought': 1, 'back': 1, 'track': 1, 'competent': 1, 'performance': 1, 'remain': 1, 'solved': 1, 'unrelenting': 1, 'attention': 1, 'looking': 1, 'moment': 1, 'independent': 1, 'midst': 1, 'partner': 1, 'situation': 1, 'pose': 1, 'threat': 1, 'absence': 1, 'area': 1, 'daily': 1, 'repressive': 1, 'illegally': 1, 'israel': 1, 'cycle': 1, 'broken': 1, 'eking': 1, 'turmoil': 1, 'lebanon': 1, 'deep': 1, 'common': 1, 'endeavours': 1, 'arab': 1, 'league': 1, 'pressingly': 1, 'prepared': 1, 'towards': 1, 'basic': 1, 'principles': 1, 'region': 1, 'live': 1, 'secure': 1, 'boundaries': 1, 'palestinians': 1, 'recognised': 1, 'democratic': 1, 'properly': 1, 'mentored': 1, 'framework': 1, 'structured': 1, 'provide': 1, 'link': 1, 'leading': 1, 'momentum': 1, 'achieving': 1, 'long-standing': 1, 'conflict': 1, 'lost': 1, 'unless': 1, 'avenues': 1, 'made': 1, 'mubarak': 1, 'egypt': 1, 'merit': 1, 'consideration': 1, 'manifestly': 1, 'relevance': 1, 'strengthened': 1, 'forum': 1, 'yet': 1, 'solutions': 1, 're-invigorated': 1, 'answer': 1, 'inevitably': 1, 'beyond': 1, 'let': 1, 'unite': 1, 'capable': 1})\n"
     ]
    }
   ],
   "source": [
    "from collections import Counter\n",
    "counter = Counter(df['tokens'][1])\n",
    "print(counter)"
   ]
  },
  {
   "cell_type": "markdown",
   "id": "8d01a4b4",
   "metadata": {},
   "source": [
    "### Updating a counter"
   ]
  },
  {
   "cell_type": "code",
   "execution_count": 34,
   "id": "6c2a8fde",
   "metadata": {},
   "outputs": [
    {
     "name": "stdout",
     "output_type": "stream",
     "text": [
      "Counter({'international': 49, 'countries': 46, 'united': 40, 'nations': 36, 'development': 31, 'world': 27, 'must': 27, 'peace': 27, 'niger': 25, 'general': 24, 'assembly': 24, 'new': 22, 'economic': 22, 'organization': 21, 'states': 20, 'efforts': 20, 'developing': 19, 'community': 19, 'security': 17, 'political': 17, 'two': 16, 'year': 16, 'conference': 16, 'support': 15, 'people': 14, 'co-operation': 14, 'national': 14, 'session': 12, 'also': 12, 'time': 12, 'africa': 12, 'south': 12, 'secretary-general': 11, 'finland': 11, 'respect': 11, 'process': 11, 'many': 11, 'peoples': 11, 'social': 11, 'problems': 11, 'environment': 11, 'make': 11, 'made': 11, 'african': 11, 'president': 10, 'member': 10, 'possible': 10, 'order': 10, 'global': 10, 'action': 10, 'peace-keeping': 10, 'still': 10, 'state': 9, 'country': 9, 'work': 9, 'special': 9, 'protection': 9, 'parties': 9, 'situation': 9, 'challenges': 8, 'progress': 8, 'last': 8, 'help': 8, 'particularly': 8, 'present': 8, 'us': 8, 'hope': 8, 'could': 8, 'comprehensive': 8, 'relations': 8, 'debt': 8, 'solution': 8, 'would': 8, 'namibia': 8, 'council': 8, 'settlement': 8, 'dialogue': 8, 'mr': 7, 'role': 7, 'particular': 7, 'problem': 7, 'welcome': 7, 'take': 7, 'requires': 7, 'future': 7, 'government': 7, 'human': 7, 'strategy': 7, 'including': 7, 'transfer': 7, 'thus': 7, 'today': 7, 'continue': 7, 'concern': 7, 'full': 7, 'towards': 7, 'children': 7, 'determination': 6, 'poverty': 6, 'already': 6, 'level': 6, 'convention': 6, 'governments': 6, 'therefore': 6, 'soon': 6, 'resources': 6, 'forward': 6, 'proposals': 6, 'activities': 6, 'population': 6, 'measures': 6, 'without': 6, 'lasting': 6, 'note': 6, 'middle': 6, 'east': 6, 'independence': 6, 'way': 6, 'conflict': 6, 'agreements': 6, 'however': 6, 'means': 6, 'apartheid': 6, 'regime': 6, 'real': 6, 'may': 5, 'behalf': 5, 'century': 5, 'part': 5, 'regard': 5, 'major': 5, 'soviet': 5, 'weapons': 5, 'one': 5, 'disarmament': 5, 'continues': 5, 'held': 5, 'finnish': 5, 'appropriate': 5, 'confidence': 5, 'rights': 5, 'next': 5, 'increasing': 5, 'found': 5, 'wish': 5, 'place': 5, 'number': 5, 'growth': 5, 'climate': 5, 'industrialized': 5, 'ozone': 5, 'layer': 5, 'initiatives': 5, 'view': 5, 'developed': 5, 'permanent': 5, 'forces': 5, 'committee': 5, 'operations': 5, 'indeed': 5, 'financial': 5, 'assistance': 5, 'territories': 5, 'right': 5, 'delegation': 5, 'justice': 5, 'pleased': 5, 'foreign': 5, 'solidarity': 5, 'fully': 5, 'unity': 5, 'tragedy': 5, 'task': 4, 'express': 4, 'thanks': 4, 'pay': 4, 'great': 4, 'making': 4, 'emphasize': 4, 'suffering': 4, 'first': 4, 'success': 4, 'continuing': 4, 'achieve': 4, 'concerned': 4, 'course': 4, 'preparation': 4, 'paris': 4, 'union': 4, 'face': 4, 'importance': 4, 'effective': 4, 'well': 4, 'cannot': 4, 'important': 4, 'set': 4, 'fields': 4, 'sustainable': 4, 'natural': 4, 'facilitate': 4, 'field': 4, 'undertaking': 4, 'effort': 4, 'environmental': 4, 'phase': 4, 'environmentally': 4, 'available': 4, 'see': 4, 'urgent': 4, 'mankind': 4, 'connection': 4, 'share': 4, 'since': 4, 'reforms': 4, 'find': 4, 'personnel': 4, 'total': 4, 'concerning': 4, 'basis': 4, 'whole': 4, 'idea': 4, 'responsibility': 4, 'within': 4, 'call': 4, 'attention': 4, 'occupied': 4, 'common': 4, 'principles': 4, 'region': 4, 'framework': 4, 'yet': 4, 'ideals': 4, 'whose': 4, 'outcome': 4, 'complete': 4, 'ali': 4, 'saibou': 4, 'contribution': 4, 'changes': 4, 'even': 4, 'agreement': 4, 'reason': 4, 'constructive': 4, 'america': 4, 'system': 4, 'members': 4, 'opportunity': 4, 'movement': 4, 'true': 4, 'august': 4, 'another': 4, 'conditions': 4, 'geneva': 4, 'north': 4, 'law': 4, 'election': 3, 'forty-fourth': 3, 'experience': 3, 'gives': 3, 'tribute': 3, 'every': 3, 'needs': 3, 'questions': 3, 'everything': 3, 'meet': 3, 'shall': 3, 'main': 3, 'maintain': 3, 'continued': 3, 'concrete': 3, 'nuclear': 3, 'europe': 3, 'conventional': 3, 'violence': 3, 'regards': 3, 'hopes': 3, 'chemical': 3, 'demonstrated': 3, 'negotiations': 3, 'recently': 3, 'given': 3, 'felt': 3, 'challenge': 3, 'devoted': 3, '1990s': 3, 'adopted': 3, 'spirit': 3, 'co-ordinated': 3, 'necessary': 3, 'external': 3, 'financing': 3, 'awareness': 3, 'strongly': 3, 'recent': 3, 'determined': 3, 'plans': 3, 'plan': 3, 'widely': 3, 'directly': 3, 'substances': 3, 'atmosphere': 3, 'dangers': 3, 'several': 3, 'taken': 3, 'universal': 3, 'months': 3, 'ago': 3, 'undertaken': 3, 'sound': 3, 'regional': 3, 'local': 3, 'deforestation': 3, 'decisions': 3, 'ensure': 3, 'structural': 3, 'almost': 3, 'strengthen': 3, 'current': 3, 'put': 3, 'followed': 3, 'principle': 3, 'resolution': 3, 'believe': 3, 'programme': 3, 'lebanon': 3, 'arab': 3, 'elections': 3, 'egypt': 3, 'solutions': 3, 'testify': 3, 'arena': 3, 'republic': 3, 'harmony': 3, 'finally': 3, 'like': 3, 'accordance': 3, 'charter': 3, 'humanity': 3, 'profound': 3, 'ideological': 3, 'detente': 3, 'danger': 3, 'intensify': 3, 'increase': 3, 'tension': 3, 'namibian': 3, 'struggle': 3, 'implementation': 3, 'ever': 3, 'unfortunately': 3, 'west': 3, 'september': 3, 'duty': 3, 'resolutions': 3, 'constitutional': 3, 'sanctions': 3, 'repression': 3, 'oau': 3, 'firmly': 3, 'encourage': 3, 'fraternal': 3, 'senegal': 3, 'drought': 3, 'non-aligned': 3, 'final': 3, 'co-operate': 3, 'conclusion': 3, 'interest': 3, 'involved': 3, 'referendum': 3, 'palestinian': 3, 'withdrawal': 3, 'strict': 3, 'peaceful': 3, 'proposal': 3, 'territorial': 3, 'integrity': 3, 'return': 3, 'sovereignty': 3, 'july': 3, 'society': 3, 'victims': 3, 'terrorism': 3, 'flight': 3, 'least': 3, 'desertification': 3, 'north-south': 3, 'adoption': 3, 'life': 3, 'wastes': 3, 'constitution': 3, 'presidency': 2, 'makes': 2, 'dante': 2, 'caputo': 2, 'pleasure': 2, 'deal': 2, 'authority': 2, 'leadership': 2, 'annual': 2, 'debate': 2, 'reflect': 2, 'certain': 2, 'fundamental': 2, 'say': 2, 'sought': 2, 'produce': 2, 'single': 2, 'created': 2, 'past': 2, 'represents': 2, 'witnessed': 2, 'satisfaction': 2, 'destruction': 2, 'closely': 2, 'much': 2, 'parts': 2, 'conferences': 2, 'research': 2, 'expect': 2, 'growing': 2, 'bilateral': 2, 'military': 2, 'representative': 2, 'respects': 2, 'stable': 2, 'fact': 2, 'overcome': 2, 'everywhere': 2, 'recognition': 2, 'sector': 2, 'context': 2, 'investments': 2, 'overhang': 2, 'billion': 2, 'trend': 2, 'target': 2, 'reached': 2, 'reach': 2, 'structure': 2, 'tasks': 2, 'play': 2, 'improve': 2, 'opinion': 2, 'prominent': 2, 'rate': 2, 'earth': 2, 'positive': 2, 'according': 2, 'stabilize': 2, 'persons': 2, 'early': 2, 'fight': 2, 'goal': 2, 'policies': 2, 'pursued': 2, 'vigorously': 2, 'become': 2, 'recognized': 2, 'change': 2, 'affected': 2, 'greenhouse': 2, 'effect': 2, 'cause': 2, 'direct': 2, 'launch': 2, 'combat': 2, 'pollution': 2, 'climatic': 2, 'strategies': 2, 'relating': 2, 'consolidated': 2, 'relevant': 2, 'character': 2, 'montreal': 2, 'protocol': 2, 'respectively': 2, 'latest': 2, 'advances': 2, 'knowledge': 2, 'agreed': 2, 'unanimously': 2, 'declaration': 2, 'use': 2, 'ozone-depleting': 2, 'converted': 2, 'decision': 2, 'meeting': 2, 'typical': 2, 'soil': 2, 'erosion': 2, 'mistakes': 2, 'earlier': 2, 'practical': 2, 'programmes': 2, 'feel': 2, 'joint': 2, 'required': 2, 'burden': 2, 'accept': 2, 'give': 2, 'exception': 2, 'actively': 2, 'open': 2, 'mind': 2, 'regarding': 2, 'various': 2, 'strength': 2, 'interested': 2, 'experiences': 2, 'high': 2, 'difficulties': 2, 'predecessor': 2, 'report': 2, 'possibility': 2, 'fund': 2, 'collective': 2, 'assessed': 2, 'contributions': 2, 'participation': 2, 'transition': 2, 'untag': 2, 'difficult': 2, 'draw': 2, 'conclusions': 2, 'persistent': 2, 'remain': 2, 'pose': 2, 'threat': 2, 'israel': 2, 'deep': 2, 'lebanese': 2, 'league': 2, 'basic': 2, 'democratic': 2, 'provide': 2, 'link': 2, 'momentum': 2, 'achieving': 2, 'mubarak': 2, 'serious': 2, 'consideration': 2, 'forum': 2, 'congratulate': 2, 'fruitful': 2, 'strong': 2, 'promoting': 2, 'greater': 2, 'outstanding': 2, 'man': 2, 'head': 2, 'tireless': 2, 'dynamic': 2, 'carried': 2, 'affairs': 2, 'quest': 2, 'intends': 2, 'decisive': 2, 'elimination': 2, 'thaw': 2, 'super-powers': 2, 'conflicts': 2, 'necessity': 2, 'pursue': 2, 'minister': 2, 'survival': 2, 'disaster': 2, 'certainly': 2, 'weight': 2, 'significant': 2, 'encouraging': 2, 'others': 2, 'persistence': 2, 'stubborn': 2, 'injustice': 2, 'consolidation': 2, 'realization': 2, 'dignity': 2, 'tine': 2, 'april': 2, 'show': 2, 'vigilance': 2, 'prevent': 2, 'racist': 2, 'crushing': 2, 'intimidation': 2, 'shafo': 2, 'constant': 2, 'entire': 2, 'respected': 2, 'freely': 2, 'win': 2, 'participate': 2, 'chairman': 2, 'inequality': 2, 'lift': 2, 'free': 2, 'southern': 2, 'restore': 2, 'reconciliation': 2, 'exploded': 2, 'islamic': 2, 'mediation': 2, 'commission': 2, 'established': 2, 'working': 2, 'appeal': 2, 'destiny': 2, 'faith': 2, 'cost': 2, 'welcomed': 2, 'cease-fire': 2, 'era': 2, 'urge': 2, 'begun': 2, 'create': 2, 'auspices': 2, 'plo': 2, 'december': 2, 'israeli': 2, 'less': 2, 'urgently': 2, 'provisions': 2, 'war': 2, 'years': 2, 'preserve': 2, 'amongst': 2, 'sons': 2, 'urges': 2, 'afghanistan': 2, 'troops': 2, 'fate': 2, 'status': 2, 'cambodia': 2, 'results': 2, 'able': 2, 'determine': 2, 'interference': 2, 'welcomes': 2, 'reunification': 2, 'guaranteed': 2, 'following': 2, 'presidents': 2, 'establish': 2, 'deserve': 2, 'scourge': 2, 'latin': 2, 'involves': 2, 'innocent': 2, 'throughout': 2, 'uta': 2, 'wherever': 2, 'imbalance': 2, 'day': 2, 'talk': 2, 'men': 2, 'women': 2, 'societies': 2, 'reality': 2, 'collapse': 2, 'multilateral': 2, 'end': 2, 'lead': 2, 'creditor': 2, 'debtor': 2, 'supports': 2, 'summit': 2, 'second': 2, 'cherish': 2, 'nature': 2, 'healthy': 2, 'priority': 2, 'crisis': 2, 'hazardous': 2, 'said': 2, 'expression': 2, 'reaffirms': 2, 'begin': 1, 'congratulating': 1, 'sir': 1, 'wide': 1, 'especially': 1, 'qualified': 1, 'guide': 1, 'deliberations': 1, 'best': 1, 'wishes': 1, 'demanding': 1, 'lies': 1, 'ahead': 1, 'outgoing': 1, 'ably': 1, 'fulfilled': 1, 'owe': 1, 'assembled': 1, 'enters': 1, 'decade': 1, 'justified': 1, 'self-confidence': 1, 'answers': 1, 'actual': 1, 'try': 1, 'imports': 1, 'seems': 1, 'expressed': 1, 'words': 1, '-insecurity': 1, 'fear': 1, 'neither': 1, 'dealt': 1, 'remedy': 1, 'foremost': 1, 'mixture': 1, 'disappointment': 1, 'encouraged': 1, 'high-level': 1, 'dialogues': 1, 'powers': 1, 'achievements': 1, 'verified': 1, 'dismantling': 1, 'american': 1, 'intermediate-range': 1, 'participating': 1, 'cooperation': 1, 'follow': 1, 'substantive': 1, 'erupted': 1, 'underlying': 1, 'agenda': 1, 'views': 1, 'due': 1, 'want': 1, 'speak': 1, 'fastened': 1, 'canberra': 1, 'experts': 1, 'develop': 1, 'methods': 1, 'complex': 1, 'verification': 1, 'requirements': 1, 'protracted': 1, 'impatience': 1, 'impetus': 1, 'talks': 1, 'account': 1, 'factors': 1, 'addition': 1, 'armaments': 1, 'threats': 1, 'enjoys': 1, 'sense': 1, 'successfully': 1, 'dramatic': 1, 'tragic': 1, 'events': 1, 'illustrated': 1, 'lessons': 1, 'learned': 1, 'sufferings': 1, 'evidence': 1, 'thereafter': 1, 'successful': 1, 'realistic': 1, 'bring': 1, 'preparing': 1, 'emphasis': 1, 'forms': 1, 'well-functioning': 1, 'private': 1, 'balance': 1, 'public': 1, 'funding': 1, 'generated': 1, 'sources': 1, 'require': 1, 'domestic': 1, 'resulted': 1, 'exceeded': 1, 'reversed': 1, 'functioning': 1, 'upcoming': 1, 'reverse': 1, 'per': 1, 'cent': 1, 'gross': 1, 'product': 1, 'development-and': 1, 'generally': 1, 'respond': 1, 'specified': 1, '-consolidating': 1, 'finds': 1, 'catalytic': 1, 'putting': 1, 'effectiveness': 1, 'agreeing': 1, 'areas': 1, 'concentrate': 1, 'issues': 1, 'grow': 1, 'depleted': 1, 'reflected': 1, 'prompted': 1, 'needed': 1, 'estimates': 1, 'twenty-first': 1, 'stabilisation': 1, 'translated': 1, 'spelled': 1, 'lately': 1, 'apparent': 1, 'depletion': 1, 'emissions': 1, 'carbon': 1, 'dioxides': 1, 'so-called': 1, 'presence': 1, 'acid': 1, 'rain': 1, 'health': 1, 'hardly': 1, 'surprise': 1, 'activity': 1, 'concerted': 1, 'atmospheric': 1, 'aspects': 1, 'specialized': 1, 'agencies': 1, 'streamlined': 1, 'ongoing': 1, 'well-established': 1, 'treaty-making': 1, 'procedures': 1, 'pivotal': 1, 'five': 1, 'hosted': 1, 'vienna': 1, 'aid': 1, 'deplete': 1, 'instruments': 1, 'inadequate': 1, 'light': 1, 'representatives': 1, 'helsinki': 1, 'contains': 1, 'ambitious': 1, 'completely': 1, 'chlorofluorocarbons': 1, 'sooner': 1, 'legally': 1, 'binding': 1, 'substitutes': 1, 'often': 1, 'big': 1, 'urban': 1, 'centres': 1, 'forests': 1, 'illustrate': 1, 'committed': 1, 'generations': 1, 'learn': 1, 'information': 1, 'applied': 1, 'emphasized': 1, 'expertise': 1, 'stop': 1, 'counteract': 1, 'counterbalance': 1, 'cutting': 1, 'trees': 1, 'fuel': 1, 'immediate': 1, 'renewable': 1, 'soirees': 1, 'energy': 1, 'crucial': 1, 'broader': 1, 'scale': 1, 'look': 1, 'representing': 1, 'probably': 1, 'remaining': 1, 'called': 1, 'upon': 1, 'need': 1, 'large': 1, 'introduction': 1, 'technologies': 1, 'borne': 1, 'knowing': 1, 'capabilities': 1, 'incentive': 1, 'involve': 1, 'think': 1, 'ripe': 1, 'responsive': 1, 'protecting': 1, 'ideas': 1, 'discussed': 1, 'ensuring': 1, 'rightly': 1, 'gained': 1, 'prominence': 1, 'biggest': 1, 'contributor': 1, 'close': 1, 'pride': 1, 'house': 1, 'nobel': 1, 'prize': 1, 'awarded': 1, 'nordic': 1, 'steps': 1, 'training': 1, 'contingents': 1, 'satisfied': 1, 'reactivation': 1, 'accumulated': 1, 'grown': 1, 'extent': 1, 'thorough': 1, 'review': 1, 'finding': 1, 'affect': 1, 'indirectly': 1, 'undermining': 1, 'sufficient': 1, 'reserves': 1, 'peacemaking': 1, 'start-up': 1, 'address': 1, 'received': 1, 'quarters': 1, 'referred': 1, 'establishing': 1, 'reserve': 1, 'supported': 1, 'practice': 1, 'condition': 1, 'principal': 1, 'factor': 1, 'explaining': 1, 'deployment': 1, 'enlarged': 1, 'battalion': 1, 'group': 1, 'sizable': 1, 'volunteer': 1, 'soldiers': 1, 'added': 1, 'battalions': 1, 'smaller': 1, 'units': 1, 'serving': 1, 'elsewhere': 1, 'test': 1, 'beginnings': 1, 'uotag': 1, 'implement': 1, 'unexpectedly': 1, 'rough': 1, 'brought': 1, 'back': 1, 'track': 1, 'competent': 1, 'performance': 1, 'solved': 1, 'unrelenting': 1, 'looking': 1, 'moment': 1, 'independent': 1, 'midst': 1, 'partner': 1, 'absence': 1, 'area': 1, 'daily': 1, 'repressive': 1, 'illegally': 1, 'cycle': 1, 'broken': 1, 'eking': 1, 'turmoil': 1, 'endeavours': 1, 'pressingly': 1, 'prepared': 1, 'live': 1, 'secure': 1, 'boundaries': 1, 'palestinians': 1, 'recognised': 1, 'properly': 1, 'mentored': 1, 'structured': 1, 'leading': 1, 'long-standing': 1, 'lost': 1, 'unless': 1, 'avenues': 1, 'merit': 1, 'manifestly': 1, 'relevance': 1, 'strengthened': 1, 're-invigorated': 1, 'answer': 1, 'inevitably': 1, 'beyond': 1, 'let': 1, 'unite': 1, 'capable': 1, 'moat': 1, 'warmly': 1, 'brilliant': 1, 'entrusting': 1, 'onerous': 1, 'guiding': 1, 'wished': 1, 'active': 1, 'played': 1, 'federal': 1, 'nigeria': 1, 'old': 1, 'varied': 1, 'defending': 1, 'striving': 1, 'equity': 1, 'confirmation': 1, 'qualities': 1, 'eminent': 1, 'diplomat': 1, 'expert': 1, 'talent': 1, 'convictions': 1, 'compel': 1, 'admiration': 1, 'promise': 1, 'paid': 1, 'assure': 1, 'availability': 1, 'helping': 1, 'accomplish': 1, 'appreciation': 1, 'gratitude': 1, 'wisdom': 1, 'skill': 1, 'efficiency': 1, 'presided': 1, 'forty-third': 1, 'lb': 1, 'javier': 1, 'perez': 1, 'de': 1, 'cuellar': 1, 'repeat': 1, 'whole-hearted': 1, 'encouragement': 1, 'supreme': 1, 'guidance': 1, 'commend': 1, 'rehabilitated': 1, 'prestige': 1, 'credibility': 1, 'restored': 1, 'ronald': 1, 'spiers': 1, 'under-secretary-general': 1, 'succeeds': 1, 'ambassador': 1, 'reed': 1, 'accomplishment': 1, 'sessions': 1, 'opportunities': 1, 'among': 1, 'bread': 1, 'discussion': 1, 'swift': 1, 'taking': 1, 'seeing': 1, 'cultural': 1, 'shaping': 1, 'foreshadowing': 1, 'stakes': 1, 'sure': 1, 'influence': 1, 'feature': 1, 'signature': 1, 'entry': 1, 'force': 1, 'treaty': 1, 'inter': 1, 'mediate-range': 1, 'shorter-range': 1, 'missiles': 1, 'grounds': 1, 'helped': 1, 'prepare': 1, 'treaties': 1, 'concluded': 1, 'attainments': 1, 'curb': 1, 'arms': 1, 'race': 1, 'warfare': 1, 'lethal': 1, 'considerable': 1, 'increasingly': 1, 'sophisticated': 1, 'reduction': 1, 'stockpiles': 1, 'days': 1, 'rostrum': 1, 'accepted': 1, 'promote': 1, 'substantial': 1, 'implies': 1, 'avoid': 1, 'significantly': 1, 'reversing': 1, 'trends': 1, 'frustrating': 1, 'striking': 1, 'repugnant': 1, 'paradox': 1, 'hand': 1, 'exponential': 1, 'budgets': 1, 'arsenals': 1, 'chronic': 1, 'wretchedness': 1, 'relationship': 1, 'provides': 1, 'creation': 1, 'institutional': 1, 'mechanisms': 1, 'saved': 1, 'noted': 1, 'controlled': 1, 'virtually': 1, 'settled': 1, 'merits': 1, 'negotiation': 1, 'path': 1, 'good': 1, 'chances': 1, 'hotbeds': 1, 'situations': 1, 'appearance': 1, 'intensification': 1, 'disputes': 1, 'dangerous': 1, 'regions': 1, 'tirelessly': 1, 'persevere': 1, 'advantage': 1, 'legitimate': 1, 'aspiration': 1, 'centre': 1, 'long-awaited': 1, 'heroic': 1, 'despicable': 1, 'bear': 1, 'fruits': 1, 'indispensable': 1, 'pretoria': 1, 'condemn': 1, 'harassment': 1, 'freedom-fighters': 1, 'reprisals': 1, 'perpetrated': 1, 'sinister': 1, 'koevoet': 1, 'manipulation': 1, 'electoral': 1, 'rolls': 1, 'assassination': 1, 'patriots': 1, 'leaders': 1, 'murder': 1, 'anton': 1, 'lubowski': 1, 'acts': 1, 'disarray': 1, 'remind': 1, 'derailed': 1, 'letter': 1, 'scrupulously': 1, 'elect': 1, 'choice': 1, 'month': 1, 'peacefully': 1, 'manoeuvres': 1, 'coercion': 1, 'persists': 1, 'aiming': 1, 'subterfuges': 1, 'misled': 1, 'declarations': 1, 'purely': 1, 'superficial': 1, 'pseudo-elections': 1, 'leave': 1, 'untouched': 1, 'perpetuation': 1, 'denies': 1, 'black': 1, 'majority': 1, 'management': 1, 'aware': 1, 'reformed': 1, 'disgrace': 1, 'anachronism': 1, 'civilization': 1, 'dismantled': 1, 'pure': 1, 'simple': 1, 'friends': 1, 'hesitate': 1, 'adopt': 1, 'bold': 1, 'understand': 1, 'weigh': 1, 'passive': 1, 'founded': 1, 'exploitation': 1, 'denial': 1, 'appeals': 1, 'pressure': 1, 'mandatory': 1, 'ordered': 1, 'effectively': 1, 'imposed': 1, 'policy': 1, 'internal': 1, 'destabilization': 1, 'neighbouring': 1, 'bans': 1, 'hobble': 1, 'anti-apartheid': 1, 'immediately': 1, 'unconditionally': 1, 'prisoners': 1, 'nelson': 1, 'mandela': 1, 'matter': 1, 'pact': 1, 'genuine': 1, 'vis-à-vis': 1, 'ad': 1, 'hoc': 1, 'met': 1, 'harare': 1, 'gbadolite': 1, 'june': 1, 'angola': 1, 'similar': 1, 'restoration': 1, 'mozambique': 1, 'continent': 1, 'causing': 1, 'sadness': 1, 'concerns': 1, 'dear': 1, 'stand': 1, 'cleave': 1, 'river': 1, 'inter-state': 1, 'control': 1, 'sahel': 1, 'ministerial': 1, 'prompt': 1, 'unfortunate': 1, 'affair': 1, 'renew': 1, 'mauritania': 1, 'refrain': 1, 'understanding': 1, 'fraternity': 1, 'geography': 1, 'history': 1, 'destine': 1, 'doom': 1, 'chad': 1, 'libya': 1, 'neighbours': 1, 'strengthening': 1, 'dispute': 1, 'long': 1, 'dearly': 1, 'algiers': 1, 'ushered': 1, 'mutual': 1, 'trust': 1, 'sustain': 1, 'arid': 1, 'sub': 1, 'western': 1, 'sahara': 1, 'conducted': 1, 'jointly': 1, 'painful': 1, 'favour': 1, 'self-determination': 1, 'heroically': 1, 'resistance': 1, 'illegal': 1, 'occupation': 1, 'known': 1, 'include': 1, 'unconditional': 1, 'jerusalem': 1, 'convoking': 1, 'equal': 1, 'footing': 1, 'palestine': 1, 'liberation': 1, 'alternative': 1, 'otherwise': 1, 'fair': 1, 'arab-israeli': 1, 'along': 1, 'rest': 1, 'initiative': 1, 'announced': 1, 'overtures': 1, 'regret': 1, 'lack': 1, 'response': 1, 'side': 1, 'position': 1, 'none': 1, 'sides': 1, 'realism': 1, 'accepting': 1, '10-point': 1, 'hosni': 1, 'satisfactory': 1, 'meantime': 1, 'fourth': 1, 'civilian': 1, 'protect': 1, 'civilians': 1, 'practised': 1, 'trying': 1, 'vainly': 1, 'stifle': 1, 'intifadah': 1, 'endured': 1, 'truly': 1, 'wasting': 1, 'away': 1, 'powerless': 1, 'inactive': 1, 'unacceptable': 1, 'power': 1, 'identity': 1, 'endeavouring': 1, 'tripartite': 1, 'abatement': 1, 'iran': 1, 'iraq': 1, 'declares': 1, 'clear-sighted': 1, 'consolidate': 1, 'reaffirm': 1, 'afghan': 1, 'decide': 1, 'independently': 1, 'watching': 1, 'kampuchea': 1, 'offers': 1, 'timely': 1, 'ail': 1, 'reflection': 1, 'honourable': 1, 'definitive': 1, 'measure': 1, 'placed': 1, 'step': 1, 'cambodian': 1, 'intensified': 1, 'encourages': 1, 'commendable': 1, 'french': 1, 'indonesian': 1, 'co-chairmen': 1, 'aspirations': 1, 'korean': 1, 'realized': 1, 'contacts': 1, 'korea': 1, 'cyprus': 1, 'island': 1, 'central': 1, 'praiseworthy': 1, 'costa': 1, 'rica': 1, 'el': 1, 'salvador': 1, 'guatemala': 1, 'honduras': 1, 'nicaragua': 1, 'eliminate': 1, 'combined': 1, 'impact': 1, 'contadora': 1, 'tesoro': 1, 'beach': 1, 'tela': 1, 'together': 1, 'esquipulas': 1, 'ii': 1, 'gauge': 1, 'heads': 1, 'seeking': 1, 'terrible': 1, 'afflicting': 1, 'jeopardizing': 1, 'fabric': 1, 'brutal': 1, 'focused': 1, 'drug': 1, 'trafficking': 1, 'capacity': 1, 'display': 1, 'doubt': 1, 'colombia': 1, 'battle': 1, 'world-wide': 1, 'motion': 1, 'consistent': 1, 'equally': 1, 'disturbing': 1, 'numbers': 1, 'pan': 1, 'london': 1, 'york': 1, 'crashed': 1, 'scotland': 1, 'hundreds': 1, 'commissioner': 1, 'memory': 1, 'colonel': 1, 'higgins': 1, 'assassinated': 1, 'cold': 1, 'blood': 1, 'aircraft': 1, 'company': 1, 'brazzaville': 1, 'mid-air': 1, 'territory': 1, 'killing': 1, 'examples': 1, 'nationals': 1, 'perished': 1, 'sympathy': 1, 'sincere': 1, 'condolences': 1, 'evil': 1, 'strikes': 1, 'blindly': 1, 'indiscriminately': 1, 'unified': 1, 'crusade': 1, 'sacred': 1, 'transcends': 1, 'borders': 1, 'differences': 1, 'modest': 1, 'affects': 1, 'prevailed': 1, 'ways': 1, 'restoring': 1, 'disturbed': 1, 'threatened': 1, 'period': 1, 'calm': 1, 'contrasted': 1, 'sharply': 1, 'characterized': 1, 'unequal': 1, 'contradiction': 1, 'clear': 1, 'linked': 1, 'prevails': 1, 'vain': 1, 'constantly': 1, 'aggravated': 1, 'flagrant': 1, 'gap': 1, 'widening': 1, 'whereas': 1, 'expansion': 1, 'food': 1, 'self-sufficiency': 1, 'adjustment': 1, 'asia': 1, 'caribbean': 1, 'living': 1, 'hunger': 1, 'illiteracy': 1, 'disasters': 1, 'plaques': 1, 'locusts': 1, 'cyclones': 1, 'surviving': 1, 'overwhelmed': 1, 'harsh': 1, 'sadly': 1, 'greatest': 1, 'causes': 1, 'essentially': 1, 'commodity': 1, 'prices': 1, 'deterioration': 1, 'terms': 1, 'trade': 1, 'phenomena': 1, 'led': 1, 'net': 1, 'institutions': 1, 'stripping': 1, 'chance': 1, 'incapable': 1, 'creating': 1, 'enjoyed': 1, 'hoped': 1, 'promised': 1, 'theoretically': 1, 'come': 1, 'five-year': 1, 'recovery': 1, 'really': 1, 'started': 1, 'stressed': 1, 'failure': 1, 'structures': 1, 'whatever': 1, 'case': 1, 'vulnerable': 1, 'scourges': 1, 'land-locked': 1, 'revival': 1, 'forums': 1, 'far': 1, 'advocated': 1, 'canada': 1, 'france': 1, 'belgium': 1, 'italy': 1, 'cancel': 1, 'unilateral': 1, 'actions': 1, 'fruit': 1, 'formal': 1, 'partners': 1, 'secondly': 1, 'methodical': 1, 'search': 1, 'balanced': 1, 'achieved': 1, 'resumed': 1, 'venezuela': 1, 'prime': 1, 'india': 1, 'regular': 1, 'consultations': 1, 'hemispheres': 1, 'revitalisation': 1, 'constitute': 1, 'propitious': 1, 'occasion': 1, 'reinvigoration': 1, 'applies': 1, 'contribute': 1, 'resumption': 1, 'offering': 1, 'facing': 1, 'approach': 1, 'solving': 1, 'emergence': 1, 'moreover': 1, 'lome': 1, 'serve': 1, 'model': 1, 'export': 1, 'earnings': 1, 'diversification': 1, 'exports': 1, 'opening': 1, 'markets': 1, 'products': 1, 'conclude': 1, 'section': 1, 'expressing': 1, 'shared': 1, 'represented': 1, 'refer': 1, 'worrying': 1, 'despite': 1, 'accord': 1, 'well-being': 1, 'represent': 1, 'unicef': 1, 'organizations': 1, 'potential': 1, 'essential': 1, 'collectively': 1, 'convening': 1, 'urgency': 1, 'top': 1, 'draft': 1, 'child': 1, 'seriously': 1, 'threatens': 1, 'planet': 1, 'question': 1, 'degradation': 1, 'heating': 1, 'arable': 1, 'lands': 1, 'water': 1, 'disappearance': 1, 'fauna': 1, 'flora': 1, 'toxic': 1, 'avoiding': 1, 'ecological': 1, 'exist': 1, 'technology': 1, 'imperative': 1, 'resolve': 1, 'calls': 1, 'limit': 1, 'damage': 1, 'caused': 1, 'proposed': 1, 'excellent': 1, 'define': 1, 'conservation': 1, 'prohibit': 1, 'everybody': 1, 'knows': 1, 'source': 1, 'nevertheless': 1, 'happy': 1, 'inform': 1, 'aimed': 1, 'evolution': 1, 'ultimate': 1, 'objective': 1, 'setting': 1, 'apolitical': 1, 'entered': 1, 'establishment': 1, 'strive': 1, 'affirm': 1, 'defend': 1, 'participatory': 1, 'democracy': 1, 'guaranteeing': 1, 'opinions': 1, 'sentiments': 1, 'integrated': 1, 'involving': 1, 'components': 1, 'nation': 1, 'republican': 1, 'freedoms': 1, 'individuals': 1, 'ensures': 1, 'equality': 1, 'enshrines': 1, 'friendship': 1, 'freedom': 1, 'reiterates': 1, 'readiness': 1, 'seek': 1, 'innumerable': 1, 'ills': 1, 'afflict': 1, 'construct': 1, 'legislative': 1, 'presidential': 1, 'suffrage': 1, 'normal': 1, 'unshakable': 1, 'objectives': 1, 'instil': 1, 'planetary': 1, 'patriotism': 1, 'succeed': 1, 'build': 1, 'slowly': 1, 'surely': 1, 'indivisible': 1, 'happiness': 1})\n"
     ]
    }
   ],
   "source": [
    "counter.update(df['tokens'][2])\n",
    "print(counter)"
   ]
  },
  {
   "cell_type": "markdown",
   "id": "26285df2",
   "metadata": {},
   "source": [
    "### Counting the words frequency for a corpus of documents\n",
    "- Option 1: merging all texts into a single one. But too long for large datasets\n",
    "- Option 2: call update function of the counter object for each single document"
   ]
  },
  {
   "cell_type": "code",
   "execution_count": 157,
   "id": "5c44ea07",
   "metadata": {},
   "outputs": [
    {
     "data": {
      "text/plain": [
       "68398"
      ]
     },
     "execution_count": 157,
     "metadata": {},
     "output_type": "execute_result"
    }
   ],
   "source": [
    "counter = Counter()\n",
    "df['tokens'].map(counter.update)\n",
    "len(counter)"
   ]
  },
  {
   "cell_type": "code",
   "execution_count": 158,
   "id": "64aeb8c8-752b-4e47-8f06-63cc9071a0f8",
   "metadata": {},
   "outputs": [
    {
     "data": {
      "text/plain": [
       "Counter({'nations': 124508,\n",
       "         'united': 120763,\n",
       "         'international': 117223,\n",
       "         'world': 89421,\n",
       "         'countries': 85734,\n",
       "         'peace': 72625,\n",
       "         'development': 62632,\n",
       "         'states': 59713,\n",
       "         'people': 59338,\n",
       "         'security': 58425,\n",
       "         'economic': 53833,\n",
       "         'must': 51880,\n",
       "         'also': 47403,\n",
       "         'new': 44453,\n",
       "         'country': 40878,\n",
       "         'assembly': 40413,\n",
       "         'community': 38294,\n",
       "         'government': 37430,\n",
       "         'general': 37138,\n",
       "         'organization': 36434,\n",
       "         'human': 36384,\n",
       "         'would': 35936,\n",
       "         'efforts': 35184,\n",
       "         'us': 34618,\n",
       "         'rights': 33495,\n",
       "         'political': 33353,\n",
       "         'one': 31840,\n",
       "         'africa': 31293,\n",
       "         'support': 30224,\n",
       "         'council': 29573,\n",
       "         'session': 29391,\n",
       "         'developing': 25977,\n",
       "         'peoples': 25161,\n",
       "         'time': 24870,\n",
       "         'order': 23581,\n",
       "         'republic': 23369,\n",
       "         'national': 23221,\n",
       "         'problems': 23176,\n",
       "         'many': 22849,\n",
       "         'year': 22702,\n",
       "         'situation': 22621,\n",
       "         'state': 22579,\n",
       "         'years': 22400,\n",
       "         'south': 22246,\n",
       "         'global': 21881,\n",
       "         'conference': 21719,\n",
       "         'region': 21470,\n",
       "         'social': 21133,\n",
       "         'like': 20566,\n",
       "         'work': 20495,\n",
       "         'made': 20328,\n",
       "         'war': 20070,\n",
       "         'great': 19505,\n",
       "         'process': 19493,\n",
       "         'hope': 19399,\n",
       "         'nuclear': 19271,\n",
       "         'continue': 19218,\n",
       "         'relations': 18902,\n",
       "         'important': 18830,\n",
       "         'today': 18708,\n",
       "         'need': 18584,\n",
       "         'president': 18554,\n",
       "         'african': 17936,\n",
       "         'progress': 17563,\n",
       "         'cooperation': 17537,\n",
       "         'among': 17507,\n",
       "         'respect': 17307,\n",
       "         'well': 17105,\n",
       "         'make': 16930,\n",
       "         'take': 16835,\n",
       "         'two': 16823,\n",
       "         'towards': 16728,\n",
       "         'weapons': 16703,\n",
       "         'principles': 16360,\n",
       "         'action': 16329,\n",
       "         'charter': 16127,\n",
       "         'conflict': 16084,\n",
       "         'right': 16051,\n",
       "         'first': 15965,\n",
       "         'system': 15942,\n",
       "         'end': 15767,\n",
       "         'part': 15709,\n",
       "         'east': 15620,\n",
       "         'future': 15523,\n",
       "         'member': 15440,\n",
       "         'therefore': 15438,\n",
       "         'role': 15393,\n",
       "         'without': 15338,\n",
       "         'secretary-general': 15085,\n",
       "         'peaceful': 15066,\n",
       "         'mr': 15013,\n",
       "         'resources': 15009,\n",
       "         'may': 14987,\n",
       "         'solution': 14977,\n",
       "         'resolution': 14894,\n",
       "         'cannot': 14623,\n",
       "         'problem': 14538,\n",
       "         'last': 14451,\n",
       "         'within': 14368,\n",
       "         'way': 14365,\n",
       "         'co-operation': 14120,\n",
       "         'independence': 14028,\n",
       "         'still': 13945,\n",
       "         'democratic': 13937,\n",
       "         'however': 13897,\n",
       "         'law': 13864,\n",
       "         'since': 13636,\n",
       "         'members': 13589,\n",
       "         'delegation': 13458,\n",
       "         'policy': 13425,\n",
       "         'disarmament': 13247,\n",
       "         'negotiations': 13222,\n",
       "         'foreign': 13162,\n",
       "         'regional': 13108,\n",
       "         'believe': 13059,\n",
       "         'special': 12808,\n",
       "         'even': 12642,\n",
       "         'trade': 12633,\n",
       "         'middle': 12632,\n",
       "         'crisis': 12404,\n",
       "         'measures': 12362,\n",
       "         'agreement': 12312,\n",
       "         'military': 12062,\n",
       "         'developed': 12044,\n",
       "         'wish': 11935,\n",
       "         'possible': 11887,\n",
       "         'israel': 11842,\n",
       "         'means': 11654,\n",
       "         'ensure': 11642,\n",
       "         'assistance': 11539,\n",
       "         'issues': 11454,\n",
       "         'conflicts': 11451,\n",
       "         'regard': 11449,\n",
       "         'effective': 11421,\n",
       "         'view': 11341,\n",
       "         'stability': 11319,\n",
       "         'question': 11251,\n",
       "         'necessary': 11249,\n",
       "         'parties': 11245,\n",
       "         'full': 11241,\n",
       "         'change': 11239,\n",
       "         'recent': 11188,\n",
       "         'terrorism': 11184,\n",
       "         'could': 11164,\n",
       "         'arms': 10922,\n",
       "         'place': 10914,\n",
       "         'become': 10910,\n",
       "         'particular': 10909,\n",
       "         'past': 10908,\n",
       "         'taken': 10891,\n",
       "         'upon': 10874,\n",
       "         'fact': 10860,\n",
       "         'particularly': 10857,\n",
       "         'common': 10848,\n",
       "         'including': 10826,\n",
       "         'forces': 10793,\n",
       "         'justice': 10789,\n",
       "         'present': 10769,\n",
       "         'implementation': 10713,\n",
       "         'interests': 10608,\n",
       "         'union': 10563,\n",
       "         'major': 10508,\n",
       "         'settlement': 10441,\n",
       "         'arab': 10368,\n",
       "         'financial': 10341,\n",
       "         'use': 10331,\n",
       "         'commitment': 10320,\n",
       "         'every': 10293,\n",
       "         'poverty': 10289,\n",
       "         'freedom': 10212,\n",
       "         'achieve': 10211,\n",
       "         'force': 10190,\n",
       "         'challenges': 10170,\n",
       "         'small': 10067,\n",
       "         'resolutions': 10062,\n",
       "         'long': 10000,\n",
       "         'responsibility': 9974,\n",
       "         'concern': 9971,\n",
       "         'based': 9965,\n",
       "         'palestinian': 9938,\n",
       "         'basis': 9915,\n",
       "         'dialogue': 9871,\n",
       "         'opportunity': 9702,\n",
       "         'struggle': 9586,\n",
       "         'held': 9531,\n",
       "         'democracy': 9503,\n",
       "         'thus': 9404,\n",
       "         'together': 9348,\n",
       "         'reform': 9298,\n",
       "         'central': 9275,\n",
       "         'life': 9269,\n",
       "         'europe': 9161,\n",
       "         'welcome': 9006,\n",
       "         'fully': 9005,\n",
       "         'call': 8988,\n",
       "         'free': 8973,\n",
       "         'meeting': 8968,\n",
       "         'climate': 8938,\n",
       "         'importance': 8875,\n",
       "         'establishment': 8793,\n",
       "         'see': 8709,\n",
       "         'serious': 8666,\n",
       "         'america': 8651,\n",
       "         'european': 8593,\n",
       "         'adopted': 8563,\n",
       "         'treaty': 8500,\n",
       "         'mankind': 8499,\n",
       "         'conditions': 8497,\n",
       "         'express': 8443,\n",
       "         'area': 8440,\n",
       "         'environment': 8422,\n",
       "         'agenda': 8418,\n",
       "         'framework': 8380,\n",
       "         'regime': 8377,\n",
       "         'given': 8344,\n",
       "         'continues': 8324,\n",
       "         'sovereignty': 8293,\n",
       "         'much': 8281,\n",
       "         'concerned': 8276,\n",
       "         'able': 8261,\n",
       "         'history': 8199,\n",
       "         'power': 8179,\n",
       "         'already': 8169,\n",
       "         'good': 8156,\n",
       "         'economy': 8154,\n",
       "         'comprehensive': 8068,\n",
       "         'bring': 8056,\n",
       "         'better': 8051,\n",
       "         'powers': 8035,\n",
       "         'another': 8022,\n",
       "         'indeed': 8003,\n",
       "         'yet': 7983,\n",
       "         'fundamental': 7980,\n",
       "         'per': 7926,\n",
       "         'number': 7865,\n",
       "         'let': 7792,\n",
       "         'namibia': 7786,\n",
       "         'declaration': 7760,\n",
       "         'growth': 7739,\n",
       "         'threat': 7738,\n",
       "         'affairs': 7723,\n",
       "         'come': 7712,\n",
       "         'put': 7710,\n",
       "         'remains': 7689,\n",
       "         'positive': 7684,\n",
       "         'needs': 7684,\n",
       "         'far': 7678,\n",
       "         'various': 7678,\n",
       "         'areas': 7640,\n",
       "         'help': 7618,\n",
       "         'remain': 7608,\n",
       "         'sustainable': 7606,\n",
       "         'greater': 7600,\n",
       "         'goals': 7566,\n",
       "         'solidarity': 7504,\n",
       "         'issue': 7456,\n",
       "         'ago': 7455,\n",
       "         'effort': 7439,\n",
       "         'election': 7356,\n",
       "         'achieved': 7290,\n",
       "         'whose': 7275,\n",
       "         'level': 7251,\n",
       "         'high': 7235,\n",
       "         'give': 7222,\n",
       "         'context': 7186,\n",
       "         'whole': 7183,\n",
       "         'group': 7175,\n",
       "         'current': 7171,\n",
       "         'certain': 7131,\n",
       "         'find': 7128,\n",
       "         'success': 7122,\n",
       "         'solutions': 7106,\n",
       "         'especially': 7105,\n",
       "         'universal': 7105,\n",
       "         'set': 7068,\n",
       "         'programme': 7030,\n",
       "         'aggression': 7018,\n",
       "         'third': 7011,\n",
       "         'summit': 6968,\n",
       "         'attention': 6951,\n",
       "         'institutions': 6892,\n",
       "         'promote': 6863,\n",
       "         'interest': 6852,\n",
       "         'face': 6813,\n",
       "         'clear': 6806,\n",
       "         'provide': 6764,\n",
       "         'iraq': 6746,\n",
       "         'violence': 6732,\n",
       "         'forward': 6720,\n",
       "         'always': 6710,\n",
       "         'cent': 6696,\n",
       "         'result': 6688,\n",
       "         'nation': 6668,\n",
       "         'spirit': 6664,\n",
       "         'principle': 6641,\n",
       "         'soviet': 6636,\n",
       "         'strengthening': 6562,\n",
       "         'convention': 6547,\n",
       "         'initiative': 6519,\n",
       "         'population': 6494,\n",
       "         'activities': 6468,\n",
       "         'continent': 6461,\n",
       "         'position': 6450,\n",
       "         'contribute': 6442,\n",
       "         'despite': 6435,\n",
       "         'contribution': 6424,\n",
       "         'governments': 6400,\n",
       "         'policies': 6394,\n",
       "         'women': 6391,\n",
       "         'course': 6352,\n",
       "         'society': 6347,\n",
       "         'cause': 6322,\n",
       "         'results': 6315,\n",
       "         'destruction': 6306,\n",
       "         'territory': 6293,\n",
       "         'legitimate': 6287,\n",
       "         'others': 6277,\n",
       "         'live': 6252,\n",
       "         'act': 6252,\n",
       "         'essential': 6249,\n",
       "         'collective': 6237,\n",
       "         'lasting': 6221,\n",
       "         'century': 6207,\n",
       "         'unity': 6206,\n",
       "         'committed': 6186,\n",
       "         'lead': 6172,\n",
       "         'afghanistan': 6126,\n",
       "         'apartheid': 6101,\n",
       "         'address': 6053,\n",
       "         'experience': 6042,\n",
       "         'strengthen': 6042,\n",
       "         'organizations': 6029,\n",
       "         'ever': 5892,\n",
       "         'southern': 5799,\n",
       "         'humanitarian': 5789,\n",
       "         'objectives': 5775,\n",
       "         'race': 5762,\n",
       "         'recently': 5751,\n",
       "         'task': 5716,\n",
       "         'matter': 5710,\n",
       "         'participation': 5699,\n",
       "         'second': 5694,\n",
       "         'permanent': 5691,\n",
       "         'debt': 5683,\n",
       "         'real': 5681,\n",
       "         'understanding': 5675,\n",
       "         'increase': 5670,\n",
       "         'asia': 5637,\n",
       "         'established': 5634,\n",
       "         'millennium': 5634,\n",
       "         'true': 5622,\n",
       "         'american': 5621,\n",
       "         'territorial': 5612,\n",
       "         'terms': 5600,\n",
       "         'armed': 5596,\n",
       "         'children': 5589,\n",
       "         'aimed': 5546,\n",
       "         'basic': 5540,\n",
       "         'independent': 5538,\n",
       "         'leaders': 5532,\n",
       "         'difficult': 5520,\n",
       "         'territories': 5511,\n",
       "         'allow': 5505,\n",
       "         'approach': 5500,\n",
       "         'agreements': 5472,\n",
       "         'continued': 5462,\n",
       "         'lebanon': 5442,\n",
       "         'actions': 5432,\n",
       "         'urgent': 5424,\n",
       "         'natural': 5416,\n",
       "         'taking': 5415,\n",
       "         'palestine': 5394,\n",
       "         'energy': 5380,\n",
       "         'best': 5377,\n",
       "         'decisions': 5355,\n",
       "         'say': 5339,\n",
       "         'report': 5337,\n",
       "         'mutual': 5317,\n",
       "         'majority': 5311,\n",
       "         'committee': 5307,\n",
       "         'events': 5289,\n",
       "         'step': 5277,\n",
       "         'three': 5255,\n",
       "         'integrity': 5237,\n",
       "         'multilateral': 5222,\n",
       "         'behalf': 5220,\n",
       "         'internal': 5205,\n",
       "         'throughout': 5184,\n",
       "         'membership': 5174,\n",
       "         'self-determination': 5169,\n",
       "         'never': 5160,\n",
       "         'least': 5152,\n",
       "         'shall': 5104,\n",
       "         'latin': 5093,\n",
       "         'leadership': 5079,\n",
       "         'initiatives': 5066,\n",
       "         'movement': 5059,\n",
       "         'hopes': 5058,\n",
       "         'developments': 5051,\n",
       "         'plan': 5048,\n",
       "         'significant': 5036,\n",
       "         'establish': 5031,\n",
       "         'convinced': 4989,\n",
       "         'acts': 4976,\n",
       "         'play': 4970,\n",
       "         'done': 4966,\n",
       "         'forum': 4956,\n",
       "         'working': 4952,\n",
       "         'determination': 4935,\n",
       "         'less': 4932,\n",
       "         'making': 4915,\n",
       "         'field': 4915,\n",
       "         'next': 4894,\n",
       "         'living': 4875,\n",
       "         'control': 4866,\n",
       "         'changes': 4860,\n",
       "         'supports': 4857,\n",
       "         'protection': 4850,\n",
       "         'create': 4839,\n",
       "         'food': 4829,\n",
       "         'aspirations': 4822,\n",
       "         'tension': 4817,\n",
       "         'entire': 4810,\n",
       "         'challenge': 4782,\n",
       "         'pay': 4762,\n",
       "         'meet': 4759,\n",
       "         'representative': 4737,\n",
       "         'liberation': 4729,\n",
       "         'suffering': 4723,\n",
       "         'island': 4721,\n",
       "         'rule': 4709,\n",
       "         'occupation': 4703,\n",
       "         'sea': 4689,\n",
       "         'large': 4680,\n",
       "         'point': 4677,\n",
       "         'korea': 4640,\n",
       "         'resolve': 4635,\n",
       "         'north': 4628,\n",
       "         'said': 4617,\n",
       "         'refugees': 4605,\n",
       "         'reason': 4601,\n",
       "         'want': 4591,\n",
       "         'seek': 4579,\n",
       "         'complete': 4557,\n",
       "         'western': 4524,\n",
       "         'strong': 4518,\n",
       "         'dignity': 4517,\n",
       "         'day': 4512,\n",
       "         'lives': 4508,\n",
       "         'economies': 4491,\n",
       "         'values': 4480,\n",
       "         'equality': 4476,\n",
       "         'non-aligned': 4466,\n",
       "         'consider': 4465,\n",
       "         'poor': 4454,\n",
       "         'goal': 4451,\n",
       "         'accordance': 4428,\n",
       "         'appropriate': 4426,\n",
       "         'capacity': 4401,\n",
       "         'humanity': 4392,\n",
       "         'consequences': 4387,\n",
       "         'fight': 4386,\n",
       "         'increasing': 4384,\n",
       "         'objective': 4383,\n",
       "         'cyprus': 4381,\n",
       "         'prosperity': 4370,\n",
       "         'look': 4367,\n",
       "         'open': 4366,\n",
       "         'hand': 4344,\n",
       "         'confidence': 4337,\n",
       "         'note': 4311,\n",
       "         'nature': 4304,\n",
       "         'steps': 4291,\n",
       "         'public': 4289,\n",
       "         'active': 4279,\n",
       "         'appeal': 4276,\n",
       "         'different': 4271,\n",
       "         'case': 4266,\n",
       "         'clearly': 4263,\n",
       "         'growing': 4250,\n",
       "         'rather': 4246,\n",
       "         'tribute': 4240,\n",
       "         'called': 4239,\n",
       "         'congratulate': 4233,\n",
       "         'minister': 4223,\n",
       "         'reality': 4222,\n",
       "         'increased': 4219,\n",
       "         'following': 4210,\n",
       "         'times': 4202,\n",
       "         'know': 4201,\n",
       "         'million': 4195,\n",
       "         'consensus': 4189,\n",
       "         'decade': 4177,\n",
       "         'conclusion': 4177,\n",
       "         'recognized': 4176,\n",
       "         'decision': 4175,\n",
       "         'example': 4172,\n",
       "         'september': 4168,\n",
       "         'relevant': 4166,\n",
       "         'proposals': 4158,\n",
       "         'successful': 4155,\n",
       "         'adoption': 4154,\n",
       "         'manner': 4149,\n",
       "         'prevent': 4149,\n",
       "         'return': 4149,\n",
       "         'share': 4146,\n",
       "         'main': 4140,\n",
       "         'facing': 4135,\n",
       "         'aware': 4135,\n",
       "         'brought': 4134,\n",
       "         'threats': 4125,\n",
       "         'period': 4111,\n",
       "         'constructive': 4088,\n",
       "         'purposes': 4083,\n",
       "         'strategy': 4071,\n",
       "         'aid': 4055,\n",
       "         'historic': 4053,\n",
       "         'israeli': 4053,\n",
       "         'creation': 4044,\n",
       "         'occupied': 4035,\n",
       "         'achieving': 4029,\n",
       "         'deal': 4027,\n",
       "         'appreciation': 4026,\n",
       "         'parts': 4025,\n",
       "         'often': 4016,\n",
       "         'body': 4012,\n",
       "         'led': 4011,\n",
       "         'benefit': 4010,\n",
       "         'responsibilities': 4007,\n",
       "         'recognition': 4006,\n",
       "         'man': 4002,\n",
       "         'genuine': 3999,\n",
       "         'beyond': 3990,\n",
       "         'withdrawal': 3985,\n",
       "         'commission': 3983,\n",
       "         'anniversary': 3977,\n",
       "         'building': 3974,\n",
       "         'vital': 3972,\n",
       "         'commitments': 3967,\n",
       "         'china': 3967,\n",
       "         'final': 3950,\n",
       "         'sovereign': 3947,\n",
       "         'legal': 3946,\n",
       "         'reached': 3940,\n",
       "         'west': 3936,\n",
       "         'build': 3931,\n",
       "         'operations': 3925,\n",
       "         'priority': 3915,\n",
       "         'cultural': 3900,\n",
       "         'regions': 3887,\n",
       "         'elections': 3883,\n",
       "         'total': 3849,\n",
       "         'mission': 3849,\n",
       "         'created': 3837,\n",
       "         'existence': 3835,\n",
       "         'technology': 3831,\n",
       "         'extend': 3825,\n",
       "         'exercise': 3824,\n",
       "         'requires': 3818,\n",
       "         'disputes': 3814,\n",
       "         'continuing': 3811,\n",
       "         'enable': 3809,\n",
       "         'form': 3773,\n",
       "         'recognize': 3770,\n",
       "         'pacific': 3769,\n",
       "         'increasingly': 3754,\n",
       "         'equitable': 3753,\n",
       "         'effectively': 3736,\n",
       "         'groups': 3732,\n",
       "         'lack': 3730,\n",
       "         'urge': 3727,\n",
       "         'soon': 3721,\n",
       "         'desire': 3718,\n",
       "         'congratulations': 3714,\n",
       "         'caribbean': 3713,\n",
       "         'although': 3713,\n",
       "         'potential': 3707,\n",
       "         'presidency': 3700,\n",
       "         'programmes': 3696,\n",
       "         'islands': 3695,\n",
       "         'agreed': 3694,\n",
       "         'might': 3692,\n",
       "         'beginning': 3687,\n",
       "         'mass': 3677,\n",
       "         'production': 3672,\n",
       "         'talks': 3668,\n",
       "         'wishes': 3651,\n",
       "         'difficulties': 3651,\n",
       "         'iran': 3644,\n",
       "         'involved': 3642,\n",
       "         'achievement': 3639,\n",
       "         'several': 3635,\n",
       "         'angola': 3632,\n",
       "         'citizens': 3631,\n",
       "         'troops': 3624,\n",
       "         'maintain': 3622,\n",
       "         'health': 3618,\n",
       "         'sense': 3617,\n",
       "         'promoting': 3614,\n",
       "         'longer': 3610,\n",
       "         'environmental': 3607,\n",
       "         'direct': 3606,\n",
       "         'levels': 3603,\n",
       "         'sincere': 3601,\n",
       "         'concrete': 3597,\n",
       "         'detente': 3591,\n",
       "         'forms': 3572,\n",
       "         'account': 3567,\n",
       "         'search': 3559,\n",
       "         'civil': 3554,\n",
       "         'existing': 3554,\n",
       "         'finally': 3552,\n",
       "         'believes': 3531,\n",
       "         'proposal': 3524,\n",
       "         'joint': 3518,\n",
       "         'crises': 3516,\n",
       "         'words': 3502,\n",
       "         'authority': 3485,\n",
       "         'deep': 3485,\n",
       "         'go': 3481,\n",
       "         'provided': 3480,\n",
       "         'turn': 3479,\n",
       "         'partners': 3476,\n",
       "         'confrontation': 3452,\n",
       "         'colonial': 3447,\n",
       "         'immediate': 3444,\n",
       "         'early': 3437,\n",
       "         'review': 3431,\n",
       "         'effects': 3429,\n",
       "         'whether': 3424,\n",
       "         'industrialized': 3421,\n",
       "         'implement': 3419,\n",
       "         'office': 3417,\n",
       "         'response': 3409,\n",
       "         'external': 3406,\n",
       "         'reach': 3406,\n",
       "         'sanctions': 3406,\n",
       "         'individual': 3406,\n",
       "         'used': 3403,\n",
       "         'serve': 3401,\n",
       "         'reconciliation': 3393,\n",
       "         'calls': 3393,\n",
       "         'expressed': 3387,\n",
       "         'secure': 3373,\n",
       "         'welcomes': 3360,\n",
       "         'maintenance': 3354,\n",
       "         'promotion': 3354,\n",
       "         'equal': 3337,\n",
       "         'impact': 3334,\n",
       "         'stand': 3329,\n",
       "         'land': 3322,\n",
       "         'firm': 3317,\n",
       "         'era': 3311,\n",
       "         'education': 3307,\n",
       "         'subject': 3306,\n",
       "         'situations': 3304,\n",
       "         'men': 3297,\n",
       "         'kingdom': 3294,\n",
       "         'opinion': 3292,\n",
       "         'concerns': 3291,\n",
       "         'supported': 3281,\n",
       "         'rich': 3281,\n",
       "         'access': 3280,\n",
       "         'racist': 3277,\n",
       "         'kampuchea': 3277,\n",
       "         'integration': 3273,\n",
       "         'reduction': 3270,\n",
       "         'close': 3266,\n",
       "         'path': 3266,\n",
       "         'firmly': 3259,\n",
       "         'guarantee': 3255,\n",
       "         'develop': 3254,\n",
       "         'questions': 3242,\n",
       "         'seen': 3240,\n",
       "         'heads': 3233,\n",
       "         'strongly': 3229,\n",
       "         'balance': 3229,\n",
       "         'obligations': 3224,\n",
       "         'critical': 3220,\n",
       "         'needed': 3220,\n",
       "         'reiterate': 3217,\n",
       "         'decades': 3214,\n",
       "         'faith': 3208,\n",
       "         'participate': 3206,\n",
       "         'representatives': 3205,\n",
       "         'presence': 3199,\n",
       "         'pleased': 3190,\n",
       "         'outside': 3190,\n",
       "         'causes': 3184,\n",
       "         'overcome': 3179,\n",
       "         'ensuring': 3168,\n",
       "         'along': 3161,\n",
       "         'peacekeeping': 3155,\n",
       "         'ways': 3149,\n",
       "         'responsible': 3143,\n",
       "         'reforms': 3130,\n",
       "         'strategic': 3125,\n",
       "         'doubt': 3123,\n",
       "         'specific': 3121,\n",
       "         'purpose': 3120,\n",
       "         'found': 3108,\n",
       "         'determined': 3108,\n",
       "         'ready': 3108,\n",
       "         'circumstances': 3106,\n",
       "         'effect': 3102,\n",
       "         'statement': 3100,\n",
       "         'fund': 3093,\n",
       "         'reaffirm': 3090,\n",
       "         'trust': 3077,\n",
       "         'partnership': 3071,\n",
       "         'victims': 3068,\n",
       "         'improve': 3064,\n",
       "         'months': 3062,\n",
       "         'five': 3060,\n",
       "         'globalization': 3052,\n",
       "         'former': 3047,\n",
       "         'unfortunately': 3042,\n",
       "         'colonialism': 3041,\n",
       "         'agencies': 3036,\n",
       "         'practical': 3036,\n",
       "         'planet': 3033,\n",
       "         'opportunities': 3032,\n",
       "         'diplomatic': 3032,\n",
       "         'join': 3030,\n",
       "         'status': 3027,\n",
       "         'dangerous': 3024,\n",
       "         'accept': 3015,\n",
       "         'side': 3013,\n",
       "         'elimination': 3009,\n",
       "         'almost': 3005,\n",
       "         'islamic': 3005,\n",
       "         'ocean': 2998,\n",
       "         'vision': 2987,\n",
       "         'debate': 2976,\n",
       "         'zone': 2972,\n",
       "         'undertaken': 2971,\n",
       "         'actively': 2970,\n",
       "         'source': 2965,\n",
       "         'interference': 2946,\n",
       "         'concept': 2946,\n",
       "         'moral': 2943,\n",
       "         'protect': 2937,\n",
       "         'court': 2922,\n",
       "         'millions': 2915,\n",
       "         'grave': 2904,\n",
       "         'around': 2896,\n",
       "         'peace-keeping': 2894,\n",
       "         'crucial': 2893,\n",
       "         'due': 2886,\n",
       "         'terrorist': 2886,\n",
       "         'complex': 2885,\n",
       "         'light': 2885,\n",
       "         'differences': 2884,\n",
       "         'satisfaction': 2875,\n",
       "         'predecessor': 2874,\n",
       "         'took': 2873,\n",
       "         'wars': 2868,\n",
       "         'danger': 2867,\n",
       "         'feel': 2849,\n",
       "         'primary': 2841,\n",
       "         'korean': 2837,\n",
       "         'move': 2835,\n",
       "         'require': 2831,\n",
       "         'duty': 2827,\n",
       "         'shown': 2826,\n",
       "         'discrimination': 2825,\n",
       "         'thanks': 2815,\n",
       "         'key': 2814,\n",
       "         'consideration': 2803,\n",
       "         'known': 2802,\n",
       "         'domestic': 2799,\n",
       "         'failure': 2794,\n",
       "         'illegal': 2788,\n",
       "         'systems': 2774,\n",
       "         'socialist': 2767,\n",
       "         'demand': 2759,\n",
       "         'alone': 2758,\n",
       "         'outcome': 2753,\n",
       "         'imperative': 2751,\n",
       "         'governance': 2751,\n",
       "         'road': 2748,\n",
       "         'demands': 2746,\n",
       "         'rise': 2745,\n",
       "         'achievements': 2742,\n",
       "         'june': 2741,\n",
       "         'tensions': 2739,\n",
       "         'billion': 2738,\n",
       "         'attempts': 2738,\n",
       "         'addition': 2737,\n",
       "         'capital': 2737,\n",
       "         'borders': 2732,\n",
       "         'constitute': 2730,\n",
       "         'somalia': 2728,\n",
       "         'signed': 2727,\n",
       "         'effectiveness': 2722,\n",
       "         'instrument': 2715,\n",
       "         'oau': 2714,\n",
       "         'aspects': 2712,\n",
       "         'coexistence': 2707,\n",
       "         'ability': 2705,\n",
       "         'provisions': 2702,\n",
       "         'realities': 2702,\n",
       "         'ideals': 2701,\n",
       "         'leading': 2697,\n",
       "         'prices': 2689,\n",
       "         'stage': 2684,\n",
       "         'standards': 2684,\n",
       "         'friendly': 2681,\n",
       "         'crime': 2675,\n",
       "         'japan': 2675,\n",
       "         'management': 2674,\n",
       "         'drug': 2673,\n",
       "         'cold': 2670,\n",
       "         'non-proliferation': 2670,\n",
       "         'market': 2657,\n",
       "         'de': 2646,\n",
       "         'material': 2646,\n",
       "         'nothing': 2646,\n",
       "         'required': 2643,\n",
       "         'confident': 2638,\n",
       "         'proposed': 2637,\n",
       "         'limited': 2636,\n",
       "         'back': 2636,\n",
       "         'intervention': 2627,\n",
       "         'shared': 2620,\n",
       "         'fair': 2619,\n",
       "         'regarding': 2617,\n",
       "         'profound': 2616,\n",
       "         'affected': 2613,\n",
       "         'mechanisms': 2606,\n",
       "         'caused': 2597,\n",
       "         'bilateral': 2596,\n",
       "         'investment': 2596,\n",
       "         'establishing': 2593,\n",
       "         'faced': 2592,\n",
       "         'demonstrated': 2588,\n",
       "         'reduce': 2586,\n",
       "         'tragic': 2579,\n",
       "         'encourage': 2574,\n",
       "         'geneva': 2571,\n",
       "         'truly': 2567,\n",
       "         'prepared': 2565,\n",
       "         'carried': 2553,\n",
       "         'mandate': 2551,\n",
       "         'connection': 2543,\n",
       "         'furthermore': 2534,\n",
       "         'guinea': 2532,\n",
       "         'becoming': 2529,\n",
       "         'concerning': 2526,\n",
       "         'generations': 2521,\n",
       "         'greatest': 2519,\n",
       "         'deeply': 2519,\n",
       "         'markets': 2510,\n",
       "         'crimes': 2510,\n",
       "         'offer': 2504,\n",
       "         'focus': 2498,\n",
       "         'viet': 2497,\n",
       "         'domination': 2488,\n",
       "         'imposed': 2487,\n",
       "         'nam': 2487,\n",
       "         'gratitude': 2481,\n",
       "         'zimbabwe': 2470,\n",
       "         'matters': 2466,\n",
       "         'occasion': 2464,\n",
       "         'include': 2463,\n",
       "         'exploitation': 2445,\n",
       "         'encouraging': 2440,\n",
       "         'seriously': 2439,\n",
       "         'gulf': 2429,\n",
       "         'equally': 2428,\n",
       "         'financing': 2425,\n",
       "         'hunger': 2425,\n",
       "         'vast': 2425,\n",
       "         'views': 2419,\n",
       "         'august': 2417,\n",
       "         'begin': 2416,\n",
       "         'respond': 2416,\n",
       "         'violations': 2415,\n",
       "         'attempt': 2406,\n",
       "         'assist': 2405,\n",
       "         'criminal': 2405,\n",
       "         'days': 2404,\n",
       "         'burden': 2398,\n",
       "         'july': 2395,\n",
       "         'exist': 2394,\n",
       "         'combat': 2393,\n",
       "         'interdependence': 2391,\n",
       "         'party': 2389,\n",
       "         'chemical': 2382,\n",
       "         'agree': 2381,\n",
       "         'noble': 2376,\n",
       "         'creating': 2374,\n",
       "         'communities': 2371,\n",
       "         'proliferation': 2368,\n",
       "         'powerful': 2367,\n",
       "         'stated': 2365,\n",
       "         'prevention': 2364,\n",
       "         'survival': 2353,\n",
       "         'earth': 2353,\n",
       "         'well-being': 2348,\n",
       "         'bodies': 2347,\n",
       "         'seeking': 2344,\n",
       "         'rules': 2342,\n",
       "         'official': 2336,\n",
       "         'ethnic': 2335,\n",
       "         'family': 2335,\n",
       "         'moreover': 2330,\n",
       "         'honour': 2330,\n",
       "         'thousands': 2330,\n",
       "         'transition': 2326,\n",
       "         'tragedy': 2326,\n",
       "         'elements': 2324,\n",
       "         'unless': 2323,\n",
       "         'persons': 2322,\n",
       "         'innocent': 2319,\n",
       "         'nevertheless': 2319,\n",
       "         'designed': 2315,\n",
       "         'pakistan': 2315,\n",
       "         'contributions': 2314,\n",
       "         'sudan': 2314,\n",
       "         'bringing': 2313,\n",
       "         'reflect': 2309,\n",
       "         'cambodia': 2308,\n",
       "         'societies': 2308,\n",
       "         'fields': 2301,\n",
       "         'sir': 2299,\n",
       "         'historical': 2299,\n",
       "         'enhance': 2299,\n",
       "         'carry': 2298,\n",
       "         'conduct': 2296,\n",
       "         'reconstruction': 2290,\n",
       "         'influence': 2289,\n",
       "         'think': 2285,\n",
       "         'prime': 2285,\n",
       "         'recovery': 2284,\n",
       "         'enough': 2283,\n",
       "         'conviction': 2281,\n",
       "         'syria': 2281,\n",
       "         'monetary': 2275,\n",
       "         'adopt': 2273,\n",
       "         'racial': 2271,\n",
       "         'kind': 2271,\n",
       "         'constant': 2265,\n",
       "         'realize': 2265,\n",
       "         'accepted': 2260,\n",
       "         'four': 2255,\n",
       "         'certainly': 2251,\n",
       "         'so-called': 2250,\n",
       "         'old': 2249,\n",
       "         'implemented': 2249,\n",
       "         'speak': 2247,\n",
       "         'seems': 2246,\n",
       "         'strengthened': 2245,\n",
       "         'keeping': 2244,\n",
       "         'violation': 2243,\n",
       "         'represents': 2239,\n",
       "         'available': 2239,\n",
       "         'negotiation': 2237,\n",
       "         'preserve': 2232,\n",
       "         'outstanding': 2231,\n",
       "         'constitutes': 2229,\n",
       "         'pleasure': 2223,\n",
       "         'considered': 2221,\n",
       "         'show': 2219,\n",
       "         'direction': 2219,\n",
       "         'thank': 2218,\n",
       "         'meetings': 2217,\n",
       "         'mind': 2214,\n",
       "         'prospects': 2210,\n",
       "         'india': 2208,\n",
       "         'negative': 2207,\n",
       "         'ongoing': 2206,\n",
       "         'trafficking': 2205,\n",
       "         'hold': 2202,\n",
       "         'played': 2199,\n",
       "         'pursue': 2195,\n",
       "         'france': 2191,\n",
       "         'decisive': 2188,\n",
       "         'expansion': 2188,\n",
       "         'solve': 2185,\n",
       "         'service': 2184,\n",
       "         'related': 2183,\n",
       "         'extent': 2182,\n",
       "         'rostrum': 2181,\n",
       "         'perhaps': 2181,\n",
       "         'rest': 2177,\n",
       "         'single': 2173,\n",
       "         'idea': 2170,\n",
       "         'represent': 2170,\n",
       "         'technical': 2169,\n",
       "         'practice': 2168,\n",
       "         'restore': 2168,\n",
       "         'aim': 2168,\n",
       "         'pressure': 2167,\n",
       "         'transfer': 2165,\n",
       "         'bank': 2165,\n",
       "         'space': 2159,\n",
       "         'namely': 2157,\n",
       "         'bear': 2155,\n",
       "         'spite': 2152,\n",
       "         ...})"
      ]
     },
     "execution_count": 158,
     "metadata": {},
     "output_type": "execute_result"
    }
   ],
   "source": [
    "counter"
   ]
  },
  {
   "cell_type": "code",
   "execution_count": 159,
   "id": "8fd4d1db-b5e8-493e-abfc-513c874f24cb",
   "metadata": {},
   "outputs": [
    {
     "data": {
      "text/plain": [
       "collections.Counter"
      ]
     },
     "execution_count": 159,
     "metadata": {},
     "output_type": "execute_result"
    }
   ],
   "source": [
    "type(counter)"
   ]
  },
  {
   "cell_type": "markdown",
   "id": "c474762f",
   "metadata": {},
   "source": [
    "### Finding the most common words in a text"
   ]
  },
  {
   "cell_type": "code",
   "execution_count": 160,
   "id": "3b1e7db9",
   "metadata": {},
   "outputs": [
    {
     "name": "stdout",
     "output_type": "stream",
     "text": [
      "[('nations', 124508), ('united', 120763), ('international', 117223), ('world', 89421), ('countries', 85734)]\n"
     ]
    }
   ],
   "source": [
    "print(counter.most_common(5))"
   ]
  },
  {
   "cell_type": "markdown",
   "id": "aa90ebb6",
   "metadata": {},
   "source": [
    "### Transforming the counter into a DataFrame"
   ]
  },
  {
   "cell_type": "code",
   "execution_count": 161,
   "id": "76722ff5",
   "metadata": {},
   "outputs": [],
   "source": [
    "def count_words(df,column='tokens',preprocess=None,min_freq=2):\n",
    "    # process tokens and update counter\n",
    "    def update(doc):\n",
    "        tokens = doc if preprocess is None else preprocess(doc)\n",
    "        counter.update(tokens)\n",
    "    \n",
    "    # create counter and run through all data\n",
    "    counter = Counter()\n",
    "    df[column].map(update)\n",
    "    \n",
    "    # transform counter into a DataFrame\n",
    "    freq_df = pd.DataFrame.from_dict(counter,orient='index',columns=['freq'])\n",
    "    freq_df=freq_df.query('freq>=@min_freq')\n",
    "    freq_df.index.name='token'\n",
    "    \n",
    "    return freq_df.sort_values('freq',ascending=False)\n",
    "    "
   ]
  },
  {
   "cell_type": "code",
   "execution_count": 162,
   "id": "c3a83352",
   "metadata": {},
   "outputs": [],
   "source": [
    "freq_df=count_words(df)"
   ]
  },
  {
   "cell_type": "code",
   "execution_count": 163,
   "id": "a73f5c63",
   "metadata": {},
   "outputs": [
    {
     "data": {
      "text/html": [
       "<div>\n",
       "<style scoped>\n",
       "    .dataframe tbody tr th:only-of-type {\n",
       "        vertical-align: middle;\n",
       "    }\n",
       "\n",
       "    .dataframe tbody tr th {\n",
       "        vertical-align: top;\n",
       "    }\n",
       "\n",
       "    .dataframe thead th {\n",
       "        text-align: right;\n",
       "    }\n",
       "</style>\n",
       "<table border=\"1\" class=\"dataframe\">\n",
       "  <thead>\n",
       "    <tr style=\"text-align: right;\">\n",
       "      <th></th>\n",
       "      <th>freq</th>\n",
       "    </tr>\n",
       "    <tr>\n",
       "      <th>token</th>\n",
       "      <th></th>\n",
       "    </tr>\n",
       "  </thead>\n",
       "  <tbody>\n",
       "    <tr>\n",
       "      <th>nations</th>\n",
       "      <td>124508</td>\n",
       "    </tr>\n",
       "    <tr>\n",
       "      <th>united</th>\n",
       "      <td>120763</td>\n",
       "    </tr>\n",
       "    <tr>\n",
       "      <th>international</th>\n",
       "      <td>117223</td>\n",
       "    </tr>\n",
       "    <tr>\n",
       "      <th>world</th>\n",
       "      <td>89421</td>\n",
       "    </tr>\n",
       "    <tr>\n",
       "      <th>countries</th>\n",
       "      <td>85734</td>\n",
       "    </tr>\n",
       "    <tr>\n",
       "      <th>peace</th>\n",
       "      <td>72625</td>\n",
       "    </tr>\n",
       "    <tr>\n",
       "      <th>development</th>\n",
       "      <td>62632</td>\n",
       "    </tr>\n",
       "    <tr>\n",
       "      <th>states</th>\n",
       "      <td>59713</td>\n",
       "    </tr>\n",
       "    <tr>\n",
       "      <th>people</th>\n",
       "      <td>59338</td>\n",
       "    </tr>\n",
       "    <tr>\n",
       "      <th>security</th>\n",
       "      <td>58425</td>\n",
       "    </tr>\n",
       "  </tbody>\n",
       "</table>\n",
       "</div>"
      ],
      "text/plain": [
       "                 freq\n",
       "token                \n",
       "nations        124508\n",
       "united         120763\n",
       "international  117223\n",
       "world           89421\n",
       "countries       85734\n",
       "peace           72625\n",
       "development     62632\n",
       "states          59713\n",
       "people          59338\n",
       "security        58425"
      ]
     },
     "execution_count": 163,
     "metadata": {},
     "output_type": "execute_result"
    }
   ],
   "source": [
    "freq_df.head(10)"
   ]
  },
  {
   "cell_type": "markdown",
   "id": "3d4d3dc4",
   "metadata": {},
   "source": [
    "### Creating a Frequency Diagram"
   ]
  },
  {
   "cell_type": "code",
   "execution_count": 63,
   "id": "10e7c1e9",
   "metadata": {},
   "outputs": [
    {
     "data": {
      "text/plain": [
       "[Text(0.5, 0, 'Frequency'), Text(0, 0.5, 'Token'), Text(0.5, 1.0, 'Top Words')]"
      ]
     },
     "execution_count": 63,
     "metadata": {},
     "output_type": "execute_result"
    },
    {
     "data": {
      "image/png": "[encoded data removed]",
      "text/plain": [
       "<Figure size 640x480 with 1 Axes>"
      ]
     },
     "metadata": {},
     "output_type": "display_data"
    }
   ],
   "source": [
    "ax=freq_df.head(15).plot(kind='barh',width=0.95)\n",
    "ax.invert_yaxis()\n",
    "ax.set(xlabel='Frequency',ylabel='Token',title='Top Words')"
   ]
  },
  {
   "cell_type": "markdown",
   "id": "ee3d60b2",
   "metadata": {},
   "source": [
    "### Creating Word Clouds"
   ]
  },
  {
   "cell_type": "code",
   "execution_count": 64,
   "id": "5a0f909d",
   "metadata": {},
   "outputs": [],
   "source": [
    "from wordcloud import WordCloud"
   ]
  },
  {
   "cell_type": "code",
   "execution_count": 37,
   "id": "dae847f0-7cb2-4fa5-a4c3-f075ab599590",
   "metadata": {},
   "outputs": [
    {
     "name": "stdout",
     "output_type": "stream",
     "text": [
      "Seventy years after the founding of the United Nations it is worth reflecting on what the members of this body, working together, have helped to achieve. Out of the ashes of the Second World War, having witnessed the unthinkable power of the atomic age, the United States has worked with many nations in the Assembly to prevent a third world war — by forging alliances with old adversaries; by supporting the steady emergence of strong democracies accountable to their people and not to any foreign Power; and by building an international system that imposes a cost on those who choose conflict over cooperation, an order that recognizes the dignity and equal worth of all people.\n",
      "That has been the work of seven decades. That is the ideal that this body has, at its best, pursued. Of course, there have been too many times when, collectively, we have fallen short of those ideals. Over the seven decades, terrible conflicts have claimed untold victims. But we have pressed forward, slowly, steadily, to make a system of international rules and norms that are better and stronger and more consistent.\n",
      "It is that international order that has underwritten unparalleled advances in human liberty and prosperity. It is that collective endeavour that has brought about diplomatic cooperation among the world’s major Powers and buttressed a global economy that has lifted more than a billion people from poverty. It is those international principles that have helped constrain bigger countries from imposing their will on smaller ones and have advanced the emergence of democracy and development and individual liberty on every continent.\n",
      "That progress is real. It can be documented in lives saved, agreements forged, diseases conquered and mouths fed. And yet we come together today knowing that the march of human progress never travels in a straight line, that our work is far from complete and that dangerous currents risk pulling us back into a darker, more disordered world.\n",
      "Today we are seeing the collapse of strongmen and fragile States breeding conflict and driving innocent men, women and children across borders on an epic scale. Brutal networks of terror have stepped into the vacuum. Technologies that empower individuals are now also exploited by those who spread disinformation, suppress dissent or radicalize our youth. Global capital flows have powered growth and investment, but they have also increased the risk of contagion, weakened the bargaining power of workers and accelerated inequality.\n",
      "How should we respond to those trends? There are those who argue that the ideals enshrined in the Charter of the United Nations are unachievable or out of date, a legacy of a postwar era not suited to our own. In effect, they are arguing for a return to the rules that applied for most of human history and that predate this institution — the belief that power is a zero-sum game, that might makes right, that strong States must impose their will on weaker ones, that the rights of individuals do not matter and that in a time of rapid change, order must be imposed by force.\n",
      "On that basis, we see some major Powers assert themselves in ways that contravene international law. We see an erosion of the democratic principles and human rights that are fundamental to this institution’s mission. Information is strictly controlled and the space for civil society restricted. We are told that such retrenchment is required to beat back disorder; that it is the only way to stamp out terrorism and prevent foreign meddling. In accordance with that logic, we should support tyrants like Bashar Al-Assad, who drops barrel bombs to massacre innocent children, because the alternative is surely worse.\n",
      "This increasing scepticism of our international order can also be found in the most advanced democracies. We see greater polarization and more frequent gridlock, with movements on the far right, and sometimes the left, that insist on stopping the trade that binds our fates to other nations or calling for the building of walls to keep out immigrants. Most ominously, we see the fears of ordinary people being exploited through appeals to sectarianism, tribalism, racism or anti-Semitism; appeals to a glorious past before the body politic was infected by those who look different or worship God differently — a politics of us versus them.\n",
      "The United States is not immune to this. Even as our economy is growing and our troops have largely returned from Iraq and Afghanistan, we see in our debates about America’s role in the world a notion of strength that is defined by opposition to old enemies, perceived adversaries — a rising China or resurgent Russia, a revolutionary Iran or an Islam that is incompatible with peace. We see arguments that the only strength that matters for the United States is bellicose words and shows of military force, and that cooperation and diplomacy will not work.\n",
      "As President of the United States, I am mindful of the dangers that we face. They cross my desk every \n",
      "morning. I lead the strongest military that the world has ever known, and I will never hesitate to protect my country or our allies, unilaterally and by force where necessary. But I stand before the Assembly today believing in my core that we, the nations of the world, cannot return to the old ways of conflict and coercion. We cannot look backwards. We live in an integrated world, one in which we all have a stake in one another’s success.\n",
      "We cannot turn back those forces of integration. No nation here in the Assembly can insulate itself from the threat of terrorism, the risk of financial contagion, the flow of migrants or the danger of a warming planet. The disorder we see is not driven solely by competition between nations or by any single ideology. If we cannot work together more effectively, we will all suffer the consequences.\n",
      "That is true for the United States as well. No matter how powerful our military, how strong our economy, we understand the United States cannot solve the world’s problems alone. In Iraq, the United States learned the hard lesson that even with hundreds of thousands of brave, effective troops and trillions of dollars from our Treasury, it cannot by itself impose stability on a foreign land. Unless we work with other nations under the mantle of international norms, principles and law that offers legitimacy to our efforts, we will not succeed. And unless we work together to defeat the ideas that drive the various communities in a country like Iraq into conflict, any order that our militaries can impose will be temporary.\n",
      "Just as force alone cannot impose order internationally, I believe in my core that repression cannot forge the social cohesion that nations need to succeed. The history of the last two decades proves that in today’s world, dictatorships are unstable. The strongmen of today become the spark of revolution tomorrow. You can jail your opponents, but you cannot imprison ideas. You can try to control access to information, but you cannot turn a lie into truth. It is not a conspiracy of United States-backed non-governmental organizations that exposes corruption and raises the expectations of people around the globe — it is technology, social media and the irreducible desire of people everywhere to make their own choices about how they are governed.\n",
      "Indeed, I believe that in today’s world, the measure of strength is no longer defined by the control of territory. Lasting prosperity does not come solely from\n",
      "the ability to access and extract raw materials. The strength of nations depends on the success of their people — their knowledge, innovation, imagination, creativity, drive and opportunity — and that, in turn, depends on individual rights, good governance and personal security. Both internal repression and foreign aggression are symptoms of a failure to provide that foundation.\n",
      "Politics and solidarity that depend on demonizing others, that draw on religious sectarianism, narrow tribalism or jingoism, may at times look like strength in the moment, but over time their weakness will be exposed. And history tells us that the dark forces unleashed by this type of politics surely make all of us less secure. Our world has been there before. We gain nothing from going back.\n",
      "Instead, I believe that we must go forward in pursuit of our ideals, not abandon them at this critical time. We must give expression to our best hopes, not our deepest fears. This institution was founded because men and women who came before us had the foresight to know that our nations are more secure when we uphold basic laws and norms and pursue a path of cooperation rather than conflict. And strong nations, above all, have a responsibility to uphold that international order.\n",
      "Let me give a concrete example. After I took office, I made it clear that one of the principal achievements of the United Nations — the nuclear non-proliferation regime — was endangered by Iran’s violation of the Treaty on the Non-Proliferation of Nuclear Weapons. On that basis, the Security Council tightened sanctions on the Iranian Government, and many nations joined us to enforce them. Together, we showed that laws and agreements mean something. But we also understood that the goal of sanctions was not simply to punish Iran. Our objective was to test whether Iran could change course, accept constraints and allow the world to verify that its nuclear programme would be peaceful. For two years, the United States and our partners, including Russia and China, stuck together in complex negotiations. The result is a lasting, comprehensive deal that prevents Iran from obtaining a nuclear weapon while allowing it to access peaceful energy. If the deal is fully implemented, the prohibition on nuclear weapons is strengthened, a potential war is averted and our world is safer. That is the strength of the international system when it works the way it should.\n",
      "That same fidelity to international order guides our responses to other challenges around the world.\n",
      "Consider Russia’s annexation of Crimea and further aggression in eastern Ukraine. America has few economic interests in Ukraine, and we recognize the deep and complex history between Russia and Ukraine. But we cannot stand by when the sovereignty and territorial integrity of a nation is flagrantly violated. If that happens without consequence in Ukraine, it could happen to any of the nations gathered here today. That is the basis of the sanctions that the United States and our partners impose on Russia. It is not a desire to return to a cold war.\n",
      "Now, within Russia, State-controlled media may describe those events as an example of a resurgent Russia — a view shared, by the way, by a number of United States politicians and commentators who have always been deeply sceptical about Russia and seem to be convinced that a new cold war is in fact upon us. And yet look at the results. The Ukrainian people are more interested than ever in aligning with Europe instead of Russia. Sanctions have led to capital flight, a contracting economy, a fallen rouble and the emigration of more educated Russians.\n",
      "Imagine if, instead, Russia had engaged in true diplomacy and worked with Ukraine and the international community to ensure that its interests were protected. That would be better for Ukraine, but also better for Russia and better for the world, which is why we continue to press for this crisis to be resolved in a way that allows a sovereign and democratic Ukraine to determine its future and control its territory. This is not because we want to isolate Russia — we do not — but because we want a strong Russia that is invested in working with us to strengthen the international system as a whole.\n",
      "Similarly, in the South China Sea, the United States makes no claim on territory there. We do not adjudicate claims. But like every nation gathered here, we have an interest in upholding the basic principles of freedom of navigation and the free flow of commerce, and in resolving disputes through international law, not the law of force. So we will defend those principles, while encouraging China and other claimants to resolve their differences peacefully. I say this while recognizing that diplomacy is hard, the outcomes are sometimes unsatisfying and it is rarely politically popular. But I believe that leaders of large nations in particular have an obligation to take those risks, precisely because we are strong enough to protect our interests if and when diplomacy fails.\n",
      "I also believe that to move forward in this new era, we have to be strong enough to acknowledge when what we are doing is not working. For 50 years, the United States pursued a Cuba policy that failed to improve the lives of the Cuban people. We changed that. We continue to have differences with the Cuban Government. We will continue to stand up for human rights. But we address those issues through diplomatic relations, increased commerce and people-to-people ties. As those contacts yield progress, I am confident that our Congress will inevitably lift an embargo that should not be in place any more. Change will not come overnight to Cuba, but I am confident that openness, not coercion, will support the reforms and the better life that the Cuban people deserve, just as I believe that Cuba will find its success if it pursues cooperation with other nations.\n",
      "Now, if it is in the interest of major Powers to uphold international standards, that is even more true for the rest of the community of nations. Look around the world. From Singapore to Colombia to Senegal, the facts show that nations succeed when they pursue an inclusive peace and prosperity within their borders and work cooperatively with countries beyond those borders.\n",
      "That path is now available to a nation such as Iran, which, as of this moment, continues to deploy violent proxies to advance its interests. Those efforts may appear to give it leverage in disputes with its neighbours, but they fuel sectarian conflict that endangers the entire region and isolates Iran from the promise of trade and commerce. The Iranian people have a proud history and are filled with extraordinary potential. But chanting “Death to America” does not create jobs or make Iran more secure. If Iran chooses a different path, that will be good for the security of the region, good for the Iranian people and good for the world.\n",
      "Of course, around the globe, we will continue to be confronted with nations that reject these lessons of history — places where civil strife, border disputes and sectarian wars give rise to terrorist enclaves and humanitarian disasters. Where order has completely broken down, we must act, but we will be stronger when we act together.\n",
      "In such efforts, the United States will always do its part. We will do so mindful of the lessons of the past — not just the lessons of Iraq, but also the example of Libya, where we joined an international coalition\n",
      "under a United Nations mandate to prevent a slaughter. Even as we helped the Libyan people bring an end to the reign of a tyrant, our coalition could have and should have done more to fill a vacuum left behind. We are grateful to the United Nations for its efforts to forge a unity Government. We will help any legitimate Libyan Government as it works to bring the country together.\n",
      "We also have to recognize that we must work more effectively in the future, as an international community, to build capacity for States that are in distress before they collapse. That is why we should celebrate the fact that, later today, the United States will join with more than 50 countries to enlist new capabilities — infantry, intelligence, helicopters, hospitals, and tens of thousands of troops — to strengthen United Nations peacekeeping. These new capabilities can prevent mass killing and ensure that peace agreements are more than words on paper. But we have to do it together. Together, we must strengthen our collective capacity to establish security where order has broken down and to support those who seek a just and lasting peace.\n",
      "Nowhere is our commitment to international order more tested than in Syria. When a dictator slaughters tens of thousands of his own people, that is not just a matter of one nation’s internal affairs. It breeds human suffering on an order of magnitude that affects us all. Likewise, when a terrorist group beheads captives, slaughters the innocent and enslaves women, that is not a single nation’s national security problem. It is an assault on humankind as a whole.\n",
      "I have said before and I will repeat: there is no room to accommodate an apocalyptic cult like the Islamic State in Iraq and the Levant (ISIL), and the United States makes no apologies for using our military, as part of a broad coalition, to go after them. We do so with a determination to ensure that there will never be a safe haven for terrorists who carry out these crimes. We have demonstrated over more than a decade of relentless pursuit of Al-Qaida that we will not be outlasted by extremists.\n",
      "While military power is necessary, it is not sufficient to resolve the situation in Syria. Lasting stability can take hold only when the people of Syria forge an agreement to live together peacefully. The United States is prepared to work with any nation, including Russia and Iran, to resolve the conflict. But we must recognize that after so much bloodshed, so much carnage, there cannot be a return to the pre-war status quo.\n",
      "Let us remember how this started. Al-Assad reacted to peaceful protests by escalating repression and killing that, in turn, created the environment for the current strife. And so Al-Assad and his allies cannot simply pacify the broad majority of a population that has been brutalized by chemical weapons and indiscriminate bombing. Yes, realism dictates that compromise will be required to end the fighting and, ultimately, stamp out ISIL. But realism also requires a managed transition away from Al-Assad and to a new leader, and an inclusive Government that recognizes there must be an end to this chaos so that the Syrian people can begin to rebuild.\n",
      "We know that ISIL — which emerged out of the chaos of Iraq and Syria — depends on perpetual war to survive, but we also know that they gain adherents because of a poisonous ideology. Part of our job, together, is to work to reject such extremism that infects too many of our young people. Part of that effort must be a continued rejection by Muslims of those who distort Islam to preach intolerance and promote violence. It must also involve a rejection by non-Muslims of the ignorance that equates Islam with terrorism.\n",
      "This work will take time. There are no easy answers to Syria, and there are no simple answers to the changes that are taking place in much of the Middle East and North Africa. But so many families need help right now; they do not have time. That is why the United States is increasing the number of refugees whom we welcome within our borders. That is why we will continue to be the largest donor of assistance to support those refugees. Today we are launching new efforts to ensure that our people and our businesses, our universities and our non-governmental organizations can help as well, because in the faces of suffering families, our nation of immigrants sees itself.\n",
      "Of course, in the old ways of thinking, the plight of the powerless, the plight of refugees, the plight of the marginalized did not matter. They were on the periphery of the world’s concerns. Today, our concern for them is driven not just by conscience, but should also be driven by self-interest. Helping people who have been pushed to the margins of our world is not mere charity; it is a matter of collective security. The purpose of this institution is not merely to avoid conflict; it is to galvanize the collective action that makes life better on this planet.\n",
      "The commitments we have made to the Sustainable Development Goals speak to this truth. I believe that \n",
      "capitalism has been the greatest creator of wealth and opportunity that the world has ever known. But from big cities to rural villages around the world, we also know that prosperity is still cruelly out of reach for too many. As His Holiness Pope Francis reminds us, we are stronger when we value the least among these and see them as equal in dignity to ourselves and our sons and our daughters.\n",
      "We can roll back preventable disease and end the scourge of HIV/AIDS. We can stamp out pandemics that recognize no borders. That work may not be on television right now, but as we demonstrated in reversing the spread of Ebola, it can save more lives than anything else we can do. Together, we can eradicate extreme poverty and erase barriers to opportunity. But this requires a sustained commitment to our people so farmers can feed more people, so entrepreneurs can start a business without paying a bribe, so young people have the skills they need to succeed in this modern, knowledge-based economy.\n",
      "We can promote growth through trade that meets a higher standard, and that is what we are doing through the Trans-Pacific Partnership — a trade agreement that encompasses nearly 40 per cent of the global economy, an agreement that will open markets while protecting the rights of workers and protecting the environment that enables development to be sustained.\n",
      "We can roll back the pollution that we put in our skies and help economies lift people out of poverty without condemning our children to the ravages of an ever-warming climate. The same ingenuity that produced the Industrial Age and the Computer Age allows us to harness the potential of clean energy. No country can escape the ravages of climate change. And there is no stronger sign of leadership than putting future generations first. The United States will work with every nation that is willing to do its part so that we can come together in Paris to decisively confront this challenge.\n",
      "Finally, regarding our vision for the future of the Assembly, my belief in moving forward rather than backwards requires us to defend the democratic principles that allow societies to succeed. Let me start from a simple premise. Catastrophes like what we are seeing in Syria do not take place in countries where there is genuine democracy and respect for the universal values this institution is supposed to defend.\n",
      "I recognize that democracy is going to take different forms in different parts of the world. The very idea of a people governing themselves depends upon government giving expression to their unique culture, their unique history, their unique experiences. But some universal truths are self-evident. No person wants to be imprisoned for peaceful worship. No woman should ever be abused with impunity, no girl should be barred from attending school. There should be freedom to peacefully petition those in power without fear of arbitrary laws. These are not ideas of one country or one culture. They are fundamental to human progress. They are a cornerstone of this institution.\n",
      "I realize that in many parts of the world there is a different view — a belief that strong leadership must tolerate no dissent. I hear it not only from America’s adversaries, but — privately, at least — I also hear it from some of our friends. I disagree. I believe a Government that suppresses peaceful dissent is not showing strength. It is showing weakness and it is showing fear.\n",
      "History shows that regimes that fear their own people will eventually crumble, but strong institutions built on the consent of the governed endure long after any one individual is gone. That is why our strongest leaders, from George Washington to Nelson Mandela, have elevated the importance of building strong, democratic institutions over a thirst for perpetual power. Leaders who amend constitutions to stay in office only acknowledge that they failed to build a successful country for their people, because none of us lasts forever. It tells us that power is something they cling to for its own sake rather than for the betterment of those whom they purport to serve.\n",
      "I understand that democracy is frustrating. Democracy in the United States is certainly imperfect. At times it can be dysfunctional. But democracy — the constant struggle to extend rights to more of our people, to give more people a voice — is what allowed us to become the most powerful nation in the world. It is not simply a matter of principle; it is not an abstraction. Democracy, inclusive democracy, makes countries stronger. When opposition parties can seek power peacefully through the ballot, a country draws upon new ideas. When a free media can inform the public, corruption and abuse are exposed and can be rooted out. When civil society thrives, communities can solve problems that Governments cannot necessarily solve alone. When immigrants are welcomed, countries are \n",
      "more productive and more vibrant. When girls can go to school, get a job and pursue unlimited opportunities, that is when a country realizes its full potential.\n",
      "That is what I believe is America’s greatest strength. Not everybody in America agrees with me. That is part of democracy. I believe that the fact that one can walk the streets of this city right now and pass churches and synagogues and temples and mosques where people worship freely; the fact that our nation of immigrants mirrors the diversity of the world — one can find people from everywhere here in New York City — the fact that in this country everybody can contribute, everybody can participate no matter who they are or what they look like or whom they love — that is what makes us strong.\n",
      "I believe that what is true for America is true for virtually all mature democracies. That is no accident. We can be proud of our nations without defining ourselves in opposition to some other group. We can be patriotic without demonizing someone else. We can cherish our own identities — our religion, our ethnicity, our traditions — without putting others down. Our systems are premised on the notion that absolute power will corrupt, but that people, ordinary people, are fundamentally good and value family and friendship, faith and the dignity of hard work. And with appropriate checks and balances, Governments can reflect that goodness. I believe that is the future we must seek together — to believe in the dignity of every individual, to believe we can bridge our differences and choose cooperation over conflict. That is not weakness; that is strength. It is a practical necessity in our interconnected world.\n",
      "Our people understand this. Think of the Liberian doctor who went door to door to search for Ebola cases and to tell families what to do if they show symptoms. Think of the Iranian shopkeeper who said after the nuclear deal, “God willing, now we will be able to offer many more goods at better prices”. Think of the Americans who lowered the flag over our embassy in Havana in 1961, the year I was born, and who returned this summer to raise that flag back up. One of those men said of the Cuban people, “We could do things for them, and they could do things for us. We loved them”. For 50 years we ignored that fact. Think of the families leaving everything they have known behind, risking barren deserts and stormy waters just to find shelter, just to save their children. One Syrian refugee who was met in Hamburg with warm greetings and shelter said,\n",
      "“We feel there are still some people who love other people”.\n",
      "The people of our United Nations are not as different as they have been told. They can be made to fear; they can be taught to hate, but they can also respond to hope. History is littered with the failure of false prophets and fallen empires who believed that might always makes right. That will continue to be the case. We can count on it. But we are called upon to offer a different type of leadership, a leadership strong enough to recognize that nations share common interests and people share a common humanity. And, yes, there are certain ideas and principles that are universal. That is what those who shaped the United Nations 70 years ago understood. Let us carry that faith forward into the future, for it is the only way we can ensure that the future will be brighter, for my children and for everyone’s children.\n"
     ]
    }
   ],
   "source": [
    "text = df.query(\"year==2015 and country=='USA'\")['text'].values[0]\n",
    "\n",
    "print(text)"
   ]
  },
  {
   "cell_type": "markdown",
   "id": "d78ef679",
   "metadata": {},
   "source": [
    "#### WordCloud for a single text"
   ]
  },
  {
   "cell_type": "code",
   "execution_count": 71,
   "id": "8ef3f7d5",
   "metadata": {},
   "outputs": [
    {
     "data": {
      "image/png": "[encoded data removed]",
      "text/plain": [
       "<Figure size 640x480 with 1 Axes>"
      ]
     },
     "metadata": {},
     "output_type": "display_data"
    }
   ],
   "source": [
    "wc = WordCloud(max_words=100,stopwords=stopwords_spa)\n",
    "wc.generate(text)\n",
    "plt.imshow(wc,interpolation='bilinear')\n",
    "plt.axis(\"off\")\n",
    "plt.show()"
   ]
  },
  {
   "cell_type": "markdown",
   "id": "67f0a8e2",
   "metadata": {},
   "source": [
    "#### WordCloud for a corpus of documents"
   ]
  },
  {
   "cell_type": "code",
   "execution_count": 73,
   "id": "52debbb4",
   "metadata": {},
   "outputs": [],
   "source": [
    "def wordcloud(word_freq, title=None, max_words=200, stopwords=None):\n",
    "    \n",
    "    wc = WordCloud(width=800,height=400,\n",
    "                  background_color='black',colormap='Paired',\n",
    "                  max_font_size=130,max_words=max_words)\n",
    "    \n",
    "    # Convert DataFrame into dict\n",
    "    if type(word_freq)==pd.Series:\n",
    "        counter=Counter(word_freq.fillna(0).to_dict())\n",
    "    else:\n",
    "        counter=word_freq\n",
    "        \n",
    "    #filter stop words in frequency counter\n",
    "    if stopwords is not None:\n",
    "        counter={token:freq for (token,freq) in counter.items() if token not in stopwords}\n",
    "    wc.generate_from_frequencies(counter)\n",
    "    \n",
    "    plt.title(title)\n",
    "    \n",
    "    plt.imshow(wc,interpolation='bilinear')\n",
    "    plt.axis('off')"
   ]
  },
  {
   "cell_type": "code",
   "execution_count": 74,
   "id": "2f13a79f-bde7-4798-a09f-a9b6ffffb789",
   "metadata": {},
   "outputs": [],
   "source": [
    "freq_2015_df=count_words(df[df['year']==2015])"
   ]
  },
  {
   "cell_type": "code",
   "execution_count": 75,
   "id": "c79e985b-64a9-4470-90c8-c116f7eeca10",
   "metadata": {},
   "outputs": [
    {
     "data": {
      "text/plain": [
       "pandas.core.series.Series"
      ]
     },
     "execution_count": 75,
     "metadata": {},
     "output_type": "execute_result"
    }
   ],
   "source": [
    "freq_2015_df\n",
    "type(freq_2015_df['freq'])"
   ]
  },
  {
   "cell_type": "code",
   "execution_count": 76,
   "id": "52c6aa6f",
   "metadata": {},
   "outputs": [
    {
     "data": {
      "image/png": "[encoded data removed]",
      "text/plain": [
       "<Figure size 640x480 with 1 Axes>"
      ]
     },
     "metadata": {},
     "output_type": "display_data"
    }
   ],
   "source": [
    "plt.figure()\n",
    "wordcloud(freq_2015_df['freq'],max_words=200)"
   ]
  },
  {
   "cell_type": "code",
   "execution_count": null,
   "id": "cff568bb",
   "metadata": {},
   "outputs": [],
   "source": [
    "wordcloud(freq_2015_df['freq'],max_words=100,stopwords=freq_df.head(50).index)"
   ]
  },
  {
   "cell_type": "markdown",
   "id": "0d1b69fa",
   "metadata": {},
   "source": [
    "# Ranking with TF-IDF\n",
    "\n",
    "- Visualization of words frequencies is not very informative\n",
    "- Most frequent words are often domain-specific and similar for differents slices (subsets) of data\n",
    "- Alternative approach: **to give more importance to words that appear more frequently in a given subset of the data (a single speech, speeches of a country, speeches for a given year) than on average**\n",
    "- Combination of\n",
    "    - the term frequency\n",
    "    - the inverse document frequency\n",
    "\n",
    "- **Document frequency** of term *t* \n",
    "    - a corpus of documents *C*\n",
    "    - document frequency: the number of documents *d* that contains the term *t*:\n",
    "    $$\n",
    "    df(t)=|\\lbrace d   \\in C|t \\in d \\rbrace|\n",
    "    $$\n",
    "    - Terms that appear in many documents have a high document frequency\n",
    "\n",
    "\n",
    "- **Inverse document frequency**: a weighting scheme that measures the \"unusualness\" of a term in a corpus often used to reduce the influence of common terms for data analysis\n",
    "- - **Inverse document frequency** is defined as:\n",
    "    $$\n",
    "    idf(t)=log(\\frac{|C|}{df(t)})\n",
    "    $$\n",
    "    - in log to avoid a too large value for rare terms\n",
    "    - $idf(t)=0$ for terms that appear in all documents ($df(t)=0$)\n",
    "    - Some libraries add a constant to the whole term for not completely ignoring this term\n",
    "    - scikit-learn adds +1\n",
    "    - alternative option: to add +1 to the denominator to prevent a division by zero dor unseen terms with $df(t)=0$ (*smoothing*)\n",
    "    \n",
    "- For a word *t* in a set of documents $D \\subset C$, the TF-IDF-score is the product of \n",
    "    - the term frequency $tf(t,D)$\n",
    "    - the IDF of temr *t*:\n",
    "        $$\n",
    "        tfidf(t,D)=tf(t,D).idf(t)\n",
    "        $$\n",
    "\n",
    "- $tfidf(t,D)$ gives high value for terms:\n",
    "    - appearing frequently in the selected documents D,\n",
    "    - rarely in the other documents of the corpus"
   ]
  },
  {
   "cell_type": "code",
   "execution_count": 165,
   "id": "358180d7-b6ad-4c9c-beb0-95c4e7169555",
   "metadata": {},
   "outputs": [
    {
     "name": "stdout",
     "output_type": "stream",
     "text": [
      "['may', 'begin', 'congratulating', 'sir', 'election', 'presidency', 'general', 'assembly', 'forty-fourth', 'session', 'wide', 'experience', 'united', 'nations', 'makes', 'especially', 'qualified', 'guide', 'assembly', 'deliberations', 'best', 'wishes', 'demanding', 'task', 'lies', 'ahead', 'may', 'also', 'express', 'thanks', 'outgoing', 'president', 'mr', 'dante', 'caputo', 'ably', 'fulfilled', 'role', 'behalf', 'assembly', 'gives', 'particular', 'pleasure', 'pay', 'tribute', 'secretary-general', 'owe', 'great', 'deal', 'authority', 'leadership', 'assembled', 'annual', 'general', 'debate', 'every', 'member', 'state', 'needs', 'reflect', 'certain', 'fundamental', 'questions', 'united', 'nations', 'everything', 'possible', 'order', 'meet', 'challenges', 'making', 'progress', 'say', 'united', 'nations', 'enters', 'last', 'decade', 'century', 'determination', 'justified', 'self-confidence', 'country', 'everything', 'order', 'help', 'world', 'organization', 'answers', 'questions', 'must', 'sought', 'actual', 'work', 'organization', 'member', 'states', 'part', 'shall', 'try', 'emphasize', 'challenges', 'finland', 'regard', 'particularly', 'imports', 'present', 'time', 'seems', 'us', 'main', 'challenges', 'expressed', 'two', 'words', '-insecurity', 'poverty', 'produce', 'fear', 'suffering', 'neither', 'dealt', 'single', 'remedy', 'united', 'nations', 'created', 'first', 'foremost', 'order', 'maintain', 'international', 'peace', 'security', 'respect', 'past', 'year', 'represents', 'mixture', 'success', 'disappointment', 'encouraged', 'high-level', 'dialogues', 'continued', 'major', 'powers', 'witnessed', 'satisfaction', 'concrete', 'achievements', 'continuing', 'progress', 'verified', 'dismantling', 'destruction', 'american', 'soviet', 'intermediate-range', 'nuclear', 'weapons', 'one', 'participating', 'states', 'process', 'conference', 'security', 'cooperation', 'europe', 'finland', 'follow', 'closely', 'much', 'hope', 'new', 'efforts', 'achieve', 'substantive', 'conventional', 'disarmament', 'europe', 'time', 'concerned', 'violence', 'erupted', 'continues', 'many', 'parts', 'world', 'underlying', 'problem', 'already', 'agenda', 'general', 'assembly', 'shall', 'express', 'views', 'due', 'course', 'want', 'speak', 'global', 'challenges', 'regards', 'process', 'disarmament', 'global', 'level', 'hopes', 'finland', 'fastened', 'particularly', 'preparation', 'chemical', 'weapons', 'convention', 'political', 'demonstrated', 'conferences', 'held', 'paris', 'canberra', 'year', 'year', 'finnish', 'experts', 'continued', 'research', 'order', 'help', 'develop', 'appropriate', 'methods', 'could', 'meet', 'complex', 'verification', 'requirements', 'global', 'comprehensive', 'chemical', 'weapons', 'convention', 'expect', 'progress', 'protracted', 'negotiations', 'growing', 'impatience', 'welcome', 'impetus', 'recently', 'given', 'bilateral', 'talks', 'united', 'states', 'soviet', 'union', 'security', 'global', 'level', 'must', 'take', 'account', 'factors', 'addition', 'armaments', 'military', 'threats', 'security', 'requires', 'confidence', 'future', 'confidence', 'must', 'felt', 'governments', 'peoples', 'representative', 'government', 'respects', 'human', 'rights', 'therefore', 'enjoys', 'confidence', 'people', 'face', 'future', 'sense', 'security', 'successfully', 'maintain', 'stable', 'relations', 'governments', 'dramatic', 'fact', 'tragic', 'events', 'recently', 'illustrated', 'importance', 'respect', 'human', 'rights', 'hope', 'lessons', 'learned', 'confidence', 'future', 'also', 'requires', 'global', 'challenge', 'poverty', 'overcome', 'sufferings', 'poverty', 'may', 'evidence', 'everywhere', 'challenge', 'requires', 'global', 'co-operation', 'development', 'assembly', 'meet', 'next', 'year', 'special', 'session', 'devoted', 'international', 'economic', 'co-operation', 'soon', 'thereafter', 'new', 'international', 'development', 'strategy', '1990s', 'adopted', 'successful', 'special', 'session', 'new', 'realistic', 'strategy', 'help', 'bring', 'new', 'spirit', 'international', 'economic', 'co-operation', 'process', 'preparing', 'development', 'strategy', 'special', 'session', 'emphasis', 'development', 'human', 'resources', 'forms', 'including', 'recognition', 'well-functioning', 'private', 'sector', 'balance', 'effective', 'public', 'sector', 'context', 'funding', 'generated', 'national', 'international', 'sources', 'well', 'co-ordinated', 'necessary', 'investments', 'developing', 'countries', 'require', 'increasing', 'domestic', 'external', 'financing', 'debt', 'overhang', 'resulted', 'transfer', 'resources', 'developing', 'countries', 'exceeded', 'us', 'billion', 'last', 'year', 'trend', 'reversed', 'requires', 'political', 'solution', 'including', 'functioning', 'debt', 'strategy', 'found', 'debt', 'overhang', 'cannot', 'overcome', 'international', 'community', 'upcoming', 'special', 'session', 'general', 'assembly', 'new', 'international', 'development', 'strategy', 'would', 'important', 'efforts', 'reverse', 'transfer', 'resources', 'developing', 'countries', 'target', 'per', 'cent', 'gross', 'national', 'product', 'development-and', 'transfer', 'generally', 'reached', 'part', 'finland', 'year', 'reach', 'target', 'set', 'general', 'assembly', 'structure', 'united', 'nations', 'economic', 'social', 'fields', 'respond', 'tasks', 'specified', 'strategy', '1990s', 'thus', '-consolidating', 'role', 'world', 'organization', 'finnish', 'government', 'finds', 'secretary-general', 'major', 'catalytic', 'role', 'play', 'putting', 'forward', 'concrete', 'proposals', 'improve', 'organization', 'effectiveness', 'fields', 'would', 'also', 'help', 'governments', 'agreeing', 'areas', 'concentrate', 'activities', 'united', 'nations', 'economic', 'social', 'fields', 'today', 'wish', 'emphasize', 'two', 'issues', 'must', 'opinion', 'prominent', 'place', 'respect', 'development', 'cannot', 'sustainable', 'world', 'population', 'continues', 'grow', 'present', 'rate', 'development', 'cannot', 'sustainable', 'natural', 'resources', 'earth', 'continue', 'depleted', 'present', 'rate', 'growing', 'awareness', 'problems', 'parts', 'world', 'awareness', 'strongly', 'reflected', 'work', 'united', 'nations', 'prompted', 'number', 'positive', 'measures', 'needed', 'according', 'recent', 'united', 'nations', 'estimates', 'world', 'population', 'could', 'stabilize', 'twenty-first', 'century', 'level', 'billion', 'persons', 'early', 'stabilisation', 'population', 'growth', 'would', 'course', 'facilitate', 'fight', 'poverty', 'reach', 'goal', 'determined', 'population', 'policies', 'translated', 'national', 'population', 'plans', 'spelled', 'world', 'population', 'plan', 'action', 'pursued', 'vigorously', 'regard', 'protection', 'environment', 'problem', 'lately', 'become', 'apparent', 'widely', 'recognized', 'problem', 'climate', 'change', 'industrialized', 'developing', 'countries', 'directly', 'affected', 'depletion', 'ozone', 'layer', 'increasing', 'emissions', 'carbon', 'dioxides', 'produce', 'so-called', 'greenhouse', 'effect', 'climate', 'earth', 'increasing', 'presence', 'substances', 'atmosphere', 'cause', 'acid', 'rain', 'direct', 'dangers', 'health', 'therefore', 'hardly', 'surprise', 'witnessed', 'increasing', 'international', 'activity', 'field', 'several', 'initiatives', 'taken', 'launch', 'concerted', 'international', 'action', 'combat', 'atmospheric', 'pollution', 'aspects', 'including', 'climatic', 'change', 'view', 'effective', 'strategies', 'policies', 'developed', 'international', 'community', 'soon', 'possible', 'fields', 'relating', 'environment', 'major', 'undertaking', 'requires', 'consolidated', 'effort', 'general', 'assembly', 'relevant', 'united', 'nations', 'specialized', 'agencies', 'environmental', 'problems', 'universal', 'character', 'new', 'activities', 'streamlined', 'already', 'ongoing', 'action', 'well-established', 'treaty-making', 'procedures', 'general', 'assembly', 'must', 'play', 'pivotal', 'role', 'effort', 'five', 'months', 'ago', 'finland', 'hosted', 'conference', 'parties', 'vienna', 'convention', 'protection', 'ozone', 'layer', 'aid', 'montreal', 'protocol', 'substances', 'deplete', 'ozone', 'layer', 'instruments', 'respectively', 'year', 'already', 'found', 'inadequate', 'light', 'latest', 'advances', 'knowledge', 'conference', 'representatives', 'states', 'present', 'agreed', 'unanimously', 'helsinki', 'declaration', 'protection', 'ozone', 'layer', 'contains', 'ambitious', 'undertaking', 'phase', 'completely', 'use', 'ozone-depleting', 'chlorofluorocarbons', 'year', 'sooner', 'possible', 'phase', 'ozone-depleting', 'substances', 'soon', 'possible', 'expect', 'undertaking', 'converted', 'legally', 'binding', 'decision', 'next', 'year', 'meeting', 'parties', 'montreal', 'protocol', 'appropriate', 'measures', 'also', 'undertaken', 'make', 'environmentally', 'sound', 'substitutes', 'widely', 'available', 'developing', 'countries', 'soon', 'possible', 'field', 'environment', 'protection', 'problems', 'typical', 'industrialized', 'countries', 'often', 'also', 'found', 'big', 'urban', 'centres', 'developing', 'countries', 'problems', 'typical', 'many', 'developing', 'countries', 'soil', 'erosion', 'destruction', 'forests', 'illustrate', 'mistakes', 'already', 'committed', 'earlier', 'generations', 'europe', 'therefore', 'learn', 'information', 'available', 'environment', 'protection', 'earlier', 'mistakes', 'available', 'knowledge', 'needs', 'applied', 'converted', 'practical', 'programmes', 'level', 'global', 'strategies', 'also', 'level', 'regional', 'national', 'local', 'development', 'development', 'co-operation', 'programmes', 'finland', 'emphasized', 'activities', 'deforestation', 'feel', 'experience', 'expertise', 'see', 'deforestation', 'urgent', 'order', 'help', 'stop', 'soil', 'erosion', 'counteract', 'greenhouse', 'effect', 'counterbalance', 'continued', 'cutting', 'trees', 'fuel', 'immediate', 'human', 'needs', 'respect', 'development', 'new', 'renewable', 'soirees', 'energy', 'crucial', 'importance', 'broader', 'scale', 'look', 'forward', 'united', 'nations', 'conference', 'environment', 'development', 'see', 'representing', 'probably', 'important', 'joint', 'effort', 'required', 'mankind', 'remaining', 'part', 'century', 'session', 'general', 'assembly', 'called', 'upon', 'take', 'important', 'decisions', 'preparation', 'conference', 'connection', 'activities', 'face', 'environmental', 'problems', 'finland', 'strongly', 'emphasize', 'need', 'support', 'developing', 'countries', 'order', 'ensure', 'development', 'environmentally', 'sustainable', 'large', 'part', 'burden', 'particularly', 'financing', 'research', 'introduction', 'new', 'environmentally', 'sound', 'technologies', 'borne', 'industrialized', 'countries', 'accept', 'part', 'burden', 'knowing', 'course', 'states', 'share', 'efforts', 'according', 'capabilities', 'since', 'concern', 'environment', 'global', 'concern', 'opinion', 'give', 'incentive', 'states', 'without', 'exception', 'involve', 'actively', 'international', 'co-operation', 'environmentally', 'sound', 'sustainable', 'development', 'also', 'think', 'time', 'ripe', 'preparation', 'structural', 'reforms', 'making', 'united', 'nations', 'organization', 'responsive', 'problems', 'protecting', 'environment', 'government', 'open', 'mind', 'regarding', 'various', 'ideas', 'discussed', 'would', 'find', 'natural', 'assembly', 'take', 'decisions', 'ensuring', 'environmental', 'questions', 'permanent', 'prominent', 'place', 'structure', 'organization', 'one', 'activities', 'united', 'nations', 'rightly', 'gained', 'prominence', 'year', 'peace-keeping', 'present', 'time', 'finland', 'biggest', 'contributor', 'personnel', 'united', 'nations', 'peace-keeping', 'forces', 'total', 'strength', 'close', 'number', 'finnish', 'personnel', 'almost', 'therefore', 'particular', 'satisfaction', 'finland', 'share', 'pride', 'felt', 'house', 'latest', 'nobel', 'peace', 'prize', 'awarded', 'united', 'nations', 'peace-keeping', 'forces', 'co-operation', 'nordic', 'countries', 'finland', 'year', 'taken', 'steps', 'share', 'interested', 'states', 'experiences', 'concerning', 'training', 'preparation', 'national', 'contingents', 'peace-keeping', 'tasks', 'also', 'satisfied', 'reactivation', 'united', 'nations', 'special', 'committee', 'peace-keeping', 'operations', 'accumulated', 'experiences', 'field', 'already', 'grown', 'extent', 'high', 'time', 'indeed', 'make', 'thorough', 'review', 'practical', 'proposals', 'may', 'help', 'strengthen', 'role', 'united', 'nations', 'peace-keeping', 'connection', 'wish', 'emphasize', 'importance', 'finding', 'lasting', 'solution', 'financial', 'difficulties', 'still', 'affect', 'current', 'peace-keeping', 'operations', 'thus', 'indirectly', 'undermining', 'financial', 'basis', 'whole', 'organization', 'idea', 'sufficient', 'financial', 'reserves', 'peacemaking', 'peace-keeping', 'particularly', 'start-up', 'phase', 'operations', 'predecessor', 'put', 'forward', 'address', 'general', 'assembly', 'last', 'year', 'received', 'support', 'number', 'quarters', 'note', 'particular', 'secretary-general', 'report', 'general', 'assembly', 'referred', 'possibility', 'establishing', 'special', 'reserve', 'fund', 'peace-keeping', 'supported', 'member', 'states', 'hope', 'idea', 'soon', 'followed', 'practice', 'full', 'respect', 'principle', 'collective', 'responsibility', 'first', 'condition', 'view', 'member', 'states', 'accept', 'principle', 'financing', 'operations', 'without', 'exception', 'assessed', 'contributions', 'pay', 'assessed', 'contributions', 'full', 'time', 'principal', 'factor', 'explaining', 'recent', 'growth', 'participation', 'finnish', 'personnel', 'united', 'nations', 'peace-keeping', 'deployment', 'enlarged', 'battalion', 'within', 'united', 'nations', 'transition', 'assistance', 'group', 'untag', 'namibia', 'sizable', 'number', 'volunteer', 'soldiers', 'thus', 'added', 'two', 'finnish', 'battalions', 'smaller', 'units', 'already', 'serving', 'middle', 'east', 'elsewhere', 'namibia', 'major', 'test', 'united', 'nations', 'beginnings', 'uotag', 'operations', 'implement', 'security', 'council', 'resolution', 'independence', 'namibia', 'unexpectedly', 'rough', 'difficult', 'still', 'early', 'draw', 'conclusions', 'whole', 'process', 'transition', 'independence', 'believe', 'programme', 'brought', 'back', 'track', 'thanks', 'persistent', 'efforts', 'secretary-general', 'competent', 'performance', 'untag', 'personnel', 'course', 'many', 'problems', 'still', 'remain', 'solved', 'call', 'unrelenting', 'attention', 'looking', 'forward', 'confidence', 'moment', 'welcome', 'independent', 'namibia', 'midst', 'member', 'state', 'united', 'nations', 'finland', 'namibia', 'major', 'partner', 'development', 'co-operation', 'situation', 'middle', 'east', 'continues', 'pose', 'persistent', 'threat', 'international', 'security', 'dangers', 'absence', 'peace', 'area', 'demonstrated', 'almost', 'daily', 'repressive', 'measures', 'continue', 'territories', 'illegally', 'occupied', 'israel', 'cycle', 'violence', 'broken', 'eking', 'turmoil', 'lebanon', 'gives', 'cause', 'deep', 'concern', 'must', 'way', 'suffering', 'lebanese', 'people', 'common', 'endeavours', 'lebanese', 'arab', 'league', 'international', 'community', 'pressingly', 'urgent', 'way', 'prepared', 'towards', 'international', 'peace', 'conference', 'comprehensive', 'settlement', 'middle', 'east', 'almost', 'universal', 'recognition', 'basic', 'principles', 'settlement', 'right', 'states', 'region', 'live', 'within', 'secure', 'recognized', 'boundaries', 'well', 'right', 'palestinians', 'national', 'determination', 'recognised', 'democratic', 'elections', 'occupied', 'territories', 'could', 'facilitate', 'process', 'elections', 'properly', 'mentored', 'take', 'place', 'within', 'framework', 'structured', 'effort', 'could', 'provide', 'link', 'process', 'leading', 'comprehensive', 'settlement', 'momentum', 'achieving', 'solution', 'long-standing', 'conflict', 'lost', 'unless', 'possible', 'avenues', 'pursued', 'vigorously', 'open', 'mind', 'respect', 'proposals', 'made', 'president', 'mubarak', 'egypt', 'welcome', 'merit', 'serious', 'consideration', 'united', 'nations', 'manifestly', 'demonstrated', 'relevance', 'strengthened', 'role', 'forum', 'co-ordinated', 'international', 'action', 'yet', 'world', 'organization', 'member', 'states', 'serious', 'global', 'problems', 'call', 'urgent', 'global', 'solutions', 're-invigorated', 'united', 'nations', 'answer', 'challenges', 'world', 'inevitably', 'face', '1990s', 'beyond', 'let', 'us', 'unite', 'forces', 'make', 'united', 'nations', 'capable', 'meeting', 'challenges']\n"
     ]
    }
   ],
   "source": [
    "print(df['tokens'][1])"
   ]
  },
  {
   "cell_type": "code",
   "execution_count": 166,
   "id": "6fb5ad70-0c98-404e-b6ed-de23376f2da5",
   "metadata": {},
   "outputs": [
    {
     "data": {
      "text/plain": [
       "{'-at',\n",
       " '1980s',\n",
       " 'ability',\n",
       " 'able',\n",
       " 'abuse',\n",
       " 'acceptance',\n",
       " 'accident',\n",
       " 'achieved',\n",
       " 'actions',\n",
       " 'activities',\n",
       " 'acts',\n",
       " 'actual',\n",
       " 'address',\n",
       " 'addressing',\n",
       " 'adhere',\n",
       " 'afflicted',\n",
       " 'affordable',\n",
       " 'affront',\n",
       " 'afghanistan',\n",
       " 'africa',\n",
       " 'agenda',\n",
       " 'aggravate',\n",
       " 'aggravated',\n",
       " 'ago',\n",
       " 'agreed',\n",
       " 'agreement',\n",
       " 'agreements',\n",
       " 'ahead',\n",
       " 'aid',\n",
       " 'alleviate',\n",
       " 'already',\n",
       " 'also',\n",
       " 'always',\n",
       " 'ambassador',\n",
       " 'amidst',\n",
       " 'among',\n",
       " 'amount',\n",
       " 'another',\n",
       " 'anybody',\n",
       " 'apartheid',\n",
       " 'appalling',\n",
       " 'applaud',\n",
       " 'appreciate',\n",
       " 'appreciation',\n",
       " 'approach',\n",
       " 'arab',\n",
       " 'archipelagic',\n",
       " 'argue',\n",
       " 'armaments',\n",
       " 'arms',\n",
       " 'arrangements',\n",
       " 'arsenals',\n",
       " 'aspects',\n",
       " 'aspirations',\n",
       " 'assembly',\n",
       " 'assessments',\n",
       " 'assiduous',\n",
       " 'assist',\n",
       " 'assistance',\n",
       " 'assisted',\n",
       " 'associates',\n",
       " 'attempt',\n",
       " 'attention',\n",
       " 'augur',\n",
       " 'auspicious',\n",
       " 'awareness',\n",
       " 'bacteriological',\n",
       " 'basis',\n",
       " 'bearing',\n",
       " 'becoming',\n",
       " 'beget',\n",
       " 'behaviour',\n",
       " 'belief',\n",
       " 'believe',\n",
       " 'benefits',\n",
       " 'benevolent',\n",
       " 'best',\n",
       " 'bilateral',\n",
       " 'blatant',\n",
       " 'bleak',\n",
       " 'borne',\n",
       " 'bounty',\n",
       " 'brought',\n",
       " 'brutal',\n",
       " 'budgets',\n",
       " 'burden',\n",
       " 'calamities',\n",
       " 'call',\n",
       " 'calls',\n",
       " 'capacity',\n",
       " 'caputo',\n",
       " 'care',\n",
       " 'case',\n",
       " 'cataclysm',\n",
       " 'cause',\n",
       " 'caused',\n",
       " 'causing',\n",
       " 'cease-fire',\n",
       " 'cent',\n",
       " 'certain',\n",
       " 'change',\n",
       " 'charter',\n",
       " 'chemical',\n",
       " 'cherished',\n",
       " 'choices',\n",
       " 'civil',\n",
       " 'civilization',\n",
       " 'civilized',\n",
       " 'climate',\n",
       " 'close',\n",
       " 'closer',\n",
       " 'co-operation',\n",
       " 'commend',\n",
       " 'commitments',\n",
       " 'commodity',\n",
       " 'communities',\n",
       " 'community',\n",
       " 'complete',\n",
       " 'completely',\n",
       " 'comprehensive',\n",
       " 'concepts',\n",
       " 'concern',\n",
       " 'concerned',\n",
       " 'concrete',\n",
       " 'condemn',\n",
       " 'condemns',\n",
       " 'conditions',\n",
       " 'conducive',\n",
       " 'conference',\n",
       " 'confidence',\n",
       " 'confident',\n",
       " 'conflict',\n",
       " 'confliction',\n",
       " 'conflicts',\n",
       " 'confrontational',\n",
       " 'congratulate',\n",
       " 'congratulations',\n",
       " 'consequences',\n",
       " 'consequent',\n",
       " 'consequently',\n",
       " 'consider',\n",
       " 'consistently',\n",
       " 'consolidate',\n",
       " 'contacts',\n",
       " 'continue',\n",
       " 'continued',\n",
       " 'continues',\n",
       " 'contrary',\n",
       " 'contribute',\n",
       " 'contributed',\n",
       " 'contributing',\n",
       " 'convening',\n",
       " 'convention',\n",
       " 'conventional',\n",
       " 'cosmetic',\n",
       " 'cost',\n",
       " 'costs',\n",
       " 'could',\n",
       " 'countries',\n",
       " 'country',\n",
       " 'created',\n",
       " 'creation',\n",
       " 'crime',\n",
       " 'crippling',\n",
       " 'critical',\n",
       " 'crossroads',\n",
       " 'currency',\n",
       " 'current',\n",
       " 'cyprus',\n",
       " 'damage',\n",
       " 'dangers',\n",
       " 'dante',\n",
       " 'dark',\n",
       " 'dastardly',\n",
       " 'deal',\n",
       " 'debt',\n",
       " 'debt-servicing',\n",
       " 'debts',\n",
       " 'december',\n",
       " 'dedicated',\n",
       " 'defence',\n",
       " 'defend',\n",
       " 'defiance',\n",
       " 'defines',\n",
       " 'degradation',\n",
       " 'delegation',\n",
       " 'deleterious',\n",
       " 'delicacy',\n",
       " 'delicate',\n",
       " 'democracy',\n",
       " 'dependent',\n",
       " 'depends',\n",
       " 'deplete',\n",
       " 'depletion',\n",
       " 'deplore',\n",
       " 'deployment',\n",
       " 'derived',\n",
       " 'design',\n",
       " 'despite',\n",
       " 'destroy',\n",
       " 'deteriorate',\n",
       " 'deterred',\n",
       " 'developed',\n",
       " 'developing',\n",
       " 'development',\n",
       " 'developments',\n",
       " 'devices',\n",
       " 'devise',\n",
       " 'dialogue',\n",
       " 'difference',\n",
       " 'differential',\n",
       " 'difficulties',\n",
       " 'dignity',\n",
       " 'dilemma',\n",
       " 'diplomatic',\n",
       " 'direct',\n",
       " 'disarmament',\n",
       " 'discharged',\n",
       " 'disproportionate',\n",
       " 'dispute',\n",
       " 'disputes',\n",
       " 'distort',\n",
       " 'domestic',\n",
       " 'due',\n",
       " 'duties',\n",
       " 'duty',\n",
       " 'earlier',\n",
       " 'early',\n",
       " 'easily',\n",
       " 'east',\n",
       " 'economic',\n",
       " 'ecosystem',\n",
       " 'effect',\n",
       " 'effects',\n",
       " 'efforts',\n",
       " 'either',\n",
       " 'election',\n",
       " 'elimination',\n",
       " 'elsewhere',\n",
       " 'embarked',\n",
       " 'emphasizes',\n",
       " 'encouraging',\n",
       " 'endanger',\n",
       " 'engaging',\n",
       " 'enough',\n",
       " 'enshrined',\n",
       " 'entirely',\n",
       " 'environment',\n",
       " 'environmental',\n",
       " 'envisaged',\n",
       " 'equality',\n",
       " 'era',\n",
       " 'erosion',\n",
       " 'eruptions',\n",
       " 'escape',\n",
       " 'especially',\n",
       " 'espoused',\n",
       " 'establishment',\n",
       " 'even',\n",
       " 'event',\n",
       " 'ever',\n",
       " 'ever-increasing',\n",
       " 'evident',\n",
       " 'evoked',\n",
       " 'evolution',\n",
       " 'evolved',\n",
       " 'excellency',\n",
       " 'exemplary',\n",
       " 'exercise',\n",
       " 'exerted',\n",
       " 'existence',\n",
       " 'exorbitant',\n",
       " 'expenditures',\n",
       " 'experience',\n",
       " 'express',\n",
       " 'expressed',\n",
       " 'expressing',\n",
       " 'extend',\n",
       " 'extensive',\n",
       " 'face',\n",
       " 'facing',\n",
       " 'fact',\n",
       " 'faith',\n",
       " 'falling',\n",
       " 'far',\n",
       " 'fear',\n",
       " 'feasible',\n",
       " 'feel',\n",
       " 'felt',\n",
       " 'fervently',\n",
       " 'fifteenth',\n",
       " 'finance',\n",
       " 'find',\n",
       " 'firm',\n",
       " 'first',\n",
       " 'flows',\n",
       " 'force',\n",
       " 'foreign',\n",
       " 'forge',\n",
       " 'forty-fourth',\n",
       " 'forty-third',\n",
       " 'forum',\n",
       " 'forward',\n",
       " 'frameworks',\n",
       " 'frequent',\n",
       " 'fresh',\n",
       " 'friendly',\n",
       " 'friends',\n",
       " 'front',\n",
       " 'frustrate',\n",
       " 'frustrated',\n",
       " 'fuels',\n",
       " 'full',\n",
       " 'fullest',\n",
       " 'fully',\n",
       " 'furthermore',\n",
       " 'fury',\n",
       " 'fuse',\n",
       " 'gained',\n",
       " 'gains',\n",
       " 'gang',\n",
       " 'garba',\n",
       " 'general',\n",
       " 'geneva',\n",
       " 'genuine',\n",
       " 'give',\n",
       " 'given',\n",
       " 'global',\n",
       " 'gnp',\n",
       " 'good',\n",
       " 'government',\n",
       " 'grateful',\n",
       " 'gratitude',\n",
       " 'grave',\n",
       " 'great',\n",
       " 'greater',\n",
       " 'greatest',\n",
       " 'grim',\n",
       " 'gross',\n",
       " 'group',\n",
       " 'growth',\n",
       " 'gulf',\n",
       " 'handful',\n",
       " 'hapless',\n",
       " 'hard',\n",
       " 'hard-line',\n",
       " 'hardly',\n",
       " 'harmony',\n",
       " 'heart',\n",
       " 'held',\n",
       " 'high',\n",
       " 'high-level',\n",
       " 'highlight',\n",
       " 'historic',\n",
       " 'history',\n",
       " 'hope',\n",
       " 'hopeful',\n",
       " 'hopes',\n",
       " 'horizontal',\n",
       " 'horizontally',\n",
       " 'horrible',\n",
       " 'host',\n",
       " 'hostage',\n",
       " 'hostile',\n",
       " 'however',\n",
       " 'human',\n",
       " 'humanitarian',\n",
       " 'humanity',\n",
       " 'humble',\n",
       " 'hunters',\n",
       " 'hurricanes',\n",
       " 'ideas',\n",
       " 'identity',\n",
       " 'immoral',\n",
       " 'impact',\n",
       " 'impervious',\n",
       " 'implementation',\n",
       " 'implications',\n",
       " 'important',\n",
       " 'improved',\n",
       " 'inadequate',\n",
       " 'inalienable',\n",
       " 'including',\n",
       " 'inclusion',\n",
       " 'increased',\n",
       " 'increasing',\n",
       " 'increasingly',\n",
       " 'indeed',\n",
       " 'independence',\n",
       " 'independent',\n",
       " 'indicating',\n",
       " 'indicator',\n",
       " 'indignation',\n",
       " 'indispensable',\n",
       " 'industrial',\n",
       " 'industrialized',\n",
       " 'inflation',\n",
       " 'informal',\n",
       " 'inimical',\n",
       " 'insecurity',\n",
       " 'inspire',\n",
       " 'inspired',\n",
       " 'instability',\n",
       " 'instil',\n",
       " 'institutions',\n",
       " 'instrumental',\n",
       " 'integrity',\n",
       " 'intellect',\n",
       " 'intensity',\n",
       " 'intentions',\n",
       " 'inter-communal',\n",
       " 'interest',\n",
       " 'interests',\n",
       " 'international',\n",
       " 'internationally',\n",
       " 'intifadah',\n",
       " 'invasion',\n",
       " 'iran',\n",
       " 'iraq',\n",
       " 'irreversible',\n",
       " 'irritant',\n",
       " 'islands',\n",
       " 'israel',\n",
       " 'issue',\n",
       " 'issues',\n",
       " 'item',\n",
       " 'jakarta',\n",
       " 'jeopardize',\n",
       " 'jerusalem',\n",
       " 'july',\n",
       " 'justice',\n",
       " 'kampuchean',\n",
       " 'key',\n",
       " 'korean',\n",
       " 'lack',\n",
       " 'large',\n",
       " 'larger',\n",
       " 'last',\n",
       " 'lasting',\n",
       " 'law',\n",
       " 'layer',\n",
       " 'lead',\n",
       " 'leadership',\n",
       " 'league',\n",
       " 'leap',\n",
       " 'least',\n",
       " 'lebanon',\n",
       " 'level',\n",
       " 'levels',\n",
       " 'life',\n",
       " 'like',\n",
       " 'limited',\n",
       " 'link',\n",
       " 'live',\n",
       " 'long',\n",
       " 'long-term',\n",
       " 'longest',\n",
       " 'low-lying',\n",
       " 'made',\n",
       " 'maintain',\n",
       " 'majority',\n",
       " 'making',\n",
       " 'maldives',\n",
       " 'man',\n",
       " 'mankind',\n",
       " 'manner',\n",
       " 'many',\n",
       " 'marine',\n",
       " 'matter',\n",
       " 'maturity',\n",
       " 'maxim',\n",
       " 'may',\n",
       " 'mean',\n",
       " 'means',\n",
       " 'meanwhile',\n",
       " 'measures',\n",
       " 'mechanism',\n",
       " 'meeting',\n",
       " 'members',\n",
       " 'mention',\n",
       " 'mentioned',\n",
       " 'mercenaries',\n",
       " 'mercenarism',\n",
       " 'mere',\n",
       " 'met',\n",
       " 'middle',\n",
       " 'might',\n",
       " 'militarised',\n",
       " 'minor',\n",
       " 'misconceptions',\n",
       " 'mistrust',\n",
       " 'mode',\n",
       " 'moment',\n",
       " 'momentous',\n",
       " 'momentum',\n",
       " 'month',\n",
       " 'montreal',\n",
       " 'moreover',\n",
       " 'motion',\n",
       " 'movement',\n",
       " 'mr',\n",
       " 'much',\n",
       " 'multilateral',\n",
       " 'namibia',\n",
       " 'nation',\n",
       " 'national',\n",
       " 'nations',\n",
       " 'natural',\n",
       " 'nature',\n",
       " 'need',\n",
       " 'needs',\n",
       " 'negative',\n",
       " 'negotiations',\n",
       " 'new',\n",
       " 'noble',\n",
       " 'nodes',\n",
       " 'norms',\n",
       " 'note',\n",
       " 'noted',\n",
       " 'notice',\n",
       " 'november',\n",
       " 'nuclear',\n",
       " 'nuclear-weapon-free',\n",
       " 'number',\n",
       " 'object',\n",
       " 'objections',\n",
       " 'obstacles',\n",
       " 'obstinate',\n",
       " 'obtain',\n",
       " 'occupation',\n",
       " 'occupied',\n",
       " 'office',\n",
       " 'official',\n",
       " 'old',\n",
       " 'one',\n",
       " 'onslaught',\n",
       " 'operation',\n",
       " 'opinion',\n",
       " 'opportunities',\n",
       " 'opportunity',\n",
       " 'oppressed',\n",
       " 'optimistic',\n",
       " 'order',\n",
       " 'organization',\n",
       " 'outrage',\n",
       " 'overwhelming',\n",
       " 'owes',\n",
       " 'owing',\n",
       " 'ozone',\n",
       " 'palestine',\n",
       " 'palestinian',\n",
       " 'paris',\n",
       " 'part',\n",
       " 'participation',\n",
       " 'particular',\n",
       " 'particularly',\n",
       " 'parties',\n",
       " 'partner',\n",
       " 'party',\n",
       " 'past',\n",
       " 'pay',\n",
       " 'peace',\n",
       " 'peaceful',\n",
       " 'peninsula',\n",
       " 'people',\n",
       " 'peoples',\n",
       " 'per',\n",
       " 'perceptions',\n",
       " 'perpetuate',\n",
       " 'persistent',\n",
       " 'personal',\n",
       " 'pervasive',\n",
       " 'pessimistic',\n",
       " 'phenomena',\n",
       " 'pivotal',\n",
       " 'placate',\n",
       " 'place',\n",
       " 'plan',\n",
       " 'planet',\n",
       " 'plans',\n",
       " 'play',\n",
       " 'pleased',\n",
       " 'pleasure',\n",
       " 'plummet',\n",
       " 'point',\n",
       " 'policies',\n",
       " 'political',\n",
       " 'populated',\n",
       " 'posed',\n",
       " 'positive',\n",
       " 'possibility',\n",
       " 'possible',\n",
       " 'potential',\n",
       " 'power',\n",
       " 'practice',\n",
       " 'practices',\n",
       " 'praise',\n",
       " 'precariousness',\n",
       " 'predecessor',\n",
       " 'predicament',\n",
       " 'present',\n",
       " 'preservation',\n",
       " 'presidency',\n",
       " 'president',\n",
       " 'pretoria',\n",
       " 'prevailing',\n",
       " 'previous',\n",
       " 'prices',\n",
       " 'principle',\n",
       " 'principles',\n",
       " 'problem',\n",
       " 'problems',\n",
       " 'process',\n",
       " 'product',\n",
       " 'profile',\n",
       " 'programme',\n",
       " 'proliferation',\n",
       " 'prolonged',\n",
       " 'promote',\n",
       " 'propensity',\n",
       " 'proposal',\n",
       " 'proposed',\n",
       " 'prospects',\n",
       " 'protect',\n",
       " 'protecting',\n",
       " 'protection',\n",
       " 'protectionism',\n",
       " 'protocol',\n",
       " 'protracted',\n",
       " 'provide',\n",
       " 'provisions',\n",
       " 'qualities',\n",
       " 'quality',\n",
       " 'quest',\n",
       " 'question',\n",
       " 'race',\n",
       " 'rampant',\n",
       " 'rates',\n",
       " 'ravaged',\n",
       " 'real',\n",
       " 'realization',\n",
       " 'realizing',\n",
       " 'reason',\n",
       " 'reasoned',\n",
       " 'recalled',\n",
       " 'recent',\n",
       " 'recently',\n",
       " 'recognition',\n",
       " 'recognized',\n",
       " 'reconciliation',\n",
       " 'reconstruction',\n",
       " 'recycle',\n",
       " 'reduction',\n",
       " 'refer',\n",
       " 'refugees',\n",
       " 'regained',\n",
       " 'regard',\n",
       " 'regards',\n",
       " 'regeneration',\n",
       " 'regime',\n",
       " 'region',\n",
       " 'regional',\n",
       " 'register',\n",
       " 'regret',\n",
       " 'regrettable',\n",
       " 'rehabilitation',\n",
       " 'reiterate',\n",
       " 'related',\n",
       " 'relations',\n",
       " 'relationship',\n",
       " 'relationships',\n",
       " 'relief',\n",
       " 'remain',\n",
       " 'remains',\n",
       " 'remarkable',\n",
       " 'reminder',\n",
       " 'reminders',\n",
       " 'rendered',\n",
       " 'renewed',\n",
       " 'replaced',\n",
       " 'request',\n",
       " 'requesting',\n",
       " 'resolution',\n",
       " 'resolutions',\n",
       " 'resolve',\n",
       " 'resourceful',\n",
       " 'resources',\n",
       " 'restoration',\n",
       " 'restore',\n",
       " 'restraint',\n",
       " 'reunification',\n",
       " 'revived',\n",
       " 'rights',\n",
       " 'rise',\n",
       " 'rivalries',\n",
       " 'robbed',\n",
       " 'role',\n",
       " 'sacrifices',\n",
       " 'safeguard',\n",
       " 'safeguarded',\n",
       " 'satisfaction',\n",
       " 'sea',\n",
       " 'sea-level',\n",
       " 'search',\n",
       " 'searching',\n",
       " 'seas',\n",
       " 'secretary-general',\n",
       " 'secure',\n",
       " 'security',\n",
       " 'see',\n",
       " 'self-determination',\n",
       " 'self-help',\n",
       " 'sense',\n",
       " 'serious',\n",
       " 'served',\n",
       " 'session',\n",
       " 'set',\n",
       " 'settled',\n",
       " 'settlement',\n",
       " 'seven',\n",
       " 'several',\n",
       " 'severe',\n",
       " 'shadow',\n",
       " 'share',\n",
       " 'sharing',\n",
       " 'shorter',\n",
       " 'show',\n",
       " 'shown',\n",
       " 'signals',\n",
       " 'signs',\n",
       " 'similar',\n",
       " 'simmer',\n",
       " 'simply',\n",
       " 'since',\n",
       " 'sincere',\n",
       " 'sincerity',\n",
       " 'single',\n",
       " 'situation',\n",
       " 'small',\n",
       " 'soar',\n",
       " 'social',\n",
       " 'society',\n",
       " 'socio-political',\n",
       " 'solidarity',\n",
       " 'solution',\n",
       " 'solve',\n",
       " 'solved',\n",
       " 'sought',\n",
       " 'sound',\n",
       " 'south',\n",
       " 'southern',\n",
       " 'sovereign',\n",
       " 'sovereignty',\n",
       " 'speakers',\n",
       " 'spells',\n",
       " 'stability',\n",
       " 'stake',\n",
       " 'stand',\n",
       " 'stark',\n",
       " 'state',\n",
       " 'states',\n",
       " 'step',\n",
       " 'stifling',\n",
       " 'still',\n",
       " 'strength',\n",
       " 'strengthen',\n",
       " 'strengthening',\n",
       " 'strides',\n",
       " 'strong',\n",
       " 'strongly',\n",
       " 'struggle',\n",
       " 'sub',\n",
       " 'subjected',\n",
       " 'substances',\n",
       " 'successes',\n",
       " 'sufferings',\n",
       " 'summit',\n",
       " 'super-power',\n",
       " 'super-powers',\n",
       " 'support',\n",
       " 'supported',\n",
       " 'supports',\n",
       " 'surplus',\n",
       " 'surrounding',\n",
       " 'survival',\n",
       " 'sustenance',\n",
       " 'system',\n",
       " 'systems',\n",
       " 'take',\n",
       " 'taken',\n",
       " 'taking',\n",
       " 'tampering',\n",
       " 'target',\n",
       " 'technologies',\n",
       " 'tend',\n",
       " 'tendency',\n",
       " 'terms',\n",
       " 'territorial',\n",
       " 'territories',\n",
       " 'terrorism',\n",
       " 'terrorist',\n",
       " 'thawing',\n",
       " 'therefore',\n",
       " 'third',\n",
       " 'though',\n",
       " 'threat',\n",
       " 'thus',\n",
       " 'tidal',\n",
       " 'time',\n",
       " 'timely',\n",
       " 'times',\n",
       " 'tinkering',\n",
       " 'tireless',\n",
       " 'today',\n",
       " 'toll',\n",
       " 'tomorrow',\n",
       " 'tone',\n",
       " 'total',\n",
       " 'towards',\n",
       " 'trade',\n",
       " 'tragic',\n",
       " 'transforming',\n",
       " 'transition',\n",
       " 'trends',\n",
       " 'tribute',\n",
       " 'troops',\n",
       " 'true',\n",
       " 'trust',\n",
       " 'two',\n",
       " 'typhoons',\n",
       " 'un',\n",
       " 'understanding',\n",
       " 'undertaken',\n",
       " 'undiminished',\n",
       " 'unequal',\n",
       " 'unequivocally',\n",
       " 'unilateralism',\n",
       " 'united',\n",
       " 'universal',\n",
       " 'unrelenting',\n",
       " 'unsolved',\n",
       " 'untiring',\n",
       " 'unwilling',\n",
       " 'upon',\n",
       " 'uprising',\n",
       " 'upsurge',\n",
       " 'urge',\n",
       " 'urgently',\n",
       " 'us',\n",
       " 'use',\n",
       " 'ushering',\n",
       " 'usurped',\n",
       " 'utilized',\n",
       " 'valiant',\n",
       " 'valour',\n",
       " 'valuable',\n",
       " 'value',\n",
       " 'values',\n",
       " 'vertically',\n",
       " 'vicissitudes',\n",
       " 'victim',\n",
       " 'vienna',\n",
       " 'vietnamese',\n",
       " 'view',\n",
       " 'viewed',\n",
       " 'violation',\n",
       " 'visible',\n",
       " 'volatile',\n",
       " 'war',\n",
       " 'warming',\n",
       " 'warning',\n",
       " 'waves',\n",
       " 'weak',\n",
       " 'weaker',\n",
       " 'weakest',\n",
       " 'weaponry',\n",
       " 'weapons',\n",
       " 'weather',\n",
       " 'welcome',\n",
       " 'well',\n",
       " 'well-deserved',\n",
       " 'whereby',\n",
       " 'whole',\n",
       " 'whole-hearted',\n",
       " 'whose',\n",
       " 'wise',\n",
       " 'wishes',\n",
       " 'withdraw',\n",
       " 'witnessed',\n",
       " 'world',\n",
       " 'worsened',\n",
       " 'worthy',\n",
       " 'would',\n",
       " 'year',\n",
       " 'years',\n",
       " 'yet',\n",
       " 'zionist',\n",
       " 'zones'}"
      ]
     },
     "execution_count": 166,
     "metadata": {},
     "output_type": "execute_result"
    }
   ],
   "source": [
    "set (df['tokens'][0])"
   ]
  },
  {
   "cell_type": "markdown",
   "id": "5fbc88fb",
   "metadata": {},
   "source": [
    "### A function to compute the IDF for all terms in the corpus"
   ]
  },
  {
   "cell_type": "code",
   "execution_count": 77,
   "id": "58d4443a",
   "metadata": {},
   "outputs": [],
   "source": [
    "def compute_idf(df, column='tokens', preprocess=None, min_df=2):\n",
    "   \n",
    "    def update(doc):\n",
    "        tokens=doc if preprocess is None else preprocess(doc)\n",
    "        counter.update(set(tokens))\n",
    "        \n",
    "    # count tokens \n",
    "    counter = Counter()\n",
    "    df[column].map(update)\n",
    "    \n",
    "    # create DataFrame and compute idf\n",
    "    idf_df = pd.DataFrame.from_dict(counter, orient='index',columns=['df'])\n",
    "    #idf_df['idf']=np.log(len(df)/(1+idf_df['df']))\n",
    "    idf_df['idf']=np.log(len(df)/idf_df['df'])+1\n",
    "    idf_df.index.name='token'\n",
    "    idf_df = idf_df.query('df>=@min_df')\n",
    "    \n",
    "    return idf_df"
   ]
  },
  {
   "cell_type": "markdown",
   "id": "122d8e28-c821-4da9-910a-8f64aae02221",
   "metadata": {},
   "source": [
    "**The IDF needs to be computed for the entire corpus of texts**"
   ]
  },
  {
   "cell_type": "code",
   "execution_count": 78,
   "id": "67e4d476",
   "metadata": {},
   "outputs": [],
   "source": [
    "idf_df=compute_idf(df)"
   ]
  },
  {
   "cell_type": "code",
   "execution_count": 79,
   "id": "c58e6075-cc50-4bbd-ac85-7c56a4938913",
   "metadata": {},
   "outputs": [
    {
     "data": {
      "text/html": [
       "<div>\n",
       "<style scoped>\n",
       "    .dataframe tbody tr th:only-of-type {\n",
       "        vertical-align: middle;\n",
       "    }\n",
       "\n",
       "    .dataframe tbody tr th {\n",
       "        vertical-align: top;\n",
       "    }\n",
       "\n",
       "    .dataframe thead th {\n",
       "        text-align: right;\n",
       "    }\n",
       "</style>\n",
       "<table border=\"1\" class=\"dataframe\">\n",
       "  <thead>\n",
       "    <tr style=\"text-align: right;\">\n",
       "      <th></th>\n",
       "      <th>df</th>\n",
       "      <th>idf</th>\n",
       "    </tr>\n",
       "    <tr>\n",
       "      <th>token</th>\n",
       "      <th></th>\n",
       "      <th></th>\n",
       "    </tr>\n",
       "  </thead>\n",
       "  <tbody>\n",
       "    <tr>\n",
       "      <th>call</th>\n",
       "      <td>4239</td>\n",
       "      <td>0.671509</td>\n",
       "    </tr>\n",
       "    <tr>\n",
       "      <th>government</th>\n",
       "      <td>6492</td>\n",
       "      <td>0.245265</td>\n",
       "    </tr>\n",
       "    <tr>\n",
       "      <th>nation</th>\n",
       "      <td>3189</td>\n",
       "      <td>0.956129</td>\n",
       "    </tr>\n",
       "    <tr>\n",
       "      <th>concerned</th>\n",
       "      <td>4039</td>\n",
       "      <td>0.719839</td>\n",
       "    </tr>\n",
       "    <tr>\n",
       "      <th>issues</th>\n",
       "      <td>4621</td>\n",
       "      <td>0.585225</td>\n",
       "    </tr>\n",
       "  </tbody>\n",
       "</table>\n",
       "</div>"
      ],
      "text/plain": [
       "              df       idf\n",
       "token                     \n",
       "call        4239  0.671509\n",
       "government  6492  0.245265\n",
       "nation      3189  0.956129\n",
       "concerned   4039  0.719839\n",
       "issues      4621  0.585225"
      ]
     },
     "execution_count": 79,
     "metadata": {},
     "output_type": "execute_result"
    }
   ],
   "source": [
    "idf_df.head()"
   ]
  },
  {
   "cell_type": "code",
   "execution_count": 80,
   "id": "0a8d9b7e",
   "metadata": {},
   "outputs": [
    {
     "data": {
      "text/plain": [
       "Index(['call', 'government', 'nation', 'concerned', 'issues', 'reminder',\n",
       "       'pessimistic', 'vicissitudes', 'distort', 'cent',\n",
       "       ...\n",
       "       'premeditation', 'bioterrorism', '44th', 'anti-globalization',\n",
       "       'nuclear-weapons-', 'dzurinda', 'soekarnoputri', 'megawati', 'borough',\n",
       "       'göteborg'],\n",
       "      dtype='object', name='token', length=39377)"
      ]
     },
     "execution_count": 80,
     "metadata": {},
     "output_type": "execute_result"
    }
   ],
   "source": [
    "idf_df.index"
   ]
  },
  {
   "cell_type": "code",
   "execution_count": 81,
   "id": "4057f6c6",
   "metadata": {},
   "outputs": [
    {
     "data": {
      "text/plain": [
       "Index(['nations', 'united', 'international', 'world', 'countries', 'peace',\n",
       "       'development', 'states', 'people', 'security',\n",
       "       ...\n",
       "       'all-sided', 'seconding', 'hounds', 'well-chosen', 'terror-ism', 'tp',\n",
       "       'van-guard', 'magnetic', 'composers', 'output-'],\n",
       "      dtype='object', name='token', length=40512)"
      ]
     },
     "execution_count": 81,
     "metadata": {},
     "output_type": "execute_result"
    }
   ],
   "source": [
    "freq_df.index"
   ]
  },
  {
   "cell_type": "markdown",
   "id": "be5c2641-b352-4968-9a46-3ac8f76d2ebe",
   "metadata": {},
   "source": [
    "freq_df and idf_df have the *same* index => we can simply use the multiplication to compute the tidf"
   ]
  },
  {
   "cell_type": "code",
   "execution_count": 82,
   "id": "ea53e1c7",
   "metadata": {},
   "outputs": [],
   "source": [
    "freq_df['tidf']=freq_df['freq']*idf_df['idf']"
   ]
  },
  {
   "cell_type": "code",
   "execution_count": 83,
   "id": "527863b8",
   "metadata": {},
   "outputs": [
    {
     "name": "stdout",
     "output_type": "stream",
     "text": [
      "<class 'pandas.core.frame.DataFrame'>\n",
      "Index: 40512 entries, nations to output-\n",
      "Data columns (total 2 columns):\n",
      " #   Column  Non-Null Count  Dtype  \n",
      "---  ------  --------------  -----  \n",
      " 0   freq    40512 non-null  int64  \n",
      " 1   tidf    39377 non-null  float64\n",
      "dtypes: float64(1), int64(1)\n",
      "memory usage: 1.9+ MB\n"
     ]
    }
   ],
   "source": [
    "freq_df.info()"
   ]
  },
  {
   "cell_type": "code",
   "execution_count": 84,
   "id": "bcd5177a",
   "metadata": {},
   "outputs": [
    {
     "data": {
      "text/html": [
       "<div>\n",
       "<style scoped>\n",
       "    .dataframe tbody tr th:only-of-type {\n",
       "        vertical-align: middle;\n",
       "    }\n",
       "\n",
       "    .dataframe tbody tr th {\n",
       "        vertical-align: top;\n",
       "    }\n",
       "\n",
       "    .dataframe thead th {\n",
       "        text-align: right;\n",
       "    }\n",
       "</style>\n",
       "<table border=\"1\" class=\"dataframe\">\n",
       "  <thead>\n",
       "    <tr style=\"text-align: right;\">\n",
       "      <th></th>\n",
       "      <th>freq</th>\n",
       "      <th>tidf</th>\n",
       "    </tr>\n",
       "    <tr>\n",
       "      <th>token</th>\n",
       "      <th></th>\n",
       "      <th></th>\n",
       "    </tr>\n",
       "  </thead>\n",
       "  <tbody>\n",
       "    <tr>\n",
       "      <th>nations</th>\n",
       "      <td>124508</td>\n",
       "      <td>12649.986284</td>\n",
       "    </tr>\n",
       "    <tr>\n",
       "      <th>united</th>\n",
       "      <td>120763</td>\n",
       "      <td>12285.608632</td>\n",
       "    </tr>\n",
       "    <tr>\n",
       "      <th>international</th>\n",
       "      <td>117223</td>\n",
       "      <td>12364.276226</td>\n",
       "    </tr>\n",
       "    <tr>\n",
       "      <th>world</th>\n",
       "      <td>89421</td>\n",
       "      <td>9503.708982</td>\n",
       "    </tr>\n",
       "    <tr>\n",
       "      <th>countries</th>\n",
       "      <td>85734</td>\n",
       "      <td>10888.485986</td>\n",
       "    </tr>\n",
       "    <tr>\n",
       "      <th>peace</th>\n",
       "      <td>72625</td>\n",
       "      <td>9094.508519</td>\n",
       "    </tr>\n",
       "    <tr>\n",
       "      <th>development</th>\n",
       "      <td>62632</td>\n",
       "      <td>8765.408844</td>\n",
       "    </tr>\n",
       "    <tr>\n",
       "      <th>states</th>\n",
       "      <td>59713</td>\n",
       "      <td>8373.451323</td>\n",
       "    </tr>\n",
       "    <tr>\n",
       "      <th>people</th>\n",
       "      <td>59338</td>\n",
       "      <td>8891.388053</td>\n",
       "    </tr>\n",
       "    <tr>\n",
       "      <th>security</th>\n",
       "      <td>58425</td>\n",
       "      <td>7644.468882</td>\n",
       "    </tr>\n",
       "  </tbody>\n",
       "</table>\n",
       "</div>"
      ],
      "text/plain": [
       "                 freq          tidf\n",
       "token                              \n",
       "nations        124508  12649.986284\n",
       "united         120763  12285.608632\n",
       "international  117223  12364.276226\n",
       "world           89421   9503.708982\n",
       "countries       85734  10888.485986\n",
       "peace           72625   9094.508519\n",
       "development     62632   8765.408844\n",
       "states          59713   8373.451323\n",
       "people          59338   8891.388053\n",
       "security        58425   7644.468882"
      ]
     },
     "execution_count": 84,
     "metadata": {},
     "output_type": "execute_result"
    }
   ],
   "source": [
    "freq_df.head(10)"
   ]
  },
  {
   "cell_type": "markdown",
   "id": "6901c63d-a14b-4de1-af3d-fc0f0902f7ac",
   "metadata": {},
   "source": [
    "## Comparison of wordcloud based on \n",
    "* word counts (term frequency)\n",
    "* TF_IDF scores\n",
    "\n",
    "for year 1970 and year 2015\n",
    "\n",
    "### First step: computation of word frequencies for these two years"
   ]
  },
  {
   "cell_type": "code",
   "execution_count": 85,
   "id": "17878fcd",
   "metadata": {},
   "outputs": [],
   "source": [
    "freq_1970 = count_words(df[df['year']==1970])\n",
    "freq_2015 = count_words(df[df['year']==2015])"
   ]
  },
  {
   "cell_type": "markdown",
   "id": "2372ee4f-bfaa-4864-9629-76d4e21aa76a",
   "metadata": {},
   "source": [
    "### Second step: computation of tf_idf"
   ]
  },
  {
   "cell_type": "code",
   "execution_count": null,
   "id": "37b0d3a4",
   "metadata": {},
   "outputs": [],
   "source": [
    "freq_1970['tfidf']=freq_1970['freq']*idf_df['idf']\n",
    "freq_2015['tfidf']=freq_2015['freq']*idf_df['idf']"
   ]
  },
  {
   "cell_type": "markdown",
   "id": "2d10c139-cb3f-4efa-ae1b-b5777a112ab1",
   "metadata": {},
   "source": [
    "### Word cloud based on word frequencies\n",
    "\n",
    "We add 'twenty-fifth' and 'twenty-five' as stopwords. 1970 is the 25th session"
   ]
  },
  {
   "cell_type": "code",
   "execution_count": null,
   "id": "dd89c1ba",
   "metadata": {},
   "outputs": [],
   "source": [
    "#wordcloud(freq_1970['freq'],title='1970-TF',stopwords=['twenty-fifth','twenty-five'])\n",
    "wordcloud(freq_1970['freq'],title='1970-TF')"
   ]
  },
  {
   "cell_type": "code",
   "execution_count": null,
   "id": "ffd1365d",
   "metadata": {},
   "outputs": [],
   "source": [
    "wordcloud(freq_2015['freq'],title='2015-TF',stopwords=['seventieth'])"
   ]
  },
  {
   "cell_type": "code",
   "execution_count": null,
   "id": "90e47a0f",
   "metadata": {},
   "outputs": [],
   "source": [
    "wordcloud(freq_1970['tfidf'],title='1970-TF-IDF')"
   ]
  },
  {
   "cell_type": "code",
   "execution_count": null,
   "id": "b5f0fe12-1647-4011-9606-24a873f8b658",
   "metadata": {},
   "outputs": [],
   "source": [
    "wordcloud(freq_1970['tfidf'],title='1970-TF-IDF',stopwords=['twenty-fifth','twenty-five','twenty','fifth'])"
   ]
  },
  {
   "cell_type": "code",
   "execution_count": null,
   "id": "5ae087ca-afad-42b7-a16c-22466aba753f",
   "metadata": {},
   "outputs": [],
   "source": [
    "wordcloud(freq_2015['tfidf'],title='2015-TF-IDF')"
   ]
  },
  {
   "cell_type": "code",
   "execution_count": null,
   "id": "90d7dd55",
   "metadata": {},
   "outputs": [],
   "source": [
    "wordcloud(freq_2015['tfidf'],title='2015-TF-IDF',stopwords=['seventieth'])"
   ]
  },
  {
   "cell_type": "markdown",
   "id": "6db9dcb2",
   "metadata": {},
   "source": [
    "scikit-learn classes:\n",
    "    \n",
    "    - CountVectorizer\n",
    "    - TfidfVectorizer"
   ]
  },
  {
   "cell_type": "code",
   "execution_count": null,
   "id": "50b21529-8705-4365-8bd1-0debcdcd53d4",
   "metadata": {},
   "outputs": [],
   "source": [
    "##  Same thing with country and a year"
   ]
  },
  {
   "cell_type": "markdown",
   "id": "125b5899",
   "metadata": {},
   "source": [
    "# Finding a keyword in context\n",
    "\n",
    "- Not always easy to interpret some frequent words (acronym for instance)\n",
    "- Exploration of the way those words appear in the unprepared text: inspection of the **keywords in context** (KWIC)\n",
    "- Produce a list of text fragments of equal length showing the left and right context of a keyword\n",
    "\n",
    "- KWIC is implemented in NLTK and textacy\n",
    "- NLTK and textacy work on single document\n",
    "- Textacy'KWIC' works on untokenized text and multiple tokens (not possible with NLTK (à vérifier))\n"
   ]
  },
  {
   "cell_type": "code",
   "execution_count": 73,
   "id": "15d742b8-a8be-4c4a-b2cc-1f913131b862",
   "metadata": {},
   "outputs": [
    {
     "name": "stdout",
     "output_type": "stream",
     "text": [
      "['seventy', 'years', 'founding', 'united', 'nations', 'worth', 'reflecting', 'members', 'body', 'working', 'together', 'helped', 'achieve', 'ashes', 'second', 'world', 'war', 'witnessed', 'unthinkable', 'power', 'atomic', 'age', 'united', 'states', 'worked', 'many', 'nations', 'assembly', 'prevent', 'third', 'world', 'war', 'forging', 'alliances', 'old', 'adversaries', 'supporting', 'steady', 'emergence', 'strong', 'democracies', 'accountable', 'people', 'foreign', 'power', 'building', 'international', 'system', 'imposes', 'cost', 'choose', 'conflict', 'cooperation', 'order', 'recognizes', 'dignity', 'equal', 'worth', 'people', 'work', 'seven', 'decades', 'ideal', 'body', 'best', 'pursued', 'course', 'many', 'times', 'collectively', 'fallen', 'short', 'ideals', 'seven', 'decades', 'terrible', 'conflicts', 'claimed', 'untold', 'victims', 'pressed', 'forward', 'slowly', 'steadily', 'make', 'system', 'international', 'rules', 'norms', 'better', 'stronger', 'consistent', 'international', 'order', 'underwritten', 'unparalleled', 'advances', 'human', 'liberty', 'prosperity', 'collective', 'endeavour', 'brought', 'diplomatic', 'cooperation', 'among', 'world', 'major', 'powers', 'buttressed', 'global', 'economy', 'lifted', 'billion', 'people', 'poverty', 'international', 'principles', 'helped', 'constrain', 'bigger', 'countries', 'imposing', 'smaller', 'ones', 'advanced', 'emergence', 'democracy', 'development', 'individual', 'liberty', 'every', 'continent', 'progress', 'real', 'documented', 'lives', 'saved', 'agreements', 'forged', 'diseases', 'conquered', 'mouths', 'fed', 'yet', 'come', 'together', 'today', 'knowing', 'march', 'human', 'progress', 'never', 'travels', 'straight', 'line', 'work', 'far', 'complete', 'dangerous', 'currents', 'risk', 'pulling', 'us', 'back', 'darker', 'disordered', 'world', 'today', 'seeing', 'collapse', 'strongmen', 'fragile', 'states', 'breeding', 'conflict', 'driving', 'innocent', 'men', 'women', 'children', 'across', 'borders', 'epic', 'scale', 'brutal', 'networks', 'terror', 'stepped', 'vacuum', 'technologies', 'empower', 'individuals', 'also', 'exploited', 'spread', 'disinformation', 'suppress', 'dissent', 'radicalize', 'youth', 'global', 'capital', 'flows', 'powered', 'growth', 'investment', 'also', 'increased', 'risk', 'contagion', 'weakened', 'bargaining', 'power', 'workers', 'accelerated', 'inequality', 'respond', 'trends', 'argue', 'ideals', 'enshrined', 'charter', 'united', 'nations', 'unachievable', 'date', 'legacy', 'postwar', 'era', 'suited', 'effect', 'arguing', 'return', 'rules', 'applied', 'human', 'history', 'predate', 'institution', 'belief', 'power', 'zero-sum', 'game', 'might', 'makes', 'right', 'strong', 'states', 'must', 'impose', 'weaker', 'ones', 'rights', 'individuals', 'matter', 'time', 'rapid', 'change', 'order', 'must', 'imposed', 'force', 'basis', 'see', 'major', 'powers', 'assert', 'ways', 'contravene', 'international', 'law', 'see', 'erosion', 'democratic', 'principles', 'human', 'rights', 'fundamental', 'institution', 'mission', 'information', 'strictly', 'controlled', 'space', 'civil', 'society', 'restricted', 'told', 'retrenchment', 'required', 'beat', 'back', 'disorder', 'way', 'stamp', 'terrorism', 'prevent', 'foreign', 'meddling', 'accordance', 'logic', 'support', 'tyrants', 'like', 'bashar', 'al-assad', 'drops', 'barrel', 'bombs', 'massacre', 'innocent', 'children', 'alternative', 'surely', 'worse', 'increasing', 'scepticism', 'international', 'order', 'also', 'found', 'advanced', 'democracies', 'see', 'greater', 'polarization', 'frequent', 'gridlock', 'movements', 'far', 'right', 'sometimes', 'left', 'insist', 'stopping', 'trade', 'binds', 'fates', 'nations', 'calling', 'building', 'walls', 'keep', 'immigrants', 'ominously', 'see', 'fears', 'ordinary', 'people', 'exploited', 'appeals', 'sectarianism', 'tribalism', 'racism', 'anti-semitism', 'appeals', 'glorious', 'past', 'body', 'politic', 'infected', 'look', 'different', 'worship', 'god', 'differently', 'politics', 'us', 'versus', 'united', 'states', 'immune', 'even', 'economy', 'growing', 'troops', 'largely', 'returned', 'iraq', 'afghanistan', 'see', 'debates', 'america', 'role', 'world', 'notion', 'strength', 'defined', 'opposition', 'old', 'enemies', 'perceived', 'adversaries', 'rising', 'china', 'resurgent', 'russia', 'revolutionary', 'iran', 'islam', 'incompatible', 'peace', 'see', 'arguments', 'strength', 'matters', 'united', 'states', 'bellicose', 'words', 'shows', 'military', 'force', 'cooperation', 'diplomacy', 'work', 'president', 'united', 'states', 'mindful', 'dangers', 'face', 'cross', 'desk', 'every', 'morning', 'lead', 'strongest', 'military', 'world', 'ever', 'known', 'never', 'hesitate', 'protect', 'country', 'allies', 'unilaterally', 'force', 'necessary', 'stand', 'assembly', 'today', 'believing', 'core', 'nations', 'world', 'cannot', 'return', 'old', 'ways', 'conflict', 'coercion', 'cannot', 'look', 'backwards', 'live', 'integrated', 'world', 'one', 'stake', 'one', 'another', 'success', 'cannot', 'turn', 'back', 'forces', 'integration', 'nation', 'assembly', 'insulate', 'threat', 'terrorism', 'risk', 'financial', 'contagion', 'flow', 'migrants', 'danger', 'warming', 'planet', 'disorder', 'see', 'driven', 'solely', 'competition', 'nations', 'single', 'ideology', 'cannot', 'work', 'together', 'effectively', 'suffer', 'consequences', 'true', 'united', 'states', 'well', 'matter', 'powerful', 'military', 'strong', 'economy', 'understand', 'united', 'states', 'cannot', 'solve', 'world', 'problems', 'alone', 'iraq', 'united', 'states', 'learned', 'hard', 'lesson', 'even', 'hundreds', 'thousands', 'brave', 'effective', 'troops', 'trillions', 'dollars', 'treasury', 'cannot', 'impose', 'stability', 'foreign', 'land', 'unless', 'work', 'nations', 'mantle', 'international', 'norms', 'principles', 'law', 'offers', 'legitimacy', 'efforts', 'succeed', 'unless', 'work', 'together', 'defeat', 'ideas', 'drive', 'various', 'communities', 'country', 'like', 'iraq', 'conflict', 'order', 'militaries', 'impose', 'temporary', 'force', 'alone', 'cannot', 'impose', 'order', 'internationally', 'believe', 'core', 'repression', 'cannot', 'forge', 'social', 'cohesion', 'nations', 'need', 'succeed', 'history', 'last', 'two', 'decades', 'proves', 'today', 'world', 'dictatorships', 'unstable', 'strongmen', 'today', 'become', 'spark', 'revolution', 'tomorrow', 'jail', 'opponents', 'cannot', 'imprison', 'ideas', 'try', 'control', 'access', 'information', 'cannot', 'turn', 'lie', 'truth', 'conspiracy', 'united', 'states-backed', 'non-governmental', 'organizations', 'exposes', 'corruption', 'raises', 'expectations', 'people', 'around', 'globe', 'technology', 'social', 'media', 'irreducible', 'desire', 'people', 'everywhere', 'make', 'choices', 'governed', 'indeed', 'believe', 'today', 'world', 'measure', 'strength', 'longer', 'defined', 'control', 'territory', 'lasting', 'prosperity', 'come', 'solely', 'ability', 'access', 'extract', 'raw', 'materials', 'strength', 'nations', 'depends', 'success', 'people', 'knowledge', 'innovation', 'imagination', 'creativity', 'drive', 'opportunity', 'turn', 'depends', 'individual', 'rights', 'good', 'governance', 'personal', 'security', 'internal', 'repression', 'foreign', 'aggression', 'symptoms', 'failure', 'provide', 'foundation', 'politics', 'solidarity', 'depend', 'demonizing', 'others', 'draw', 'religious', 'sectarianism', 'narrow', 'tribalism', 'jingoism', 'may', 'times', 'look', 'like', 'strength', 'moment', 'time', 'weakness', 'exposed', 'history', 'tells', 'us', 'dark', 'forces', 'unleashed', 'type', 'politics', 'surely', 'make', 'us', 'less', 'secure', 'world', 'gain', 'nothing', 'going', 'back', 'instead', 'believe', 'must', 'go', 'forward', 'pursuit', 'ideals', 'abandon', 'critical', 'time', 'must', 'give', 'expression', 'best', 'hopes', 'deepest', 'fears', 'institution', 'founded', 'men', 'women', 'came', 'us', 'foresight', 'know', 'nations', 'secure', 'uphold', 'basic', 'laws', 'norms', 'pursue', 'path', 'cooperation', 'rather', 'conflict', 'strong', 'nations', 'responsibility', 'uphold', 'international', 'order', 'let', 'give', 'concrete', 'example', 'took', 'office', 'made', 'clear', 'one', 'principal', 'achievements', 'united', 'nations', 'nuclear', 'non-proliferation', 'regime', 'endangered', 'iran', 'violation', 'treaty', 'non-proliferation', 'nuclear', 'weapons', 'basis', 'security', 'council', 'tightened', 'sanctions', 'iranian', 'government', 'many', 'nations', 'joined', 'us', 'enforce', 'together', 'showed', 'laws', 'agreements', 'mean', 'something', 'also', 'understood', 'goal', 'sanctions', 'simply', 'punish', 'iran', 'objective', 'test', 'whether', 'iran', 'could', 'change', 'course', 'accept', 'constraints', 'allow', 'world', 'verify', 'nuclear', 'programme', 'would', 'peaceful', 'two', 'years', 'united', 'states', 'partners', 'including', 'russia', 'china', 'stuck', 'together', 'complex', 'negotiations', 'result', 'lasting', 'comprehensive', 'deal', 'prevents', 'iran', 'obtaining', 'nuclear', 'weapon', 'allowing', 'access', 'peaceful', 'energy', 'deal', 'fully', 'implemented', 'prohibition', 'nuclear', 'weapons', 'strengthened', 'potential', 'war', 'averted', 'world', 'safer', 'strength', 'international', 'system', 'works', 'way', 'fidelity', 'international', 'order', 'guides', 'responses', 'challenges', 'around', 'world', 'consider', 'russia', 'annexation', 'crimea', 'aggression', 'eastern', 'ukraine', 'america', 'economic', 'interests', 'ukraine', 'recognize', 'deep', 'complex', 'history', 'russia', 'ukraine', 'cannot', 'stand', 'sovereignty', 'territorial', 'integrity', 'nation', 'flagrantly', 'violated', 'happens', 'without', 'consequence', 'ukraine', 'could', 'happen', 'nations', 'gathered', 'today', 'basis', 'sanctions', 'united', 'states', 'partners', 'impose', 'russia', 'desire', 'return', 'cold', 'war', 'within', 'russia', 'state-controlled', 'media', 'may', 'describe', 'events', 'example', 'resurgent', 'russia', 'view', 'shared', 'way', 'number', 'united', 'states', 'politicians', 'commentators', 'always', 'deeply', 'sceptical', 'russia', 'seem', 'convinced', 'new', 'cold', 'war', 'fact', 'upon', 'us', 'yet', 'look', 'results', 'ukrainian', 'people', 'interested', 'ever', 'aligning', 'europe', 'instead', 'russia', 'sanctions', 'led', 'capital', 'flight', 'contracting', 'economy', 'fallen', 'rouble', 'emigration', 'educated', 'russians', 'imagine', 'instead', 'russia', 'engaged', 'true', 'diplomacy', 'worked', 'ukraine', 'international', 'community', 'ensure', 'interests', 'protected', 'would', 'better', 'ukraine', 'also', 'better', 'russia', 'better', 'world', 'continue', 'press', 'crisis', 'resolved', 'way', 'allows', 'sovereign', 'democratic', 'ukraine', 'determine', 'future', 'control', 'territory', 'want', 'isolate', 'russia', 'want', 'strong', 'russia', 'invested', 'working', 'us', 'strengthen', 'international', 'system', 'whole', 'similarly', 'south', 'china', 'sea', 'united', 'states', 'makes', 'claim', 'territory', 'adjudicate', 'claims', 'like', 'every', 'nation', 'gathered', 'interest', 'upholding', 'basic', 'principles', 'freedom', 'navigation', 'free', 'flow', 'commerce', 'resolving', 'disputes', 'international', 'law', 'law', 'force', 'defend', 'principles', 'encouraging', 'china', 'claimants', 'resolve', 'differences', 'peacefully', 'say', 'recognizing', 'diplomacy', 'hard', 'outcomes', 'sometimes', 'unsatisfying', 'rarely', 'politically', 'popular', 'believe', 'leaders', 'large', 'nations', 'particular', 'obligation', 'take', 'risks', 'precisely', 'strong', 'enough', 'protect', 'interests', 'diplomacy', 'fails', 'also', 'believe', 'move', 'forward', 'new', 'era', 'strong', 'enough', 'acknowledge', 'working', 'years', 'united', 'states', 'pursued', 'cuba', 'policy', 'failed', 'improve', 'lives', 'cuban', 'people', 'changed', 'continue', 'differences', 'cuban', 'government', 'continue', 'stand', 'human', 'rights', 'address', 'issues', 'diplomatic', 'relations', 'increased', 'commerce', 'people-to-people', 'ties', 'contacts', 'yield', 'progress', 'confident', 'congress', 'inevitably', 'lift', 'embargo', 'place', 'change', 'come', 'overnight', 'cuba', 'confident', 'openness', 'coercion', 'support', 'reforms', 'better', 'life', 'cuban', 'people', 'deserve', 'believe', 'cuba', 'find', 'success', 'pursues', 'cooperation', 'nations', 'interest', 'major', 'powers', 'uphold', 'international', 'standards', 'even', 'true', 'rest', 'community', 'nations', 'look', 'around', 'world', 'singapore', 'colombia', 'senegal', 'facts', 'show', 'nations', 'succeed', 'pursue', 'inclusive', 'peace', 'prosperity', 'within', 'borders', 'work', 'cooperatively', 'countries', 'beyond', 'borders', 'path', 'available', 'nation', 'iran', 'moment', 'continues', 'deploy', 'violent', 'proxies', 'advance', 'interests', 'efforts', 'may', 'appear', 'give', 'leverage', 'disputes', 'neighbours', 'fuel', 'sectarian', 'conflict', 'endangers', 'entire', 'region', 'isolates', 'iran', 'promise', 'trade', 'commerce', 'iranian', 'people', 'proud', 'history', 'filled', 'extraordinary', 'potential', 'chanting', 'death', 'america', 'create', 'jobs', 'make', 'iran', 'secure', 'iran', 'chooses', 'different', 'path', 'good', 'security', 'region', 'good', 'iranian', 'people', 'good', 'world', 'course', 'around', 'globe', 'continue', 'confronted', 'nations', 'reject', 'lessons', 'history', 'places', 'civil', 'strife', 'border', 'disputes', 'sectarian', 'wars', 'give', 'rise', 'terrorist', 'enclaves', 'humanitarian', 'disasters', 'order', 'completely', 'broken', 'must', 'act', 'stronger', 'act', 'together', 'efforts', 'united', 'states', 'always', 'part', 'mindful', 'lessons', 'past', 'lessons', 'iraq', 'also', 'example', 'libya', 'joined', 'international', 'coalition', 'united', 'nations', 'mandate', 'prevent', 'slaughter', 'even', 'helped', 'libyan', 'people', 'bring', 'end', 'reign', 'tyrant', 'coalition', 'could', 'done', 'fill', 'vacuum', 'left', 'behind', 'grateful', 'united', 'nations', 'efforts', 'forge', 'unity', 'government', 'help', 'legitimate', 'libyan', 'government', 'works', 'bring', 'country', 'together', 'also', 'recognize', 'must', 'work', 'effectively', 'future', 'international', 'community', 'build', 'capacity', 'states', 'distress', 'collapse', 'celebrate', 'fact', 'later', 'today', 'united', 'states', 'join', 'countries', 'enlist', 'new', 'capabilities', 'infantry', 'intelligence', 'helicopters', 'hospitals', 'tens', 'thousands', 'troops', 'strengthen', 'united', 'nations', 'peacekeeping', 'new', 'capabilities', 'prevent', 'mass', 'killing', 'ensure', 'peace', 'agreements', 'words', 'paper', 'together', 'together', 'must', 'strengthen', 'collective', 'capacity', 'establish', 'security', 'order', 'broken', 'support', 'seek', 'lasting', 'peace', 'nowhere', 'commitment', 'international', 'order', 'tested', 'syria', 'dictator', 'slaughters', 'tens', 'thousands', 'people', 'matter', 'one', 'nation', 'internal', 'affairs', 'breeds', 'human', 'suffering', 'order', 'magnitude', 'affects', 'us', 'likewise', 'terrorist', 'group', 'beheads', 'captives', 'slaughters', 'innocent', 'enslaves', 'women', 'single', 'nation', 'national', 'security', 'problem', 'assault', 'humankind', 'whole', 'said', 'repeat', 'room', 'accommodate', 'apocalyptic', 'cult', 'like', 'islamic', 'state', 'iraq', 'levant', 'isil', 'united', 'states', 'makes', 'apologies', 'using', 'military', 'part', 'broad', 'coalition', 'go', 'determination', 'ensure', 'never', 'safe', 'terrorists', 'carry', 'crimes', 'demonstrated', 'decade', 'relentless', 'pursuit', 'al-qaida', 'outlasted', 'extremists', 'military', 'power', 'necessary', 'sufficient', 'resolve', 'situation', 'syria', 'lasting', 'stability', 'take', 'hold', 'people', 'syria', 'forge', 'agreement', 'live', 'together', 'peacefully', 'united', 'states', 'prepared', 'work', 'nation', 'including', 'russia', 'iran', 'resolve', 'conflict', 'must', 'recognize', 'much', 'bloodshed', 'much', 'carnage', 'cannot', 'return', 'pre-war', 'status', 'quo', 'let', 'us', 'remember', 'started', 'al-assad', 'reacted', 'peaceful', 'protests', 'escalating', 'repression', 'killing', 'turn', 'created', 'environment', 'current', 'strife', 'al-assad', 'allies', 'cannot', 'simply', 'pacify', 'broad', 'majority', 'population', 'brutalized', 'chemical', 'weapons', 'indiscriminate', 'bombing', 'yes', 'realism', 'dictates', 'compromise', 'required', 'end', 'fighting', 'ultimately', 'stamp', 'isil', 'realism', 'also', 'requires', 'managed', 'transition', 'away', 'al-assad', 'new', 'leader', 'inclusive', 'government', 'recognizes', 'must', 'end', 'chaos', 'syrian', 'people', 'begin', 'rebuild', 'know', 'isil', 'emerged', 'chaos', 'iraq', 'syria', 'depends', 'perpetual', 'war', 'survive', 'also', 'know', 'gain', 'adherents', 'poisonous', 'ideology', 'part', 'job', 'together', 'work', 'reject', 'extremism', 'infects', 'many', 'young', 'people', 'part', 'effort', 'must', 'continued', 'rejection', 'muslims', 'distort', 'islam', 'preach', 'intolerance', 'promote', 'violence', 'must', 'also', 'involve', 'rejection', 'non-muslims', 'ignorance', 'equates', 'islam', 'terrorism', 'work', 'take', 'time', 'easy', 'answers', 'syria', 'simple', 'answers', 'changes', 'taking', 'place', 'much', 'middle', 'east', 'north', 'africa', 'many', 'families', 'need', 'help', 'right', 'time', 'united', 'states', 'increasing', 'number', 'refugees', 'welcome', 'within', 'borders', 'continue', 'largest', 'donor', 'assistance', 'support', 'refugees', 'today', 'launching', 'new', 'efforts', 'ensure', 'people', 'businesses', 'universities', 'non-governmental', 'organizations', 'help', 'well', 'faces', 'suffering', 'families', 'nation', 'immigrants', 'sees', 'course', 'old', 'ways', 'thinking', 'plight', 'powerless', 'plight', 'refugees', 'plight', 'marginalized', 'matter', 'periphery', 'world', 'concerns', 'today', 'concern', 'driven', 'conscience', 'also', 'driven', 'self-interest', 'helping', 'people', 'pushed', 'margins', 'world', 'mere', 'charity', 'matter', 'collective', 'security', 'purpose', 'institution', 'merely', 'avoid', 'conflict', 'galvanize', 'collective', 'action', 'makes', 'life', 'better', 'planet', 'commitments', 'made', 'sustainable', 'development', 'goals', 'speak', 'truth', 'believe', 'capitalism', 'greatest', 'creator', 'wealth', 'opportunity', 'world', 'ever', 'known', 'big', 'cities', 'rural', 'villages', 'around', 'world', 'also', 'know', 'prosperity', 'still', 'cruelly', 'reach', 'many', 'holiness', 'pope', 'francis', 'reminds', 'us', 'stronger', 'value', 'least', 'among', 'see', 'equal', 'dignity', 'sons', 'daughters', 'roll', 'back', 'preventable', 'disease', 'end', 'scourge', 'hiv', 'aids', 'stamp', 'pandemics', 'recognize', 'borders', 'work', 'may', 'television', 'right', 'demonstrated', 'reversing', 'spread', 'ebola', 'save', 'lives', 'anything', 'else', 'together', 'eradicate', 'extreme', 'poverty', 'erase', 'barriers', 'opportunity', 'requires', 'sustained', 'commitment', 'people', 'farmers', 'feed', 'people', 'entrepreneurs', 'start', 'business', 'without', 'paying', 'bribe', 'young', 'people', 'skills', 'need', 'succeed', 'modern', 'knowledge-based', 'economy', 'promote', 'growth', 'trade', 'meets', 'higher', 'standard', 'trans-pacific', 'partnership', 'trade', 'agreement', 'encompasses', 'nearly', 'per', 'cent', 'global', 'economy', 'agreement', 'open', 'markets', 'protecting', 'rights', 'workers', 'protecting', 'environment', 'enables', 'development', 'sustained', 'roll', 'back', 'pollution', 'put', 'skies', 'help', 'economies', 'lift', 'people', 'poverty', 'without', 'condemning', 'children', 'ravages', 'ever-warming', 'climate', 'ingenuity', 'produced', 'industrial', 'age', 'computer', 'age', 'allows', 'us', 'harness', 'potential', 'clean', 'energy', 'country', 'escape', 'ravages', 'climate', 'change', 'stronger', 'sign', 'leadership', 'putting', 'future', 'generations', 'first', 'united', 'states', 'work', 'every', 'nation', 'willing', 'part', 'come', 'together', 'paris', 'decisively', 'confront', 'challenge', 'finally', 'regarding', 'vision', 'future', 'assembly', 'belief', 'moving', 'forward', 'rather', 'backwards', 'requires', 'us', 'defend', 'democratic', 'principles', 'allow', 'societies', 'succeed', 'let', 'start', 'simple', 'premise', 'catastrophes', 'like', 'seeing', 'syria', 'take', 'place', 'countries', 'genuine', 'democracy', 'respect', 'universal', 'values', 'institution', 'supposed', 'defend', 'recognize', 'democracy', 'going', 'take', 'different', 'forms', 'different', 'parts', 'world', 'idea', 'people', 'governing', 'depends', 'upon', 'government', 'giving', 'expression', 'unique', 'culture', 'unique', 'history', 'unique', 'experiences', 'universal', 'truths', 'self-evident', 'person', 'wants', 'imprisoned', 'peaceful', 'worship', 'woman', 'ever', 'abused', 'impunity', 'girl', 'barred', 'attending', 'school', 'freedom', 'peacefully', 'petition', 'power', 'without', 'fear', 'arbitrary', 'laws', 'ideas', 'one', 'country', 'one', 'culture', 'fundamental', 'human', 'progress', 'cornerstone', 'institution', 'realize', 'many', 'parts', 'world', 'different', 'view', 'belief', 'strong', 'leadership', 'must', 'tolerate', 'dissent', 'hear', 'america', 'adversaries', 'privately', 'least', 'also', 'hear', 'friends', 'disagree', 'believe', 'government', 'suppresses', 'peaceful', 'dissent', 'showing', 'strength', 'showing', 'weakness', 'showing', 'fear', 'history', 'shows', 'regimes', 'fear', 'people', 'eventually', 'crumble', 'strong', 'institutions', 'built', 'consent', 'governed', 'endure', 'long', 'one', 'individual', 'gone', 'strongest', 'leaders', 'george', 'washington', 'nelson', 'mandela', 'elevated', 'importance', 'building', 'strong', 'democratic', 'institutions', 'thirst', 'perpetual', 'power', 'leaders', 'amend', 'constitutions', 'stay', 'office', 'acknowledge', 'failed', 'build', 'successful', 'country', 'people', 'none', 'us', 'lasts', 'forever', 'tells', 'us', 'power', 'something', 'cling', 'sake', 'rather', 'betterment', 'purport', 'serve', 'understand', 'democracy', 'frustrating', 'democracy', 'united', 'states', 'certainly', 'imperfect', 'times', 'dysfunctional', 'democracy', 'constant', 'struggle', 'extend', 'rights', 'people', 'give', 'people', 'voice', 'allowed', 'us', 'become', 'powerful', 'nation', 'world', 'simply', 'matter', 'principle', 'abstraction', 'democracy', 'inclusive', 'democracy', 'makes', 'countries', 'stronger', 'opposition', 'parties', 'seek', 'power', 'peacefully', 'ballot', 'country', 'draws', 'upon', 'new', 'ideas', 'free', 'media', 'inform', 'public', 'corruption', 'abuse', 'exposed', 'rooted', 'civil', 'society', 'thrives', 'communities', 'solve', 'problems', 'governments', 'cannot', 'necessarily', 'solve', 'alone', 'immigrants', 'welcomed', 'countries', 'productive', 'vibrant', 'girls', 'go', 'school', 'get', 'job', 'pursue', 'unlimited', 'opportunities', 'country', 'realizes', 'full', 'potential', 'believe', 'america', 'greatest', 'strength', 'everybody', 'america', 'agrees', 'part', 'democracy', 'believe', 'fact', 'one', 'walk', 'streets', 'city', 'right', 'pass', 'churches', 'synagogues', 'temples', 'mosques', 'people', 'worship', 'freely', 'fact', 'nation', 'immigrants', 'mirrors', 'diversity', 'world', 'one', 'find', 'people', 'everywhere', 'new', 'york', 'city', 'fact', 'country', 'everybody', 'contribute', 'everybody', 'participate', 'matter', 'look', 'like', 'love', 'makes', 'us', 'strong', 'believe', 'true', 'america', 'true', 'virtually', 'mature', 'democracies', 'accident', 'proud', 'nations', 'without', 'defining', 'opposition', 'group', 'patriotic', 'without', 'demonizing', 'someone', 'else', 'cherish', 'identities', 'religion', 'ethnicity', 'traditions', 'without', 'putting', 'others', 'systems', 'premised', 'notion', 'absolute', 'power', 'corrupt', 'people', 'ordinary', 'people', 'fundamentally', 'good', 'value', 'family', 'friendship', 'faith', 'dignity', 'hard', 'work', 'appropriate', 'checks', 'balances', 'governments', 'reflect', 'goodness', 'believe', 'future', 'must', 'seek', 'together', 'believe', 'dignity', 'every', 'individual', 'believe', 'bridge', 'differences', 'choose', 'cooperation', 'conflict', 'weakness', 'strength', 'practical', 'necessity', 'interconnected', 'world', 'people', 'understand', 'think', 'liberian', 'doctor', 'went', 'door', 'door', 'search', 'ebola', 'cases', 'tell', 'families', 'show', 'symptoms', 'think', 'iranian', 'shopkeeper', 'said', 'nuclear', 'deal', 'god', 'willing', 'able', 'offer', 'many', 'goods', 'better', 'prices', 'think', 'americans', 'lowered', 'flag', 'embassy', 'havana', 'year', 'born', 'returned', 'summer', 'raise', 'flag', 'back', 'one', 'men', 'said', 'cuban', 'people', 'could', 'things', 'could', 'things', 'us', 'loved', 'years', 'ignored', 'fact', 'think', 'families', 'leaving', 'everything', 'known', 'behind', 'risking', 'barren', 'deserts', 'stormy', 'waters', 'find', 'shelter', 'save', 'children', 'one', 'syrian', 'refugee', 'met', 'hamburg', 'warm', 'greetings', 'shelter', 'said', 'feel', 'still', 'people', 'love', 'people', 'people', 'united', 'nations', 'different', 'told', 'made', 'fear', 'taught', 'hate', 'also', 'respond', 'hope', 'history', 'littered', 'failure', 'false', 'prophets', 'fallen', 'empires', 'believed', 'might', 'always', 'makes', 'right', 'continue', 'case', 'count', 'called', 'upon', 'offer', 'different', 'type', 'leadership', 'leadership', 'strong', 'enough', 'recognize', 'nations', 'share', 'common', 'interests', 'people', 'share', 'common', 'humanity', 'yes', 'certain', 'ideas', 'principles', 'universal', 'shaped', 'united', 'nations', 'years', 'ago', 'understood', 'let', 'us', 'carry', 'faith', 'forward', 'future', 'way', 'ensure', 'future', 'brighter', 'children', 'everyone', 'children']\n"
     ]
    }
   ],
   "source": [
    "text_tokens = df.query(\"year==2015 and country=='USA'\")['tokens'].values[0]\n",
    "\n",
    "print(text_tokens)"
   ]
  },
  {
   "cell_type": "code",
   "execution_count": 169,
   "id": "d95cc776-4a08-480d-8fd7-6abcb7dc8308",
   "metadata": {},
   "outputs": [
    {
     "name": "stdout",
     "output_type": "stream",
     "text": [
      "Displaying 25 of 38 matches:\n",
      "gence strong democracies accountable people foreign power building international\n",
      "order recognizes dignity equal worth people work seven decades ideal body best p\n",
      "ressed global economy lifted billion people poverty international principles hel\n",
      "igrants ominously see fears ordinary people exploited appeals sectarianism triba\n",
      "poses corruption raises expectations people around globe technology social media\n",
      "logy social media irreducible desire people everywhere make choices governed ind\n",
      "als strength nations depends success people knowledge innovation imagination cre\n",
      "t upon us yet look results ukrainian people interested ever aligning europe inst\n",
      "ba policy failed improve lives cuban people changed continue differences cuban g\n",
      "on support reforms better life cuban people deserve believe cuba find success pu\n",
      " iran promise trade commerce iranian people proud history filled extraordinary p\n",
      "th good security region good iranian people good world course around globe conti\n",
      "prevent slaughter even helped libyan people bring end reign tyrant coalition cou\n",
      "a dictator slaughters tens thousands people matter one nation internal affairs b\n",
      "on syria lasting stability take hold people syria forge agreement live together \n",
      "ent recognizes must end chaos syrian people begin rebuild know isil emerged chao\n",
      " reject extremism infects many young people part effort must continued rejection\n",
      "s today launching new efforts ensure people businesses universities non-governme\n",
      "ce also driven self-interest helping people pushed margins world mere charity ma\n",
      "tunity requires sustained commitment people farmers feed people entrepreneurs st\n",
      "ained commitment people farmers feed people entrepreneurs start business without\n",
      " business without paying bribe young people skills need succeed modern knowledge\n",
      "lution put skies help economies lift people poverty without condemning children \n",
      "ent forms different parts world idea people governing depends upon government gi\n",
      "wing fear history shows regimes fear people eventually crumble strong institutio\n"
     ]
    }
   ],
   "source": [
    "text_token=Text(text_tokens)\n",
    "text_token.concordance([\"people\"],width=80)"
   ]
  },
  {
   "cell_type": "code",
   "execution_count": 170,
   "id": "d5d0161d-9158-43ba-bfe1-ebae95a65bb1",
   "metadata": {},
   "outputs": [
    {
     "name": "stdout",
     "output_type": "stream",
     "text": [
      "Displaying 2 of 2 matches:\n",
      "ed global economy lifted billion people poverty international principles helped \n",
      "on put skies help economies lift people poverty without condemning children rava\n"
     ]
    }
   ],
   "source": [
    "text_token=Text(text_tokens)\n",
    "text_token.concordance([\"people\",\"poverty\"],width=80)"
   ]
  },
  {
   "cell_type": "code",
   "execution_count": 171,
   "id": "3599931d-1b95-4a47-b5c9-a86c1685b7f9",
   "metadata": {},
   "outputs": [
    {
     "data": {
      "text/plain": [
       "[('united', 'states'),\n",
       " ('major', 'powers'),\n",
       " ('united', 'nations'),\n",
       " ('international', 'order'),\n",
       " ('strong', 'enough'),\n",
       " ('non-governmental', 'organizations'),\n",
       " ('share', 'common'),\n",
       " ('civil', 'society'),\n",
       " ('seven', 'decades'),\n",
       " ('tens', 'thousands'),\n",
       " ('international', 'system'),\n",
       " ('around', 'globe'),\n",
       " ('could', 'things'),\n",
       " ('control', 'territory'),\n",
       " ('men', 'women'),\n",
       " ('cold', 'war'),\n",
       " ('roll', 'back'),\n",
       " ('new', 'capabilities'),\n",
       " ('ever', 'known'),\n",
       " ('old', 'ways')]"
      ]
     },
     "execution_count": 171,
     "metadata": {},
     "output_type": "execute_result"
    }
   ],
   "source": [
    "text_token.collocation_list()"
   ]
  },
  {
   "cell_type": "code",
   "execution_count": 172,
   "id": "d676888e",
   "metadata": {},
   "outputs": [
    {
     "data": {
      "text/plain": [
       "[('united', 'states'), ('major', 'powers'), ('united', 'nations')]"
      ]
     },
     "execution_count": 172,
     "metadata": {},
     "output_type": "execute_result"
    }
   ],
   "source": [
    "text_token.collocation_list()[:3]"
   ]
  },
  {
   "cell_type": "markdown",
   "id": "a12ba5ee",
   "metadata": {},
   "source": [
    "# Analysing N-grams"
   ]
  },
  {
   "cell_type": "markdown",
   "id": "7e7629d7",
   "metadata": {},
   "source": [
    "- Extension of frequency analysis to short sequences of two or three words\n",
    "- two types of word sequences:\n",
    "    1. **compound**\n",
    "    2. **collocations**\n",
    "\n",
    "- A **compound** is a combination of two or more more words with a specific meaning:\n",
    "    - in closed form: *earthquake*\n",
    "    - in hyphenated form: *self-confident*\n",
    "    - in open form: *climate change*\n",
    "\n",
    "- Consequence: two tokens are to be considered as a *single* unit\n",
    "\n",
    "        \n",
    "\n",
    "- A **colocation** are words that are frequently used together\n",
    "    - adjective+noun, adjective+noun: *red carpet*, *united nations*\n",
    "\n",
    "\n",
    "- *unigrams*: a sequence of length 1\n",
    "- *bigrams*: a sequence of length 2\n",
    "- *trigrams*: a sequence of length 3\n",
    "   \n",
    "\n",
    "### Function to produce n-grams"
   ]
  },
  {
   "cell_type": "code",
   "execution_count": 128,
   "id": "33651101",
   "metadata": {},
   "outputs": [],
   "source": [
    "def ngrams(tokens,n=2,sep=' '):\n",
    "    return[sep.join(ngram) for ngram in zip(*[tokens[i:] for i in range(n)])]"
   ]
  },
  {
   "cell_type": "code",
   "execution_count": 132,
   "id": "a0d6acf5",
   "metadata": {},
   "outputs": [
    {
     "name": "stdout",
     "output_type": "stream",
     "text": [
      "['the visible', 'visible manifestation', 'manifestation of', 'of the', 'the global', 'global climate', 'climate change']\n"
     ]
    }
   ],
   "source": [
    "text = \"the visible manifestation of the global climate change\"\n",
    "tokens = tokenize(text)\n",
    "print(ngrams(tokens,2))"
   ]
  },
  {
   "cell_type": "code",
   "execution_count": null,
   "id": "f9d1c810-ee07-4452-abc3-1c4562a5d89c",
   "metadata": {},
   "outputs": [],
   "source": [
    "print(\"|\".join(ngrams(tokens,2,sep=)))"
   ]
  },
  {
   "cell_type": "code",
   "execution_count": 96,
   "id": "3752483a-d40f-4971-ab89-f7859e18769a",
   "metadata": {},
   "outputs": [
    {
     "name": "stdout",
     "output_type": "stream",
     "text": [
      "['the', 'visible', 'manifestation', 'of', 'the', 'global', 'climate', 'change']\n"
     ]
    }
   ],
   "source": [
    "text = \"the visible manifestation of the global climate change\"\n",
    "tokens = tokenize(text)\n",
    "print(tokens)"
   ]
  },
  {
   "cell_type": "code",
   "execution_count": 117,
   "id": "8da952b2-7cae-437a-848f-5b8fde1a0d71",
   "metadata": {},
   "outputs": [
    {
     "data": {
      "text/plain": [
       "[('the', 'visible'),\n",
       " ('visible', 'manifestation'),\n",
       " ('manifestation', 'of'),\n",
       " ('of', 'the'),\n",
       " ('the', 'global'),\n",
       " ('global', 'climate'),\n",
       " ('climate', 'change')]"
      ]
     },
     "execution_count": 117,
     "metadata": {},
     "output_type": "execute_result"
    }
   ],
   "source": [
    "n=2\n",
    "ngram= zip(*[tokens[i:] for i in range(n)])\n",
    "list(ngram)"
   ]
  },
  {
   "cell_type": "code",
   "execution_count": 113,
   "id": "ec1c2d36-75ec-4cb2-a9e8-2c2db9463254",
   "metadata": {},
   "outputs": [
    {
     "name": "stdout",
     "output_type": "stream",
     "text": [
      "0\n",
      "1\n"
     ]
    }
   ],
   "source": [
    "for i in range(2):\n",
    "    print(i)"
   ]
  },
  {
   "cell_type": "code",
   "execution_count": 114,
   "id": "a6f1e332-1a79-4d2f-98a2-ea7a9ea34515",
   "metadata": {},
   "outputs": [
    {
     "data": {
      "text/plain": [
       "['the', 'visible', 'manifestation', 'of', 'the', 'global', 'climate', 'change']"
      ]
     },
     "execution_count": 114,
     "metadata": {},
     "output_type": "execute_result"
    }
   ],
   "source": [
    "tokens[0:]"
   ]
  },
  {
   "cell_type": "code",
   "execution_count": 115,
   "id": "3a4ff061-e3bd-4eb1-90f5-0afbc0a01510",
   "metadata": {},
   "outputs": [
    {
     "data": {
      "text/plain": [
       "['visible', 'manifestation', 'of', 'the', 'global', 'climate', 'change']"
      ]
     },
     "execution_count": 115,
     "metadata": {},
     "output_type": "execute_result"
    }
   ],
   "source": [
    "tokens[1:]"
   ]
  },
  {
   "cell_type": "code",
   "execution_count": 125,
   "id": "bbbd93c2-a62e-4c45-9f27-c4a34381f731",
   "metadata": {},
   "outputs": [
    {
     "name": "stdout",
     "output_type": "stream",
     "text": [
      "[('the', 'visible'), ('visible', 'manifestation'), ('manifestation', 'of'), ('of', 'the'), ('the', 'global'), ('global', 'climate'), ('climate', 'change')]\n"
     ]
    }
   ],
   "source": [
    "n=2\n",
    "a= zip(*[tokens[i:] for i in range(n)])\n",
    "print(list(a))"
   ]
  },
  {
   "cell_type": "code",
   "execution_count": 98,
   "id": "e811a5ed-cf30-424b-b534-5a3ac22d7aa8",
   "metadata": {},
   "outputs": [
    {
     "name": "stdout",
     "output_type": "stream",
     "text": [
      "['the visible', 'visible manifestation', 'manifestation of', 'of the', 'the global', 'global climate', 'climate change']\n"
     ]
    }
   ],
   "source": [
    "bigram=ngrams(tokens)\n",
    "print(bigram)"
   ]
  },
  {
   "cell_type": "markdown",
   "id": "1a4bc992",
   "metadata": {},
   "source": [
    "- Problem: the bigrams contain stop words\n",
    "- better to build bigrams without stop words\n",
    "- if we eliminate stop words from the original text => risk to obtain erroneous bigrams\n",
    "- solution to avoid this problem:\n",
    "    1. to compute all bigrams for the text, even those with stop words\n",
    "    2. to eliminate bigrams with stop words"
   ]
  },
  {
   "cell_type": "code",
   "execution_count": 88,
   "id": "148ff2b0",
   "metadata": {},
   "outputs": [],
   "source": [
    "def ngrams(tokens,n=2,sep=' ', stopwords=set()):\n",
    "    return [sep.join(ngram) for ngram in zip(*[tokens[i:] for i in range(n)]) if len([t for t in ngram if t in stopwords])==0]"
   ]
  },
  {
   "cell_type": "code",
   "execution_count": 89,
   "id": "f4a72b01",
   "metadata": {},
   "outputs": [
    {
     "name": "stdout",
     "output_type": "stream",
     "text": [
      "visible manifestation|global climate|climate change\n"
     ]
    }
   ],
   "source": [
    "print(\"|\".join(ngrams(tokens,2,stopwords=stopwords_spa)))\n"
   ]
  },
  {
   "cell_type": "code",
   "execution_count": 90,
   "id": "a40af82e",
   "metadata": {},
   "outputs": [],
   "source": [
    "df['bigrams']=df['text'].apply(prepare,pipeline=[str.lower,tokenize]).apply(ngrams,n=2,stopwords=stopwords_spa)"
   ]
  },
  {
   "cell_type": "code",
   "execution_count": 91,
   "id": "20845c20",
   "metadata": {},
   "outputs": [
    {
     "data": {
      "text/plain": [
       "6311    [mr ganev, sincere congratulations, well-deser...\n",
       "715     [sri lanka, lanka congratulates, high office, ...\n",
       "5248    [mr president, dominican republic, general ass...\n",
       "2599    [important occasion, occasion allow, well- des...\n",
       "1695    [united nations, important events, debate soci...\n",
       "Name: bigrams, dtype: object"
      ]
     },
     "execution_count": 91,
     "metadata": {},
     "output_type": "execute_result"
    }
   ],
   "source": [
    "df['bigrams'].sample(5)"
   ]
  },
  {
   "cell_type": "code",
   "execution_count": 93,
   "id": "8095d696",
   "metadata": {},
   "outputs": [
    {
     "data": {
      "text/html": [
       "<div>\n",
       "<style scoped>\n",
       "    .dataframe tbody tr th:only-of-type {\n",
       "        vertical-align: middle;\n",
       "    }\n",
       "\n",
       "    .dataframe tbody tr th {\n",
       "        vertical-align: top;\n",
       "    }\n",
       "\n",
       "    .dataframe thead th {\n",
       "        text-align: right;\n",
       "    }\n",
       "</style>\n",
       "<table border=\"1\" class=\"dataframe\">\n",
       "  <thead>\n",
       "    <tr style=\"text-align: right;\">\n",
       "      <th></th>\n",
       "      <th>freq</th>\n",
       "    </tr>\n",
       "    <tr>\n",
       "      <th>token</th>\n",
       "      <th></th>\n",
       "    </tr>\n",
       "  </thead>\n",
       "  <tbody>\n",
       "    <tr>\n",
       "      <th>united nations</th>\n",
       "      <td>103236</td>\n",
       "    </tr>\n",
       "    <tr>\n",
       "      <th>international community</th>\n",
       "      <td>27786</td>\n",
       "    </tr>\n",
       "    <tr>\n",
       "      <th>general assembly</th>\n",
       "      <td>27096</td>\n",
       "    </tr>\n",
       "    <tr>\n",
       "      <th>security council</th>\n",
       "      <td>20961</td>\n",
       "    </tr>\n",
       "    <tr>\n",
       "      <th>human rights</th>\n",
       "      <td>19856</td>\n",
       "    </tr>\n",
       "  </tbody>\n",
       "</table>\n",
       "</div>"
      ],
      "text/plain": [
       "                           freq\n",
       "token                          \n",
       "united nations           103236\n",
       "international community   27786\n",
       "general assembly          27096\n",
       "security council          20961\n",
       "human rights              19856"
      ]
     },
     "execution_count": 93,
     "metadata": {},
     "output_type": "execute_result"
    }
   ],
   "source": [
    "count_words(df,'bigrams').head(5)"
   ]
  },
  {
   "cell_type": "markdown",
   "id": "4c2b65b9",
   "metadata": {},
   "source": [
    "#### Computation of the TF-IDF for the bigrams"
   ]
  },
  {
   "cell_type": "code",
   "execution_count": 133,
   "id": "2d4e7903",
   "metadata": {},
   "outputs": [
    {
     "ename": "NameError",
     "evalue": "name 'idf_df' is not defined",
     "output_type": "error",
     "traceback": [
      "\u001b[1;31m---------------------------------------------------------------------------\u001b[0m",
      "\u001b[1;31mNameError\u001b[0m                                 Traceback (most recent call last)",
      "Cell \u001b[1;32mIn[133], line 1\u001b[0m\n\u001b[1;32m----> 1\u001b[0m idf_df\u001b[38;5;241m=\u001b[39mpd\u001b[38;5;241m.\u001b[39mconcat([idf_df,compute_idf(df,\u001b[38;5;124m'\u001b[39m\u001b[38;5;124mbigrams\u001b[39m\u001b[38;5;124m'\u001b[39m,min_df\u001b[38;5;241m=\u001b[39m\u001b[38;5;241m10\u001b[39m)])\n\u001b[0;32m      3\u001b[0m freq_df \u001b[38;5;241m=\u001b[39m count_words(df[df[\u001b[38;5;124m'\u001b[39m\u001b[38;5;124myear\u001b[39m\u001b[38;5;124m'\u001b[39m]\u001b[38;5;241m==\u001b[39m\u001b[38;5;241m2015\u001b[39m],\u001b[38;5;124m'\u001b[39m\u001b[38;5;124mbigrams\u001b[39m\u001b[38;5;124m'\u001b[39m)\n\u001b[0;32m      4\u001b[0m freq_df[\u001b[38;5;124m'\u001b[39m\u001b[38;5;124mtidf\u001b[39m\u001b[38;5;124m'\u001b[39m]\u001b[38;5;241m=\u001b[39mfreq_df[\u001b[38;5;124m'\u001b[39m\u001b[38;5;124mfreq\u001b[39m\u001b[38;5;124m'\u001b[39m]\u001b[38;5;241m*\u001b[39midf_df[\u001b[38;5;124m'\u001b[39m\u001b[38;5;124midf\u001b[39m\u001b[38;5;124m'\u001b[39m]\n",
      "\u001b[1;31mNameError\u001b[0m: name 'idf_df' is not defined"
     ]
    }
   ],
   "source": [
    "idf_df=pd.concat([idf_df,compute_idf(df,'bigrams',min_df=10)])\n",
    "\n",
    "freq_df = count_words(df[df['year']==2015],'bigrams')\n",
    "freq_df['tidf']=freq_df['freq']*idf_df['idf']\n",
    "wordcloud(freq_df['tidf'],title = 'all bigrams',max_words=50)"
   ]
  },
  {
   "cell_type": "code",
   "execution_count": 95,
   "id": "c080b9a6",
   "metadata": {},
   "outputs": [
    {
     "data": {
      "image/png": "[encoded data removed]",
      "text/plain": [
       "<Figure size 640x480 with 1 Axes>"
      ]
     },
     "metadata": {},
     "output_type": "display_data"
    }
   ],
   "source": [
    "where= freq_df.index.str.contains('climate')\n",
    "wordcloud(freq_df[where]['freq'],title = 'Climate bigrams',max_words=50)"
   ]
  },
  {
   "cell_type": "markdown",
   "id": "2528dfdc",
   "metadata": {},
   "source": [
    "# Comparing Frequencies across time intervals and categories\n",
    "\n",
    "- We can define a set of keywords\n",
    "- We can measure the frequency of these keywords over time\n",
    "\n",
    "#### Counting a set of given keywords"
   ]
  },
  {
   "cell_type": "code",
   "execution_count": 134,
   "id": "49b7ceda",
   "metadata": {},
   "outputs": [],
   "source": [
    "def count_keywords(tokens,keywords):\n",
    "    tokens =[t for t in tokens if t in keywords]\n",
    "    counter = Counter(tokens)\n",
    "    return [counter.get(k,0) for k in keywords]"
   ]
  },
  {
   "cell_type": "code",
   "execution_count": 135,
   "id": "215ef6e6",
   "metadata": {},
   "outputs": [
    {
     "name": "stdout",
     "output_type": "stream",
     "text": [
      "[1, 0, 3, 2]\n"
     ]
    }
   ],
   "source": [
    "keywords=['nuclear','terrorism','climate','freedom']\n",
    "tokens=['nuclear','climate','climate','freedom','climate','freedom']\n",
    "print(count_keywords(tokens,keywords))"
   ]
  },
  {
   "cell_type": "markdown",
   "id": "757b9207",
   "metadata": {},
   "source": [
    "- If we apply this function to each of our documents in our DataFrame, we obtain a matrix of counts\n",
    "- The matrix is then converted into a DataFrame and aggregated and sorted by the selected grouping column"
   ]
  },
  {
   "cell_type": "code",
   "execution_count": 136,
   "id": "fc16802d",
   "metadata": {},
   "outputs": [],
   "source": [
    "def count_keywords_by(df,by,keywords,column='tokens'):\n",
    "    freq_matrix=df[column].apply(count_keywords,keywords=keywords)\n",
    "    freq_df=pd.DataFrame.from_records(freq_matrix,columns=keywords)\n",
    "    freq_df[by]=df[by]\n",
    "    \n",
    "    return freq_df.groupby(by=by).sum().sort_values(by)"
   ]
  },
  {
   "cell_type": "code",
   "execution_count": 137,
   "id": "b27aada6",
   "metadata": {},
   "outputs": [],
   "source": [
    "freq_df=count_keywords_by(df,by='year',keywords=keywords)"
   ]
  },
  {
   "cell_type": "code",
   "execution_count": 100,
   "id": "7bd2c32e",
   "metadata": {},
   "outputs": [
    {
     "name": "stdout",
     "output_type": "stream",
     "text": [
      "      nuclear  terrorism  climate  freedom\n",
      "year                                      \n",
      "1970      192          7       18      128\n",
      "1971      275          9       35      205\n",
      "1972      393        379       74      280\n",
      "1973      347        124       79      266\n",
      "1974      478         24       71      316\n",
      "1975      578         20       53      232\n",
      "1976      451        146       57      347\n",
      "1977      675         75       58      321\n",
      "1978      550         82       52      309\n",
      "1979      492         40       81      366\n",
      "1980      613         47      105      350\n",
      "1981      717         96      122      349\n",
      "1982      657         83      119      280\n",
      "1983      776         42      112      354\n",
      "1984      890        113      115      314\n",
      "1985      809        144      104      301\n",
      "1986      807        356      103      270\n",
      "1987      652        154      102      302\n",
      "1988      562        112      222      236\n",
      "1989      399        156      287      282\n",
      "1990      269         51      177      297\n",
      "1991      396         41      162      360\n",
      "1992      325         38      116      244\n",
      "1993      389         64       97      211\n",
      "1994      428         85       72      185\n",
      "1995      634         99       83      147\n",
      "1996      593        233       85      110\n",
      "1997      267        165       85       86\n",
      "1998      593        459       96      150\n",
      "1999      315        194       82      169\n",
      "2000      268        127       61      107\n",
      "2001      114       1477       83      115\n",
      "2002      150        898       81       94\n",
      "2003      204        671       76      142\n",
      "2004      157        743       78      128\n",
      "2005      262        609       86      179\n",
      "2006      225        479      102      132\n",
      "2007      246        353      788      142\n",
      "2008      147        290      565      145\n",
      "2009      431        197      861      100\n",
      "2010      414        249      618      119\n",
      "2011      227        257      510      283\n",
      "2012      254        198      340      305\n",
      "2013      260        216      349      177\n",
      "2014      144        404      654      129\n",
      "2015      246        378      662      148\n"
     ]
    }
   ],
   "source": [
    "print(freq_df)"
   ]
  },
  {
   "cell_type": "code",
   "execution_count": 101,
   "id": "f527564b",
   "metadata": {},
   "outputs": [
    {
     "data": {
      "text/plain": [
       "<Axes: xlabel='year'>"
      ]
     },
     "execution_count": 101,
     "metadata": {},
     "output_type": "execute_result"
    },
    {
     "data": {
      "image/png": "[encoded data removed]",
      "text/plain": [
       "<Figure size 640x480 with 1 Axes>"
      ]
     },
     "metadata": {},
     "output_type": "display_data"
    }
   ],
   "source": [
    "freq_df.plot(kind='line')"
   ]
  },
  {
   "cell_type": "markdown",
   "id": "104aa7fb",
   "metadata": {},
   "source": [
    "#### Creating frequency heatmaps"
   ]
  },
  {
   "cell_type": "code",
   "execution_count": 102,
   "id": "a2ba6c9f",
   "metadata": {},
   "outputs": [],
   "source": [
    "# Computation of relative frequencies\n",
    "freq_df=freq_df.div(df.groupby('year')['num_tokens'].sum(),axis=0)\n",
    "freq_df=freq_df.apply(np.sqrt) # sublinear scaling"
   ]
  },
  {
   "cell_type": "code",
   "execution_count": 103,
   "id": "2d60e893",
   "metadata": {},
   "outputs": [
    {
     "data": {
      "text/plain": [
       "<Axes: xlabel='year'>"
      ]
     },
     "execution_count": 103,
     "metadata": {},
     "output_type": "execute_result"
    },
    {
     "data": {
      "image/png": "[encoded data removed]",
      "text/plain": [
       "<Figure size 640x480 with 1 Axes>"
      ]
     },
     "metadata": {},
     "output_type": "display_data"
    }
   ],
   "source": [
    "sns.heatmap(data=freq_df.T, xticklabels=True, yticklabels=True,cbar=False,cmap=\"Reds\")"
   ]
  },
  {
   "cell_type": "code",
   "execution_count": null,
   "id": "0a34dc57",
   "metadata": {},
   "outputs": [],
   "source": [
    "#### Remarks:\n",
    "- relative frequencies are more informative than absolute as the number of documents can vary each year\n",
    "- keywords lists do not represent all the dimensions of a topic. Other words representative of a topic may be excluded from the keywords list.\n",
    "- some keywords may have different meanings according to the context\n",
    "- "
   ]
  }
 ],
 "metadata": {
  "kernelspec": {
   "display_name": "Python 3 (ipykernel)",
   "language": "python",
   "name": "python3"
  },
  "language_info": {
   "codemirror_mode": {
    "name": "ipython",
    "version": 3
   },
   "file_extension": ".py",
   "mimetype": "text/x-python",
   "name": "python",
   "nbconvert_exporter": "python",
   "pygments_lexer": "ipython3",
   "version": "3.11.7"
  }
 },
 "nbformat": 4,
 "nbformat_minor": 5
}
